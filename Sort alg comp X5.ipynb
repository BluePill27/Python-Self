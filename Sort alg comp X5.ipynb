{
 "cells": [
  {
   "cell_type": "code",
   "execution_count": 1,
   "metadata": {},
   "outputs": [],
   "source": [
    "import numpy as np\n",
    "import itertools\n",
    "import random\n",
    "from time import time"
   ]
  },
  {
   "cell_type": "code",
   "execution_count": 2,
   "metadata": {},
   "outputs": [],
   "source": [
    "a = [1,2,3,4] # могут быть не сортированными , макс а+b и по скорости(точно) и по памяти?\n",
    "b = [2,3,4,5]\n",
    "_sum = 7\n",
    "def func_1(a:list,b:list,_sum:int) ->bool:\n",
    "    \"\"\"\n",
    "    написать функцию которая выдает True/False когда сумма a[x]+b[x] == _sum\n",
    "    порассуждать по скорости и памяти\n",
    "    \"\"\"\n",
    "    #baseline\n",
    "    for i in a:\n",
    "        for j in b:\n",
    "            if i+j==_sum:\n",
    "                return True\n",
    "    return False"
   ]
  },
  {
   "cell_type": "code",
   "execution_count": 3,
   "metadata": {},
   "outputs": [
    {
     "data": {
      "text/plain": [
       "True"
      ]
     },
     "execution_count": 3,
     "metadata": {},
     "output_type": "execute_result"
    }
   ],
   "source": [
    "func_1(a,b,_sum)"
   ]
  },
  {
   "cell_type": "code",
   "execution_count": 4,
   "metadata": {},
   "outputs": [
    {
     "name": "stdout",
     "output_type": "stream",
     "text": [
      "True\n",
      "0.4300246238708496\n"
     ]
    }
   ],
   "source": [
    "n, m, sum_long = np.arange(1,123456), np.arange(1,123456), 5432\n",
    "random.Random(0).shuffle(n)\n",
    "random.Random(1).shuffle(m)\n",
    "\n",
    "before = time()\n",
    "print(func_1(n, m, sum_long))\n",
    "after = time()\n",
    "print(after - before)"
   ]
  },
  {
   "cell_type": "code",
   "execution_count": 5,
   "metadata": {},
   "outputs": [],
   "source": [
    "# более \"крутой\" код, жрет 9000 памяти\n",
    "def func_2(a:list,b:list,_sum:int) ->bool:\n",
    "    return _sum in [sum(x) for x in list(itertools.product(a, b))]"
   ]
  },
  {
   "cell_type": "code",
   "execution_count": 6,
   "metadata": {},
   "outputs": [
    {
     "data": {
      "text/plain": [
       "True"
      ]
     },
     "execution_count": 6,
     "metadata": {},
     "output_type": "execute_result"
    }
   ],
   "source": [
    "func_2(a,b,_sum)"
   ]
  },
  {
   "cell_type": "code",
   "execution_count": 7,
   "metadata": {},
   "outputs": [],
   "source": [
    "# before = time()\n",
    "# print(func_2(n, m, sum_long))\n",
    "# after = time()\n",
    "# print(after - before)"
   ]
  },
  {
   "cell_type": "code",
   "execution_count": 8,
   "metadata": {},
   "outputs": [],
   "source": [
    "def func_3(a:list,b:list,_sum:int) ->bool:\n",
    "    a, b = np.array(a)-_sum, -np.array(b) # вычтем поэлементно из а значение target, b = -b\n",
    "    for i in a:\n",
    "        for j in b:\n",
    "            if i==j:\n",
    "                return True\n",
    "    return False"
   ]
  },
  {
   "cell_type": "code",
   "execution_count": 9,
   "metadata": {},
   "outputs": [
    {
     "data": {
      "text/plain": [
       "True"
      ]
     },
     "execution_count": 9,
     "metadata": {},
     "output_type": "execute_result"
    }
   ],
   "source": [
    "func_3(a,b,_sum)"
   ]
  },
  {
   "cell_type": "code",
   "execution_count": 10,
   "metadata": {},
   "outputs": [
    {
     "name": "stdout",
     "output_type": "stream",
     "text": [
      "True\n",
      "0.1390078067779541\n"
     ]
    }
   ],
   "source": [
    "before = time()\n",
    "print(func_3(n, m, sum_long))\n",
    "after = time()\n",
    "print(after - before)"
   ]
  },
  {
   "cell_type": "code",
   "execution_count": 11,
   "metadata": {},
   "outputs": [],
   "source": [
    "n, m, sum_long = np.arange(1,123456), np.arange(1,123456), 5432\n",
    "random.Random(0).shuffle(n)\n",
    "random.Random(1).shuffle(m)\n",
    "\n",
    "def bin_search(tmp_list:list, tmp_int:int) ->bool:\n",
    "    left, right, middle = tmp_list[0], tmp_list[-1], tmp_list[len(tmp_list)//2]\n",
    "    if tmp_int == middle:\n",
    "        return True\n",
    "    elif len(tmp_list) == 1:\n",
    "        return False\n",
    "    elif tmp_int < middle:\n",
    "        return bin_search(tmp_list[0:len(tmp_list)//2], tmp_int)\n",
    "    else:\n",
    "        return bin_search(tmp_list[len(tmp_list)//2:len(tmp_list)], tmp_int)\n",
    "\n",
    "def rec_search(a:list,b:list,_sum:int) ->bool:\n",
    "    #a, b = sorted(a), sorted(b)\n",
    "    i = _sum\n",
    "    while i != 0:\n",
    "        if bin_search(a,i) and bin_search(b,_sum-i):\n",
    "            return True\n",
    "        i-=1\n",
    "    return False    "
   ]
  },
  {
   "cell_type": "code",
   "execution_count": 12,
   "metadata": {},
   "outputs": [
    {
     "name": "stdout",
     "output_type": "stream",
     "text": [
      "True\n",
      "False\n",
      "True\n",
      "True\n"
     ]
    }
   ],
   "source": [
    "print(bin_search(np.arange(1,123456), 5432))\n",
    "print(bin_search(np.arange(1,123456,2), 5432))\n",
    "print(bin_search(sorted(n), sum_long))\n",
    "print(bin_search(sorted(m), sum_long))"
   ]
  },
  {
   "cell_type": "code",
   "execution_count": 13,
   "metadata": {},
   "outputs": [
    {
     "data": {
      "text/plain": [
       "True"
      ]
     },
     "execution_count": 13,
     "metadata": {},
     "output_type": "execute_result"
    }
   ],
   "source": [
    "rec_search(sorted(a),sorted(b),_sum)"
   ]
  },
  {
   "cell_type": "code",
   "execution_count": 14,
   "metadata": {},
   "outputs": [
    {
     "name": "stdout",
     "output_type": "stream",
     "text": [
      "True\n",
      "0.13300728797912598\n"
     ]
    }
   ],
   "source": [
    "n, m, sum_long = np.arange(1,123456), np.arange(1,123456), 5432\n",
    "random.Random(0).shuffle(n)\n",
    "random.Random(1).shuffle(m)\n",
    "\n",
    "before = time()\n",
    "print(rec_search(sorted(n), sorted(m), sum_long))\n",
    "after = time()\n",
    "print(after - before)"
   ]
  },
  {
   "cell_type": "code",
   "execution_count": 15,
   "metadata": {},
   "outputs": [
    {
     "name": "stdout",
     "output_type": "stream",
     "text": [
      "True\n",
      "0.014000892639160156\n"
     ]
    }
   ],
   "source": [
    "n, m, sum_long = np.arange(1,123456), np.arange(1,123456), 5432\n",
    "random.Random(0).shuffle(n)\n",
    "random.Random(1).shuffle(m)\n",
    "\n",
    "before = time()\n",
    "n.sort()\n",
    "m.sort()\n",
    "print(rec_search(n, m, sum_long))\n",
    "after = time()\n",
    "print(after - before)"
   ]
  },
  {
   "cell_type": "code",
   "execution_count": 16,
   "metadata": {},
   "outputs": [],
   "source": [
    "def rec_search_2(a:list,b:list,_sum:int) ->bool:\n",
    "    a, b = np.array(a), np.array(b)\n",
    "    a, b = a[a < _sum-b[0]], b[b < _sum-a[0]] # нет смысла оставлять эелементы, сумма которых с min другого списка > _sum\n",
    "    i = _sum\n",
    "    while i != 0:\n",
    "        if bin_search(a,i) and bin_search(b,_sum-i):\n",
    "            return True\n",
    "        i-=1\n",
    "    return False  "
   ]
  },
  {
   "cell_type": "code",
   "execution_count": 17,
   "metadata": {},
   "outputs": [
    {
     "name": "stdout",
     "output_type": "stream",
     "text": [
      "True\n",
      "0.014000654220581055\n"
     ]
    }
   ],
   "source": [
    "n, m, sum_long = np.arange(1,123456), np.arange(1,123456), 5432\n",
    "random.Random(0).shuffle(n)\n",
    "random.Random(1).shuffle(m)\n",
    "\n",
    "before = time()\n",
    "n.sort()\n",
    "m.sort()\n",
    "print(rec_search_2(n, m, sum_long))\n",
    "after = time()\n",
    "print(after - before)"
   ]
  },
  {
   "cell_type": "code",
   "execution_count": 18,
   "metadata": {},
   "outputs": [],
   "source": [
    "def hash_search(a:list,b:list,_sum:int) ->bool:\n",
    "    dict_a = {}\n",
    "    for item in a:\n",
    "        dict_a[item] = True\n",
    "    for item in b:\n",
    "        if _sum-item in dict_a:\n",
    "            return True\n",
    "    return False    "
   ]
  },
  {
   "cell_type": "code",
   "execution_count": 19,
   "metadata": {},
   "outputs": [
    {
     "name": "stdout",
     "output_type": "stream",
     "text": [
      "True\n",
      "0.021001100540161133\n"
     ]
    }
   ],
   "source": [
    "n, m, sum_long = np.arange(1,123456), np.arange(1,123456), 5432\n",
    "random.Random(0).shuffle(n)\n",
    "random.Random(1).shuffle(m)\n",
    "\n",
    "before = time()\n",
    "print(hash_search(n, m, sum_long))\n",
    "after = time()\n",
    "print(after - before)"
   ]
  },
  {
   "cell_type": "code",
   "execution_count": 26,
   "metadata": {},
   "outputs": [
    {
     "data": {
      "text/plain": [
       "True"
      ]
     },
     "execution_count": 26,
     "metadata": {},
     "output_type": "execute_result"
    }
   ],
   "source": [
    "bin_search(np.arange(1,123456), 200-100)"
   ]
  },
  {
   "cell_type": "code",
   "execution_count": 27,
   "metadata": {},
   "outputs": [],
   "source": [
    "def search_I(a, b, _sum):\n",
    "    b.sort()\n",
    "    for x in a:\n",
    "        if bin_search(b, _sum - x):\n",
    "            return True\n",
    "    return False"
   ]
  },
  {
   "cell_type": "code",
   "execution_count": 28,
   "metadata": {},
   "outputs": [
    {
     "name": "stdout",
     "output_type": "stream",
     "text": [
      "True\n",
      "0.00700068473815918\n"
     ]
    }
   ],
   "source": [
    "n, m, sum_long = np.arange(1,123456), np.arange(1,123456), 5432\n",
    "random.Random(0).shuffle(n)\n",
    "random.Random(1).shuffle(m)\n",
    "\n",
    "before = time()\n",
    "print(search_I(n, m, sum_long))\n",
    "after = time()\n",
    "print(after - before)"
   ]
  },
  {
   "cell_type": "code",
   "execution_count": null,
   "metadata": {},
   "outputs": [],
   "source": [
    "\"\"\"\n",
    "Baseline:                            0.428\n",
    "substract _sum elementwise from a:   0.140 (3x faster)\n",
    "rec_search with sorted(arr):         0.135 (3x faster)\n",
    "hash_search:                         0.020 (20x faster)\n",
    "rec_search with arr.sort():          0.013 (32x faster)\n",
    "search_I                             0.007 (60x faster)\n",
    "\"\"\""
   ]
  },
  {
   "cell_type": "code",
   "execution_count": 58,
   "metadata": {},
   "outputs": [],
   "source": [
    "#=============================================================================================="
   ]
  },
  {
   "cell_type": "code",
   "execution_count": 57,
   "metadata": {},
   "outputs": [
    {
     "data": {
      "text/plain": [
       "6"
      ]
     },
     "execution_count": 57,
     "metadata": {},
     "output_type": "execute_result"
    }
   ],
   "source": [
    "# Given an unsorted array of integers, find the length of the longest consecutive sequence.\n",
    "a = [1,2,3,4,5,2,3,1,2,3,4,5,6]\n",
    "i = 0\n",
    "max_result = 0\n",
    "while i < len(a):\n",
    "    result = 1\n",
    "    while i != len(a)-1 and a[i] < a[i+1]:\n",
    "        result+=1\n",
    "        i+=1\n",
    "    if result > max_result:\n",
    "        max_result = result \n",
    "    i+=1\n",
    "max_result"
   ]
  },
  {
   "cell_type": "code",
   "execution_count": 30,
   "metadata": {},
   "outputs": [],
   "source": [
    "#=============================================================================================="
   ]
  },
  {
   "cell_type": "code",
   "execution_count": 36,
   "metadata": {},
   "outputs": [
    {
     "data": {
      "image/png": "[encoded data removed]",
      "text/plain": [
       "<Figure size 432x288 with 1 Axes>"
      ]
     },
     "metadata": {},
     "output_type": "display_data"
    }
   ],
   "source": [
    "import matplotlib.pyplot as plt\n",
    "a, b = [3,2], [1,2]\n",
    "a, b = [a[0],b[0]], [a[1],b[1]]\n",
    "plt.scatter(a,b)\n",
    "plt.show()"
   ]
  },
  {
   "cell_type": "code",
   "execution_count": 37,
   "metadata": {},
   "outputs": [],
   "source": [
    "def is_symmetric(a,b):\n",
    "    if (a[1] == b[1]) and (a[0] != b[0]):\n",
    "        return True\n",
    "    return False"
   ]
  },
  {
   "cell_type": "code",
   "execution_count": 38,
   "metadata": {},
   "outputs": [
    {
     "data": {
      "text/plain": [
       "True"
      ]
     },
     "execution_count": 38,
     "metadata": {},
     "output_type": "execute_result"
    }
   ],
   "source": [
    "is_symmetric([3,2], [1,2])"
   ]
  },
  {
   "cell_type": "code",
   "execution_count": null,
   "metadata": {},
   "outputs": [],
   "source": []
  },
  {
   "cell_type": "code",
   "execution_count": null,
   "metadata": {},
   "outputs": [],
   "source": []
  },
  {
   "cell_type": "code",
   "execution_count": null,
   "metadata": {},
   "outputs": [],
   "source": []
  }
 ],
 "metadata": {
  "kernelspec": {
   "display_name": "Python 3",
   "language": "python",
   "name": "python3"
  },
  "language_info": {
   "codemirror_mode": {
    "name": "ipython",
    "version": 3
   },
   "file_extension": ".py",
   "mimetype": "text/x-python",
   "name": "python",
   "nbconvert_exporter": "python",
   "pygments_lexer": "ipython3",
   "version": "3.6.5"
  }
 },
 "nbformat": 4,
 "nbformat_minor": 2
}
