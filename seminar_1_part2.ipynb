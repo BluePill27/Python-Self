{
 "cells": [
  {
   "cell_type": "markdown",
   "metadata": {},
   "source": [
    "# Синтаксис Python: часть 2\n",
    "## Функции, lambda-функции, работа с библиотечными модулями и функциями."
   ]
  },
  {
   "cell_type": "markdown",
   "metadata": {},
   "source": [
    "### Напоминание про списки"
   ]
  },
  {
   "cell_type": "markdown",
   "metadata": {},
   "source": [
    "#### Распаковка списков"
   ]
  },
  {
   "cell_type": "code",
   "execution_count": 1,
   "metadata": {
    "ExecuteTime": {
     "end_time": "2019-09-27T07:55:31.962014Z",
     "start_time": "2019-09-27T07:55:31.959521Z"
    }
   },
   "outputs": [],
   "source": [
    "x, y = 1, 'a'"
   ]
  },
  {
   "cell_type": "code",
   "execution_count": 2,
   "metadata": {
    "ExecuteTime": {
     "end_time": "2019-09-27T07:55:44.375060Z",
     "start_time": "2019-09-27T07:55:44.371129Z"
    }
   },
   "outputs": [
    {
     "name": "stdout",
     "output_type": "stream",
     "text": [
      "1 a\n",
      "1 a\n"
     ]
    }
   ],
   "source": [
    "x, y = (1, 'a')\n",
    "print(x, y)\n",
    "x, y = [1, 'a']\n",
    "print(x, y)"
   ]
  },
  {
   "cell_type": "code",
   "execution_count": 3,
   "metadata": {
    "ExecuteTime": {
     "end_time": "2019-09-27T07:56:16.494417Z",
     "start_time": "2019-09-27T07:56:16.491329Z"
    }
   },
   "outputs": [
    {
     "name": "stdout",
     "output_type": "stream",
     "text": [
      "a\n",
      "1\n"
     ]
    }
   ],
   "source": [
    "x, y = y, x\n",
    "print(x)\n",
    "print(y)"
   ]
  },
  {
   "cell_type": "markdown",
   "metadata": {},
   "source": [
    "### В Python есть встроенные функции, которыми можно пользоваться по умолчанию. Вот некоторые из них"
   ]
  },
  {
   "cell_type": "markdown",
   "metadata": {},
   "source": [
    "#### range"
   ]
  },
  {
   "cell_type": "code",
   "execution_count": 8,
   "metadata": {},
   "outputs": [
    {
     "data": {
      "text/plain": [
       "range(0, 10)"
      ]
     },
     "execution_count": 8,
     "metadata": {},
     "output_type": "execute_result"
    }
   ],
   "source": [
    "range(10)"
   ]
  },
  {
   "cell_type": "code",
   "execution_count": 6,
   "metadata": {
    "ExecuteTime": {
     "end_time": "2019-09-27T07:56:21.487005Z",
     "start_time": "2019-09-27T07:56:21.483489Z"
    }
   },
   "outputs": [
    {
     "data": {
      "text/plain": [
       "[0, 1, 2, 3, 4, 5, 6, 7, 8, 9]"
      ]
     },
     "execution_count": 6,
     "metadata": {},
     "output_type": "execute_result"
    }
   ],
   "source": [
    "list(range(10))"
   ]
  },
  {
   "cell_type": "code",
   "execution_count": 7,
   "metadata": {
    "ExecuteTime": {
     "end_time": "2019-09-27T07:56:22.356994Z",
     "start_time": "2019-09-27T07:56:22.354041Z"
    }
   },
   "outputs": [
    {
     "data": {
      "text/plain": [
       "[3, 5, 7, 9]"
      ]
     },
     "execution_count": 7,
     "metadata": {},
     "output_type": "execute_result"
    }
   ],
   "source": [
    "list(range(3, 10, 2))"
   ]
  },
  {
   "cell_type": "code",
   "execution_count": 10,
   "metadata": {},
   "outputs": [
    {
     "data": {
      "text/plain": [
       "[10, 9, 8, 7, 6, 5, 4, 3, 2]"
      ]
     },
     "execution_count": 10,
     "metadata": {},
     "output_type": "execute_result"
    }
   ],
   "source": [
    "list(range(10, 1, -1))"
   ]
  },
  {
   "cell_type": "markdown",
   "metadata": {},
   "source": [
    "#### zip"
   ]
  },
  {
   "cell_type": "code",
   "execution_count": 11,
   "metadata": {
    "ExecuteTime": {
     "end_time": "2019-09-27T07:56:38.351521Z",
     "start_time": "2019-09-27T07:56:38.347534Z"
    }
   },
   "outputs": [
    {
     "name": "stdout",
     "output_type": "stream",
     "text": [
      "<class 'list'>\n",
      "[('a', 1), ('b', None), (7, 'q')]\n"
     ]
    }
   ],
   "source": [
    "a = ['a', 'b', 7]\n",
    "b = [1, None, 'q']\n",
    "print(type(list(zip(a, b))))\n",
    "print(list(zip(a, b)))"
   ]
  },
  {
   "cell_type": "code",
   "execution_count": 12,
   "metadata": {
    "ExecuteTime": {
     "end_time": "2019-09-27T07:56:42.539611Z",
     "start_time": "2019-09-27T07:56:42.536656Z"
    }
   },
   "outputs": [
    {
     "name": "stdout",
     "output_type": "stream",
     "text": [
      "('a', 1)\n",
      "('b', None)\n",
      "(7, 'q')\n"
     ]
    }
   ],
   "source": [
    "for x in zip(a, b):\n",
    "    print(x)"
   ]
  },
  {
   "cell_type": "code",
   "execution_count": 13,
   "metadata": {
    "ExecuteTime": {
     "end_time": "2019-10-05T12:12:09.392271Z",
     "start_time": "2019-10-05T12:12:09.388030Z"
    }
   },
   "outputs": [
    {
     "name": "stdout",
     "output_type": "stream",
     "text": [
      "(1, 7)\n",
      "(2, 8)\n",
      "(3, 9)\n"
     ]
    }
   ],
   "source": [
    "a = [1,2,3,4,5,6]\n",
    "b = [7,8,9]\n",
    "\n",
    "for el in zip(a,b):\n",
    "    print(el)"
   ]
  },
  {
   "cell_type": "markdown",
   "metadata": {},
   "source": [
    "#### enumerate"
   ]
  },
  {
   "cell_type": "code",
   "execution_count": 14,
   "metadata": {
    "ExecuteTime": {
     "end_time": "2019-09-27T00:17:47.398801Z",
     "start_time": "2019-09-27T00:17:47.394329Z"
    }
   },
   "outputs": [
    {
     "name": "stdout",
     "output_type": "stream",
     "text": [
      "[(0, 'a'), (1, 'b'), (2, 'c')]\n"
     ]
    }
   ],
   "source": [
    "my_list = ['a', 'b', 'c']\n",
    "print(list(zip(list(range(len(my_list))), my_list)))"
   ]
  },
  {
   "cell_type": "code",
   "execution_count": 15,
   "metadata": {
    "ExecuteTime": {
     "end_time": "2019-09-27T08:00:46.567722Z",
     "start_time": "2019-09-27T08:00:46.564231Z"
    }
   },
   "outputs": [
    {
     "name": "stdout",
     "output_type": "stream",
     "text": [
      "<class 'enumerate'>\n",
      "<enumerate object at 0x00000000049652D0>\n"
     ]
    }
   ],
   "source": [
    "print(type(enumerate(my_list)))\n",
    "print(enumerate(my_list))"
   ]
  },
  {
   "cell_type": "code",
   "execution_count": 16,
   "metadata": {
    "ExecuteTime": {
     "end_time": "2019-09-27T08:00:46.764523Z",
     "start_time": "2019-09-27T08:00:46.761171Z"
    }
   },
   "outputs": [
    {
     "name": "stdout",
     "output_type": "stream",
     "text": [
      "(0, 'a')\n",
      "(1, 'b')\n",
      "(2, 'c')\n"
     ]
    }
   ],
   "source": [
    "for x in enumerate(my_list):\n",
    "    print(x)"
   ]
  },
  {
   "cell_type": "code",
   "execution_count": 17,
   "metadata": {
    "ExecuteTime": {
     "end_time": "2019-09-27T08:01:00.842092Z",
     "start_time": "2019-09-27T08:01:00.838198Z"
    }
   },
   "outputs": [
    {
     "name": "stdout",
     "output_type": "stream",
     "text": [
      "0 a\n",
      "1 b\n",
      "2 c\n"
     ]
    }
   ],
   "source": [
    "for index, value in enumerate(my_list):\n",
    "    print(index, value)"
   ]
  },
  {
   "cell_type": "code",
   "execution_count": 18,
   "metadata": {
    "ExecuteTime": {
     "end_time": "2019-09-27T08:01:06.418263Z",
     "start_time": "2019-09-27T08:01:06.415218Z"
    }
   },
   "outputs": [
    {
     "data": {
      "text/plain": [
       "[(0, 'a'), (1, 'b'), (2, 'c')]"
      ]
     },
     "execution_count": 18,
     "metadata": {},
     "output_type": "execute_result"
    }
   ],
   "source": [
    "list(enumerate(my_list))"
   ]
  },
  {
   "cell_type": "markdown",
   "metadata": {},
   "source": [
    "## Немного о функциях"
   ]
  },
  {
   "cell_type": "markdown",
   "metadata": {},
   "source": [
    "#### Переменное число аргументов"
   ]
  },
  {
   "cell_type": "code",
   "execution_count": 19,
   "metadata": {
    "ExecuteTime": {
     "end_time": "2019-09-27T08:06:02.476246Z",
     "start_time": "2019-09-27T08:06:02.472902Z"
    }
   },
   "outputs": [
    {
     "name": "stdout",
     "output_type": "stream",
     "text": [
      "(1, 2, 3)\n",
      "{'num': True, 'srsly': False}\n"
     ]
    }
   ],
   "source": [
    "def foo(*args, **kwargs):\n",
    "    print(args)\n",
    "    print(kwargs)\n",
    "\n",
    "foo(1,2,3, num=True, srsly=False)"
   ]
  },
  {
   "cell_type": "code",
   "execution_count": 46,
   "metadata": {
    "ExecuteTime": {
     "end_time": "2019-09-27T08:07:30.511108Z",
     "start_time": "2019-09-27T08:07:30.508670Z"
    }
   },
   "outputs": [],
   "source": [
    "def my_sum(*values):\n",
    "    return sum(values)"
   ]
  },
  {
   "cell_type": "code",
   "execution_count": 47,
   "metadata": {
    "ExecuteTime": {
     "end_time": "2019-09-27T08:07:30.872269Z",
     "start_time": "2019-09-27T08:07:30.868822Z"
    }
   },
   "outputs": [
    {
     "data": {
      "text/plain": [
       "0"
      ]
     },
     "execution_count": 47,
     "metadata": {},
     "output_type": "execute_result"
    }
   ],
   "source": [
    "my_sum()"
   ]
  },
  {
   "cell_type": "code",
   "execution_count": 48,
   "metadata": {
    "ExecuteTime": {
     "end_time": "2019-09-27T08:07:31.804133Z",
     "start_time": "2019-09-27T08:07:31.801281Z"
    }
   },
   "outputs": [
    {
     "data": {
      "text/plain": [
       "10"
      ]
     },
     "execution_count": 48,
     "metadata": {},
     "output_type": "execute_result"
    }
   ],
   "source": [
    "my_sum(10)"
   ]
  },
  {
   "cell_type": "code",
   "execution_count": 50,
   "metadata": {
    "ExecuteTime": {
     "end_time": "2019-09-27T00:19:12.962806Z",
     "start_time": "2019-09-27T00:19:12.958741Z"
    }
   },
   "outputs": [
    {
     "data": {
      "text/plain": [
       "3"
      ]
     },
     "execution_count": 50,
     "metadata": {},
     "output_type": "execute_result"
    }
   ],
   "source": [
    "my_sum(1, 3, -1)"
   ]
  },
  {
   "cell_type": "markdown",
   "metadata": {},
   "source": [
    "#### Аргументы по умолчанию"
   ]
  },
  {
   "cell_type": "code",
   "execution_count": 51,
   "metadata": {
    "ExecuteTime": {
     "end_time": "2019-09-27T08:07:40.130391Z",
     "start_time": "2019-09-27T08:07:40.127750Z"
    }
   },
   "outputs": [],
   "source": [
    "def f(x, y=5):\n",
    "    return x + y"
   ]
  },
  {
   "cell_type": "code",
   "execution_count": 54,
   "metadata": {},
   "outputs": [
    {
     "data": {
      "text/plain": [
       "0"
      ]
     },
     "execution_count": 54,
     "metadata": {},
     "output_type": "execute_result"
    }
   ],
   "source": [
    "f(0, 0)"
   ]
  },
  {
   "cell_type": "code",
   "execution_count": 55,
   "metadata": {
    "ExecuteTime": {
     "end_time": "2019-09-27T00:19:15.009232Z",
     "start_time": "2019-09-27T00:19:15.005560Z"
    }
   },
   "outputs": [
    {
     "data": {
      "text/plain": [
       "3"
      ]
     },
     "execution_count": 55,
     "metadata": {},
     "output_type": "execute_result"
    }
   ],
   "source": [
    "f(0, 3)"
   ]
  },
  {
   "cell_type": "code",
   "execution_count": 56,
   "metadata": {
    "ExecuteTime": {
     "end_time": "2019-09-27T08:07:49.979113Z",
     "start_time": "2019-09-27T08:07:49.976142Z"
    }
   },
   "outputs": [
    {
     "data": {
      "text/plain": [
       "5"
      ]
     },
     "execution_count": 56,
     "metadata": {},
     "output_type": "execute_result"
    }
   ],
   "source": [
    "f(0)"
   ]
  },
  {
   "cell_type": "code",
   "execution_count": 57,
   "metadata": {
    "ExecuteTime": {
     "end_time": "2019-09-27T00:19:15.395899Z",
     "start_time": "2019-09-27T00:19:15.392146Z"
    }
   },
   "outputs": [
    {
     "data": {
      "text/plain": [
       "5"
      ]
     },
     "execution_count": 57,
     "metadata": {},
     "output_type": "execute_result"
    }
   ],
   "source": [
    "f(x=0)"
   ]
  },
  {
   "cell_type": "code",
   "execution_count": 58,
   "metadata": {
    "ExecuteTime": {
     "end_time": "2019-09-27T08:08:19.665845Z",
     "start_time": "2019-09-27T08:08:19.662090Z"
    }
   },
   "outputs": [
    {
     "data": {
      "text/plain": [
       "5"
      ]
     },
     "execution_count": 58,
     "metadata": {},
     "output_type": "execute_result"
    }
   ],
   "source": [
    "f(5, y=0)"
   ]
  },
  {
   "cell_type": "code",
   "execution_count": 59,
   "metadata": {
    "ExecuteTime": {
     "end_time": "2019-09-27T08:08:21.318279Z",
     "start_time": "2019-09-27T08:08:21.314748Z"
    }
   },
   "outputs": [
    {
     "data": {
      "text/plain": [
       "5"
      ]
     },
     "execution_count": 59,
     "metadata": {},
     "output_type": "execute_result"
    }
   ],
   "source": [
    "f(x=0, y=5)"
   ]
  },
  {
   "cell_type": "code",
   "execution_count": 60,
   "metadata": {
    "ExecuteTime": {
     "end_time": "2019-09-27T08:08:23.035230Z",
     "start_time": "2019-09-27T08:08:23.028997Z"
    }
   },
   "outputs": [
    {
     "ename": "TypeError",
     "evalue": "f() got multiple values for argument 'x'",
     "output_type": "error",
     "traceback": [
      "\u001b[1;31m---------------------------------------------------------------------------\u001b[0m",
      "\u001b[1;31mTypeError\u001b[0m                                 Traceback (most recent call last)",
      "\u001b[1;32m<ipython-input-60-2f0c279ef804>\u001b[0m in \u001b[0;36m<module>\u001b[1;34m()\u001b[0m\n\u001b[1;32m----> 1\u001b[1;33m \u001b[0mf\u001b[0m\u001b[1;33m(\u001b[0m\u001b[1;36m0\u001b[0m\u001b[1;33m,\u001b[0m \u001b[0mx\u001b[0m\u001b[1;33m=\u001b[0m\u001b[1;36m0\u001b[0m\u001b[1;33m,\u001b[0m \u001b[0my\u001b[0m\u001b[1;33m=\u001b[0m\u001b[1;36m5\u001b[0m\u001b[1;33m)\u001b[0m\u001b[1;33m\u001b[0m\u001b[0m\n\u001b[0m",
      "\u001b[1;31mTypeError\u001b[0m: f() got multiple values for argument 'x'"
     ]
    }
   ],
   "source": [
    "f(0, x=0, y=5)"
   ]
  },
  {
   "cell_type": "markdown",
   "metadata": {},
   "source": [
    "#### Осторожнее с аргументами по умолчанию"
   ]
  },
  {
   "cell_type": "code",
   "execution_count": 61,
   "metadata": {
    "ExecuteTime": {
     "end_time": "2019-09-27T08:09:24.212355Z",
     "start_time": "2019-09-27T08:09:24.209533Z"
    }
   },
   "outputs": [],
   "source": [
    "a = [1,2,3]\n",
    "b = a[::]\n",
    "b[0] = 0"
   ]
  },
  {
   "cell_type": "code",
   "execution_count": 62,
   "metadata": {
    "ExecuteTime": {
     "end_time": "2019-09-27T08:09:30.103193Z",
     "start_time": "2019-09-27T08:09:30.099726Z"
    }
   },
   "outputs": [
    {
     "data": {
      "text/plain": [
       "False"
      ]
     },
     "execution_count": 62,
     "metadata": {},
     "output_type": "execute_result"
    }
   ],
   "source": [
    "a is b"
   ]
  },
  {
   "cell_type": "code",
   "execution_count": 63,
   "metadata": {
    "ExecuteTime": {
     "end_time": "2019-09-27T08:12:27.746770Z",
     "start_time": "2019-09-27T08:12:27.743627Z"
    }
   },
   "outputs": [],
   "source": [
    "def f(x, my_list=[]):\n",
    "    if my_list is None:\n",
    "        my_list = []\n",
    "    \n",
    "    my_list.append(x)\n",
    "    return sum(my_list)"
   ]
  },
  {
   "cell_type": "code",
   "execution_count": 64,
   "metadata": {
    "ExecuteTime": {
     "end_time": "2019-09-27T08:10:12.483021Z",
     "start_time": "2019-09-27T08:10:12.478306Z"
    }
   },
   "outputs": [
    {
     "name": "stdout",
     "output_type": "stream",
     "text": [
      "0\n",
      "4\n",
      "6\n",
      "3\n",
      "4\n",
      "8\n"
     ]
    }
   ],
   "source": [
    "print(f(0))\n",
    "print(f(1, [1, 2]))\n",
    "print(f(2, [4]))\n",
    "print(f(3))\n",
    "print(f(4, []))\n",
    "print(f(5))"
   ]
  },
  {
   "cell_type": "code",
   "execution_count": 65,
   "metadata": {
    "ExecuteTime": {
     "end_time": "2019-09-27T08:11:19.691206Z",
     "start_time": "2019-09-27T08:11:19.688394Z"
    }
   },
   "outputs": [
    {
     "name": "stdout",
     "output_type": "stream",
     "text": [
      "308\n"
     ]
    }
   ],
   "source": [
    "print(f(300))"
   ]
  },
  {
   "cell_type": "code",
   "execution_count": 66,
   "metadata": {
    "ExecuteTime": {
     "end_time": "2019-09-27T00:19:28.259882Z",
     "start_time": "2019-09-27T00:19:28.256927Z"
    }
   },
   "outputs": [],
   "source": [
    "def f(x, my_list=[]):\n",
    "    my_list.append(x)\n",
    "    print(my_list)\n",
    "    return sum(my_list)"
   ]
  },
  {
   "cell_type": "code",
   "execution_count": 67,
   "metadata": {
    "ExecuteTime": {
     "end_time": "2019-09-27T00:19:28.523275Z",
     "start_time": "2019-09-27T00:19:28.518371Z"
    }
   },
   "outputs": [
    {
     "name": "stdout",
     "output_type": "stream",
     "text": [
      "[0]\n",
      "0\n",
      "[1, 2, 1]\n",
      "4\n",
      "[4, 2]\n",
      "6\n",
      "[0, 3]\n",
      "3\n",
      "[4]\n",
      "4\n",
      "[0, 3, 5]\n",
      "8\n"
     ]
    }
   ],
   "source": [
    "print(f(0))\n",
    "print(f(1, [1, 2]))\n",
    "print(f(2, [4]))\n",
    "print(f(3))\n",
    "print(f(4, []))\n",
    "print(f(5))"
   ]
  },
  {
   "cell_type": "markdown",
   "metadata": {},
   "source": [
    "Правильно делать так:"
   ]
  },
  {
   "cell_type": "code",
   "execution_count": 68,
   "metadata": {
    "ExecuteTime": {
     "end_time": "2019-09-27T00:19:31.294239Z",
     "start_time": "2019-09-27T00:19:31.291203Z"
    }
   },
   "outputs": [],
   "source": [
    "def f(x, my_list=None):\n",
    "    if my_list is None:\n",
    "        my_list = []\n",
    "    my_list.append(x)\n",
    "    return sum(my_list)"
   ]
  },
  {
   "cell_type": "code",
   "execution_count": 69,
   "metadata": {
    "ExecuteTime": {
     "end_time": "2019-09-27T00:19:31.762456Z",
     "start_time": "2019-09-27T00:19:31.756632Z"
    },
    "scrolled": true
   },
   "outputs": [
    {
     "name": "stdout",
     "output_type": "stream",
     "text": [
      "0\n",
      "4\n",
      "6\n",
      "3\n",
      "4\n",
      "5\n"
     ]
    }
   ],
   "source": [
    "print(f(0))\n",
    "print(f(1, [1, 2]))\n",
    "print(f(2, [4]))\n",
    "print(f(3))\n",
    "print(f(4, []))\n",
    "print(f(5))"
   ]
  },
  {
   "cell_type": "markdown",
   "metadata": {},
   "source": [
    "## Лямбда функции"
   ]
  },
  {
   "cell_type": "markdown",
   "metadata": {},
   "source": [
    "Лямбда функции позволяют создавать безымянные функции"
   ]
  },
  {
   "cell_type": "code",
   "execution_count": 70,
   "metadata": {
    "ExecuteTime": {
     "end_time": "2019-09-27T08:16:56.009536Z",
     "start_time": "2019-09-27T08:16:56.006813Z"
    }
   },
   "outputs": [],
   "source": [
    "def f(x):\n",
    "    return x + 1\n",
    "\n",
    "g = lambda x: x + 1"
   ]
  },
  {
   "cell_type": "code",
   "execution_count": 71,
   "metadata": {
    "ExecuteTime": {
     "end_time": "2019-09-27T08:17:07.110939Z",
     "start_time": "2019-09-27T08:17:07.107307Z"
    }
   },
   "outputs": [
    {
     "name": "stdout",
     "output_type": "stream",
     "text": [
      "2 2\n",
      "1001 1001\n"
     ]
    }
   ],
   "source": [
    "print(f(1), g(1))\n",
    "print(f(1000), g(1000))"
   ]
  },
  {
   "cell_type": "code",
   "execution_count": 72,
   "metadata": {
    "ExecuteTime": {
     "end_time": "2019-09-27T08:17:11.622271Z",
     "start_time": "2019-09-27T08:17:11.619220Z"
    }
   },
   "outputs": [
    {
     "name": "stdout",
     "output_type": "stream",
     "text": [
      "5\n"
     ]
    }
   ],
   "source": [
    "g = lambda x, y: x + y\n",
    "print(g(2, 3))"
   ]
  },
  {
   "cell_type": "code",
   "execution_count": 73,
   "metadata": {
    "ExecuteTime": {
     "end_time": "2019-09-27T08:17:16.236381Z",
     "start_time": "2019-09-27T08:17:16.229821Z"
    }
   },
   "outputs": [
    {
     "ename": "TypeError",
     "evalue": "<lambda>() takes 1 positional argument but 2 were given",
     "output_type": "error",
     "traceback": [
      "\u001b[1;31m---------------------------------------------------------------------------\u001b[0m",
      "\u001b[1;31mTypeError\u001b[0m                                 Traceback (most recent call last)",
      "\u001b[1;32m<ipython-input-73-85689c4f2924>\u001b[0m in \u001b[0;36m<module>\u001b[1;34m()\u001b[0m\n\u001b[0;32m      1\u001b[0m \u001b[0mg\u001b[0m \u001b[1;33m=\u001b[0m \u001b[1;32mlambda\u001b[0m \u001b[0mx_y\u001b[0m\u001b[1;33m:\u001b[0m \u001b[0mx_y\u001b[0m\u001b[1;33m[\u001b[0m\u001b[1;36m0\u001b[0m\u001b[1;33m]\u001b[0m \u001b[1;33m+\u001b[0m \u001b[0mx_y\u001b[0m\u001b[1;33m[\u001b[0m\u001b[1;36m1\u001b[0m\u001b[1;33m]\u001b[0m\u001b[1;33m\u001b[0m\u001b[0m\n\u001b[1;32m----> 2\u001b[1;33m \u001b[0mprint\u001b[0m\u001b[1;33m(\u001b[0m\u001b[0mg\u001b[0m\u001b[1;33m(\u001b[0m\u001b[1;36m2\u001b[0m\u001b[1;33m,\u001b[0m \u001b[1;36m3\u001b[0m\u001b[1;33m)\u001b[0m\u001b[1;33m)\u001b[0m\u001b[1;33m\u001b[0m\u001b[0m\n\u001b[0m",
      "\u001b[1;31mTypeError\u001b[0m: <lambda>() takes 1 positional argument but 2 were given"
     ]
    }
   ],
   "source": [
    "g = lambda x_y: x_y[0] + x_y[1]\n",
    "print(g(2, 3))"
   ]
  },
  {
   "cell_type": "code",
   "execution_count": 74,
   "metadata": {
    "ExecuteTime": {
     "end_time": "2019-09-27T08:17:44.680236Z",
     "start_time": "2019-09-27T08:17:44.677243Z"
    },
    "scrolled": true
   },
   "outputs": [
    {
     "name": "stdout",
     "output_type": "stream",
     "text": [
      "5\n"
     ]
    }
   ],
   "source": [
    "g = lambda x_y: x_y[0] + x_y[1]\n",
    "print(g((2, 3)))"
   ]
  },
  {
   "cell_type": "markdown",
   "metadata": {},
   "source": [
    "так лучше не использовать"
   ]
  },
  {
   "cell_type": "code",
   "execution_count": 75,
   "metadata": {
    "ExecuteTime": {
     "end_time": "2019-10-05T12:14:46.074220Z",
     "start_time": "2019-10-05T12:14:46.071540Z"
    }
   },
   "outputs": [],
   "source": [
    "my_list = [[0, 1], [9, 8], [5, -10]]"
   ]
  },
  {
   "cell_type": "code",
   "execution_count": 76,
   "metadata": {
    "ExecuteTime": {
     "end_time": "2019-10-05T12:14:46.470037Z",
     "start_time": "2019-10-05T12:14:46.466597Z"
    }
   },
   "outputs": [
    {
     "name": "stdout",
     "output_type": "stream",
     "text": [
      "[[5, -10], [0, 1], [9, 8]]\n"
     ]
    }
   ],
   "source": [
    "print(sorted(my_list, key=lambda x_y: x_y[1]))"
   ]
  },
  {
   "cell_type": "markdown",
   "metadata": {},
   "source": [
    "# Работа с модулями\n",
    "## Полезные стандартные библиотеки:\n",
    "\n",
    "1. itertools\n",
    "2. collections\n",
    "3. math\n",
    "4. sys\n",
    "5. os\n",
    "6. time\n",
    "7. datetime\n",
    "8. random\n",
    "\n",
    "и многие другие на сайте https://docs.python.org/2/"
   ]
  },
  {
   "cell_type": "markdown",
   "metadata": {},
   "source": [
    "Пример комбинирования разных библиотек"
   ]
  },
  {
   "cell_type": "code",
   "execution_count": 119,
   "metadata": {
    "ExecuteTime": {
     "end_time": "2019-09-27T08:24:46.950693Z",
     "start_time": "2019-09-27T08:24:46.948369Z"
    }
   },
   "outputs": [],
   "source": [
    "import random\n",
    "import time\n",
    "import datetime\n",
    "import sys\n",
    "import itertools\n",
    "import math"
   ]
  },
  {
   "cell_type": "code",
   "execution_count": 98,
   "metadata": {},
   "outputs": [
    {
     "name": "stdout",
     "output_type": "stream",
     "text": [
      "filter: [1, 3, 5, 7, 9]\n",
      "dropwhile: [6, 4, 1]\n",
      "zip_longest: [('A', 'x'), ('B', 'y'), ('C', '-'), ('D', '-')]\n",
      "permutations: [('A', 'B'), ('A', 'C'), ('B', 'A'), ('B', 'C'), ('C', 'A'), ('C', 'B')]\n",
      "combinations: [('A', 'B'), ('A', 'C'), ('B', 'C')]\n",
      "combinations_with_replacement: [('A', 'A'), ('A', 'B'), ('A', 'C'), ('B', 'B'), ('B', 'C'), ('C', 'C')]\n"
     ]
    }
   ],
   "source": [
    "print('filter:', list(filter(lambda x: x%2, range(10))))\n",
    "print('dropwhile:', list(itertools.dropwhile(lambda x: x<5, [1,4,6,4,1])))\n",
    "print('zip_longest:', list(itertools.zip_longest('ABCD', 'xy', fillvalue='-')))\n",
    "\n",
    "print('permutations:', list(itertools.permutations('ABC', 2)))\n",
    "print('combinations:', list(itertools.combinations('ABC', 2)))\n",
    "print('combinations_with_replacement:', list(itertools.combinations_with_replacement('ABC', 2)))"
   ]
  },
  {
   "cell_type": "code",
   "execution_count": 118,
   "metadata": {},
   "outputs": [
    {
     "name": "stdout",
     "output_type": "stream",
     "text": [
      "floor: 5\n",
      "ceil: 6\n",
      "factorial: 24\n",
      "exponent: 7.38905609893065\n",
      "natural log: 0.6931471805599453\n",
      "base 10 log: 0.3010299956639812\n",
      "power: 16.0\n",
      "sqrt: 4.0\n",
      "sinus: 0.1411200080598672\n",
      "pi: 3.141592653589793\n",
      "infinite: inf\n"
     ]
    }
   ],
   "source": [
    "print('floor:', math.floor(5.2))\n",
    "print('ceil:', math.ceil(5.2))\n",
    "print('factorial:', math.factorial(4))\n",
    "print('exponent:', math.exp(2))\n",
    "print('natural log:', math.log(2))\n",
    "print('base 10 log:', math.log10(2))\n",
    "print('power:', math.pow(2,4))\n",
    "print('sqrt:', math.sqrt(16))\n",
    "print('sinus:', math.sin(3))\n",
    "print('pi:', math.pi)\n",
    "print('infinite:', math.inf)"
   ]
  },
  {
   "cell_type": "code",
   "execution_count": 121,
   "metadata": {},
   "outputs": [
    {
     "name": "stdout",
     "output_type": "stream",
     "text": [
      "Current date: 2020-01-04\n",
      "Current date-time: 2020-01-04 18:57:52.100462\n",
      "Current formatted date-time: 18:57:52  04-01-20\n",
      "==================================\n",
      "Time passed: 19 days, 2:58:52.101462\n",
      "==================================\n",
      "Epoch started: time.struct_time(tm_year=1970, tm_mon=1, tm_mday=1, tm_hour=0, tm_min=0, tm_sec=0, tm_wday=3, tm_yday=1, tm_isdst=0)\n",
      "Epoch started: 00:00:00  01-01-70\n",
      "==================================\n",
      "Current time: Sat Jan  4 18:57:52 2020\n",
      "Current time: 18:57:52  04-01-20\n"
     ]
    }
   ],
   "source": [
    "# работа с датами/временем\n",
    "print('Current date:', datetime.date.today())\n",
    "print('Current date-time:', datetime.datetime.today())\n",
    "print('Current formatted date-time:', datetime.datetime.today().strftime('%H:%M:%S  %d-%m-%y'))\n",
    "print('==================================')\n",
    "delta = datetime.datetime.today() - datetime.datetime(2019, 12, 16, 15, 59, 0)\n",
    "print('Time passed:',delta)\n",
    "print('==================================')\n",
    "print('Epoch started:', time.gmtime(0))\n",
    "print('Epoch started:', time.strftime('%H:%M:%S  %d-%m-%y', time.gmtime(0)))\n",
    "print('==================================')\n",
    "print('Current time:', time.ctime())\n",
    "print('Current time:', time.strftime('%H:%M:%S  %d-%m-%y', time.localtime()))"
   ]
  },
  {
   "cell_type": "code",
   "execution_count": 179,
   "metadata": {},
   "outputs": [
    {
     "name": "stdout",
     "output_type": "stream",
     "text": [
      "random 0..1: 0.0011428193144282783\n",
      "==================================\n",
      "random seed\n",
      "865\n",
      "865\n",
      "==================================\n",
      "random range: 8\n",
      "random shuffle: [5, 3, 2, 1, 4]\n",
      "normal distribution: -1.50866848136876\n"
     ]
    }
   ],
   "source": [
    "print('random 0..1:', random.random())\n",
    "print('==================================')\n",
    "print('random seed')\n",
    "random.seed(0)\n",
    "print(random.randint(1, 1000))\n",
    "random.seed(0)\n",
    "print(random.randint(1, 1000))\n",
    "print('==================================')\n",
    "print('random range:', random.randrange(2,10,2))\n",
    "x = [1,2,3,4,5]\n",
    "random.shuffle(x)\n",
    "print('random shuffle:', x)\n",
    "print('normal distribution:', random.normalvariate(0,2))"
   ]
  },
  {
   "cell_type": "code",
   "execution_count": 78,
   "metadata": {
    "ExecuteTime": {
     "end_time": "2019-09-27T08:25:24.505184Z",
     "start_time": "2019-09-27T08:25:24.426094Z"
    }
   },
   "outputs": [
    {
     "name": "stdout",
     "output_type": "stream",
     "text": [
      "dict object size is 240\n",
      "Spent 0.055 seconds\n"
     ]
    }
   ],
   "source": [
    "start = time.time() # узнаём текущее время\n",
    "objects_dict = { # создаём большой словарь, ключом является число, а значением словарь из трёх случайных полей\n",
    "    x: {\n",
    "        'first_property': random.random(),\n",
    "        'second_property': random.random(),\n",
    "        'fourth_property': random.random(),\n",
    "    }\n",
    "    for x in range(100000)\n",
    "}\n",
    "# смотрим сколько байт занимает один объект в памяти\n",
    "print('dict object size is', sys.getsizeof(objects_dict[0]))\n",
    "\n",
    "finish = time.time() # время окончания\n",
    "print('Spent {:.3f} seconds'.format(finish - start))"
   ]
  }
 ],
 "metadata": {
  "kernelspec": {
   "display_name": "Python 3",
   "language": "python",
   "name": "python3"
  },
  "language_info": {
   "codemirror_mode": {
    "name": "ipython",
    "version": 3
   },
   "file_extension": ".py",
   "mimetype": "text/x-python",
   "name": "python",
   "nbconvert_exporter": "python",
   "pygments_lexer": "ipython3",
   "version": "3.6.5"
  },
  "toc": {
   "base_numbering": 1,
   "nav_menu": {},
   "number_sections": true,
   "sideBar": true,
   "skip_h1_title": false,
   "title_cell": "Table of Contents",
   "title_sidebar": "Contents",
   "toc_cell": false,
   "toc_position": {
    "height": "calc(100% - 180px)",
    "left": "10px",
    "top": "150px",
    "width": "336px"
   },
   "toc_section_display": true,
   "toc_window_display": true
  }
 },
 "nbformat": 4,
 "nbformat_minor": 2
}
