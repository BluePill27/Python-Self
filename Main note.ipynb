{
 "cells": [
  {
   "cell_type": "code",
   "execution_count": 1,
   "metadata": {},
   "outputs": [],
   "source": [
    "import pandas as pd\n",
    "import numpy as np\n",
    "import scipy\n",
    "import matplotlib.pyplot as plt\n",
    "import seaborn as sns\n",
    "\n",
    "from time import time\n",
    "from datetime import datetime \n",
    "\n",
    "from sklearn.model_selection import train_test_split\n",
    "from sklearn.linear_model import LinearRegression\n",
    "from sklearn.metrics import mean_absolute_error\n",
    "import xgboost as xgb"
   ]
  },
  {
   "cell_type": "code",
   "execution_count": 2,
   "metadata": {},
   "outputs": [],
   "source": [
    "train = pd.read_csv(r'D:\\Загрузки\\IDAO 2020\\train.csv')\n",
    "test = pd.read_csv(r'D:\\Загрузки\\IDAO 2020\\Track 1\\test.csv')"
   ]
  },
  {
   "cell_type": "code",
   "execution_count": 3,
   "metadata": {},
   "outputs": [
    {
     "data": {
      "text/html": [
       "<div>\n",
       "<style scoped>\n",
       "    .dataframe tbody tr th:only-of-type {\n",
       "        vertical-align: middle;\n",
       "    }\n",
       "\n",
       "    .dataframe tbody tr th {\n",
       "        vertical-align: top;\n",
       "    }\n",
       "\n",
       "    .dataframe thead th {\n",
       "        text-align: right;\n",
       "    }\n",
       "</style>\n",
       "<table border=\"1\" class=\"dataframe\">\n",
       "  <thead>\n",
       "    <tr style=\"text-align: right;\">\n",
       "      <th></th>\n",
       "      <th>id</th>\n",
       "      <th>epoch</th>\n",
       "      <th>sat_id</th>\n",
       "      <th>x</th>\n",
       "      <th>y</th>\n",
       "      <th>z</th>\n",
       "      <th>Vx</th>\n",
       "      <th>Vy</th>\n",
       "      <th>Vz</th>\n",
       "      <th>x_sim</th>\n",
       "      <th>y_sim</th>\n",
       "      <th>z_sim</th>\n",
       "      <th>Vx_sim</th>\n",
       "      <th>Vy_sim</th>\n",
       "      <th>Vz_sim</th>\n",
       "    </tr>\n",
       "  </thead>\n",
       "  <tbody>\n",
       "    <tr>\n",
       "      <th>0</th>\n",
       "      <td>0</td>\n",
       "      <td>2014-01-01T00:00:00.000</td>\n",
       "      <td>0</td>\n",
       "      <td>-8855.823863</td>\n",
       "      <td>13117.780146</td>\n",
       "      <td>-20728.353233</td>\n",
       "      <td>-0.908303</td>\n",
       "      <td>-3.808436</td>\n",
       "      <td>-2.022083</td>\n",
       "      <td>-8843.131454</td>\n",
       "      <td>13138.221690</td>\n",
       "      <td>-20741.615306</td>\n",
       "      <td>-0.907527</td>\n",
       "      <td>-3.804930</td>\n",
       "      <td>-2.024133</td>\n",
       "    </tr>\n",
       "    <tr>\n",
       "      <th>1</th>\n",
       "      <td>1</td>\n",
       "      <td>2014-01-01T00:46:43.000</td>\n",
       "      <td>0</td>\n",
       "      <td>-10567.672384</td>\n",
       "      <td>1619.746066</td>\n",
       "      <td>-24451.813271</td>\n",
       "      <td>-0.302590</td>\n",
       "      <td>-4.272617</td>\n",
       "      <td>-0.612796</td>\n",
       "      <td>-10555.500066</td>\n",
       "      <td>1649.289367</td>\n",
       "      <td>-24473.089556</td>\n",
       "      <td>-0.303704</td>\n",
       "      <td>-4.269816</td>\n",
       "      <td>-0.616468</td>\n",
       "    </tr>\n",
       "    <tr>\n",
       "      <th>2</th>\n",
       "      <td>2</td>\n",
       "      <td>2014-01-01T01:33:26.001</td>\n",
       "      <td>0</td>\n",
       "      <td>-10578.684043</td>\n",
       "      <td>-10180.467460</td>\n",
       "      <td>-24238.280949</td>\n",
       "      <td>0.277435</td>\n",
       "      <td>-4.047522</td>\n",
       "      <td>0.723155</td>\n",
       "      <td>-10571.858472</td>\n",
       "      <td>-10145.939908</td>\n",
       "      <td>-24271.169776</td>\n",
       "      <td>0.274880</td>\n",
       "      <td>-4.046788</td>\n",
       "      <td>0.718768</td>\n",
       "    </tr>\n",
       "  </tbody>\n",
       "</table>\n",
       "</div>"
      ],
      "text/plain": [
       "   id                    epoch  sat_id             x             y  \\\n",
       "0   0  2014-01-01T00:00:00.000       0  -8855.823863  13117.780146   \n",
       "1   1  2014-01-01T00:46:43.000       0 -10567.672384   1619.746066   \n",
       "2   2  2014-01-01T01:33:26.001       0 -10578.684043 -10180.467460   \n",
       "\n",
       "              z        Vx        Vy        Vz         x_sim         y_sim  \\\n",
       "0 -20728.353233 -0.908303 -3.808436 -2.022083  -8843.131454  13138.221690   \n",
       "1 -24451.813271 -0.302590 -4.272617 -0.612796 -10555.500066   1649.289367   \n",
       "2 -24238.280949  0.277435 -4.047522  0.723155 -10571.858472 -10145.939908   \n",
       "\n",
       "          z_sim    Vx_sim    Vy_sim    Vz_sim  \n",
       "0 -20741.615306 -0.907527 -3.804930 -2.024133  \n",
       "1 -24473.089556 -0.303704 -4.269816 -0.616468  \n",
       "2 -24271.169776  0.274880 -4.046788  0.718768  "
      ]
     },
     "execution_count": 3,
     "metadata": {},
     "output_type": "execute_result"
    }
   ],
   "source": [
    "train.head(3)"
   ]
  },
  {
   "cell_type": "code",
   "execution_count": 4,
   "metadata": {},
   "outputs": [
    {
     "data": {
      "text/html": [
       "<div>\n",
       "<style scoped>\n",
       "    .dataframe tbody tr th:only-of-type {\n",
       "        vertical-align: middle;\n",
       "    }\n",
       "\n",
       "    .dataframe tbody tr th {\n",
       "        vertical-align: top;\n",
       "    }\n",
       "\n",
       "    .dataframe thead th {\n",
       "        text-align: right;\n",
       "    }\n",
       "</style>\n",
       "<table border=\"1\" class=\"dataframe\">\n",
       "  <thead>\n",
       "    <tr style=\"text-align: right;\">\n",
       "      <th></th>\n",
       "      <th>id</th>\n",
       "      <th>sat_id</th>\n",
       "      <th>epoch</th>\n",
       "      <th>x_sim</th>\n",
       "      <th>y_sim</th>\n",
       "      <th>z_sim</th>\n",
       "      <th>Vx_sim</th>\n",
       "      <th>Vy_sim</th>\n",
       "      <th>Vz_sim</th>\n",
       "    </tr>\n",
       "  </thead>\n",
       "  <tbody>\n",
       "    <tr>\n",
       "      <th>0</th>\n",
       "      <td>3927</td>\n",
       "      <td>1</td>\n",
       "      <td>2014-02-01T00:01:45.162</td>\n",
       "      <td>-13366.891347</td>\n",
       "      <td>-14236.753503</td>\n",
       "      <td>6386.774555</td>\n",
       "      <td>4.333815</td>\n",
       "      <td>-0.692764</td>\n",
       "      <td>0.810774</td>\n",
       "    </tr>\n",
       "    <tr>\n",
       "      <th>1</th>\n",
       "      <td>3928</td>\n",
       "      <td>1</td>\n",
       "      <td>2014-02-01T00:22:57.007</td>\n",
       "      <td>-7370.434039</td>\n",
       "      <td>-14498.771520</td>\n",
       "      <td>7130.411325</td>\n",
       "      <td>5.077413</td>\n",
       "      <td>0.360609</td>\n",
       "      <td>0.313402</td>\n",
       "    </tr>\n",
       "  </tbody>\n",
       "</table>\n",
       "</div>"
      ],
      "text/plain": [
       "     id  sat_id                    epoch         x_sim         y_sim  \\\n",
       "0  3927       1  2014-02-01T00:01:45.162 -13366.891347 -14236.753503   \n",
       "1  3928       1  2014-02-01T00:22:57.007  -7370.434039 -14498.771520   \n",
       "\n",
       "         z_sim    Vx_sim    Vy_sim    Vz_sim  \n",
       "0  6386.774555  4.333815 -0.692764  0.810774  \n",
       "1  7130.411325  5.077413  0.360609  0.313402  "
      ]
     },
     "execution_count": 4,
     "metadata": {},
     "output_type": "execute_result"
    }
   ],
   "source": [
    "test.head(2)"
   ]
  },
  {
   "cell_type": "code",
   "execution_count": 5,
   "metadata": {},
   "outputs": [],
   "source": [
    "train = train.drop('id', axis=1)"
   ]
  },
  {
   "cell_type": "code",
   "execution_count": 6,
   "metadata": {},
   "outputs": [
    {
     "data": {
      "text/plain": [
       "600"
      ]
     },
     "execution_count": 6,
     "metadata": {},
     "output_type": "execute_result"
    }
   ],
   "source": [
    "len(train.loc[:,'sat_id'].unique())"
   ]
  },
  {
   "cell_type": "code",
   "execution_count": 7,
   "metadata": {},
   "outputs": [
    {
     "name": "stdout",
     "output_type": "stream",
     "text": [
      "<class 'pandas.core.frame.DataFrame'>\n",
      "RangeIndex: 649912 entries, 0 to 649911\n",
      "Data columns (total 14 columns):\n",
      "epoch     649912 non-null object\n",
      "sat_id    649912 non-null int64\n",
      "x         649912 non-null float64\n",
      "y         649912 non-null float64\n",
      "z         649912 non-null float64\n",
      "Vx        649912 non-null float64\n",
      "Vy        649912 non-null float64\n",
      "Vz        649912 non-null float64\n",
      "x_sim     649912 non-null float64\n",
      "y_sim     649912 non-null float64\n",
      "z_sim     649912 non-null float64\n",
      "Vx_sim    649912 non-null float64\n",
      "Vy_sim    649912 non-null float64\n",
      "Vz_sim    649912 non-null float64\n",
      "dtypes: float64(12), int64(1), object(1)\n",
      "memory usage: 69.4+ MB\n"
     ]
    }
   ],
   "source": [
    "train.info()"
   ]
  },
  {
   "cell_type": "code",
   "execution_count": 8,
   "metadata": {},
   "outputs": [
    {
     "data": {
      "text/html": [
       "<div>\n",
       "<style scoped>\n",
       "    .dataframe tbody tr th:only-of-type {\n",
       "        vertical-align: middle;\n",
       "    }\n",
       "\n",
       "    .dataframe tbody tr th {\n",
       "        vertical-align: top;\n",
       "    }\n",
       "\n",
       "    .dataframe thead th {\n",
       "        text-align: right;\n",
       "    }\n",
       "</style>\n",
       "<table border=\"1\" class=\"dataframe\">\n",
       "  <thead>\n",
       "    <tr style=\"text-align: right;\">\n",
       "      <th></th>\n",
       "      <th>sat_id</th>\n",
       "      <th>x</th>\n",
       "      <th>y</th>\n",
       "      <th>z</th>\n",
       "      <th>Vx</th>\n",
       "      <th>Vy</th>\n",
       "      <th>Vz</th>\n",
       "      <th>x_sim</th>\n",
       "      <th>y_sim</th>\n",
       "      <th>z_sim</th>\n",
       "      <th>Vx_sim</th>\n",
       "      <th>Vy_sim</th>\n",
       "      <th>Vz_sim</th>\n",
       "    </tr>\n",
       "  </thead>\n",
       "  <tbody>\n",
       "    <tr>\n",
       "      <th>count</th>\n",
       "      <td>649912.000000</td>\n",
       "      <td>649912.000000</td>\n",
       "      <td>649912.000000</td>\n",
       "      <td>649912.000000</td>\n",
       "      <td>649912.000000</td>\n",
       "      <td>649912.000000</td>\n",
       "      <td>649912.000000</td>\n",
       "      <td>649912.000000</td>\n",
       "      <td>649912.000000</td>\n",
       "      <td>649912.000000</td>\n",
       "      <td>649912.000000</td>\n",
       "      <td>649912.000000</td>\n",
       "      <td>649912.000000</td>\n",
       "    </tr>\n",
       "    <tr>\n",
       "      <th>mean</th>\n",
       "      <td>308.730351</td>\n",
       "      <td>-817.243624</td>\n",
       "      <td>423.039342</td>\n",
       "      <td>-75.033412</td>\n",
       "      <td>-0.000571</td>\n",
       "      <td>0.000468</td>\n",
       "      <td>-0.000084</td>\n",
       "      <td>-949.710660</td>\n",
       "      <td>324.557198</td>\n",
       "      <td>-79.766677</td>\n",
       "      <td>-0.000519</td>\n",
       "      <td>0.000394</td>\n",
       "      <td>-0.000312</td>\n",
       "    </tr>\n",
       "    <tr>\n",
       "      <th>std</th>\n",
       "      <td>171.482926</td>\n",
       "      <td>25391.507810</td>\n",
       "      <td>25631.511540</td>\n",
       "      <td>20652.050496</td>\n",
       "      <td>2.639041</td>\n",
       "      <td>2.597130</td>\n",
       "      <td>2.116245</td>\n",
       "      <td>25374.076264</td>\n",
       "      <td>25607.472371</td>\n",
       "      <td>20667.988715</td>\n",
       "      <td>2.637491</td>\n",
       "      <td>2.600323</td>\n",
       "      <td>2.113769</td>\n",
       "    </tr>\n",
       "    <tr>\n",
       "      <th>min</th>\n",
       "      <td>0.000000</td>\n",
       "      <td>-251938.766780</td>\n",
       "      <td>-291083.016974</td>\n",
       "      <td>-178922.412426</td>\n",
       "      <td>-8.286673</td>\n",
       "      <td>-8.231654</td>\n",
       "      <td>-9.371164</td>\n",
       "      <td>-255037.952966</td>\n",
       "      <td>-282851.387908</td>\n",
       "      <td>-180250.922287</td>\n",
       "      <td>-8.243159</td>\n",
       "      <td>-8.348831</td>\n",
       "      <td>-7.671565</td>\n",
       "    </tr>\n",
       "    <tr>\n",
       "      <th>25%</th>\n",
       "      <td>166.000000</td>\n",
       "      <td>-13127.557237</td>\n",
       "      <td>-11620.365836</td>\n",
       "      <td>-8000.289962</td>\n",
       "      <td>-1.892727</td>\n",
       "      <td>-1.874982</td>\n",
       "      <td>-1.255991</td>\n",
       "      <td>-13153.145398</td>\n",
       "      <td>-11736.509125</td>\n",
       "      <td>-7956.446370</td>\n",
       "      <td>-1.896259</td>\n",
       "      <td>-1.877142</td>\n",
       "      <td>-1.246751</td>\n",
       "    </tr>\n",
       "    <tr>\n",
       "      <th>50%</th>\n",
       "      <td>312.000000</td>\n",
       "      <td>-506.673520</td>\n",
       "      <td>514.039628</td>\n",
       "      <td>45.175018</td>\n",
       "      <td>0.019951</td>\n",
       "      <td>-0.051700</td>\n",
       "      <td>0.009385</td>\n",
       "      <td>-623.114440</td>\n",
       "      <td>523.437227</td>\n",
       "      <td>56.891526</td>\n",
       "      <td>0.021274</td>\n",
       "      <td>-0.012901</td>\n",
       "      <td>0.012037</td>\n",
       "    </tr>\n",
       "    <tr>\n",
       "      <th>75%</th>\n",
       "      <td>461.000000</td>\n",
       "      <td>11318.543144</td>\n",
       "      <td>12614.274408</td>\n",
       "      <td>8279.083423</td>\n",
       "      <td>1.960031</td>\n",
       "      <td>1.845111</td>\n",
       "      <td>1.237103</td>\n",
       "      <td>11190.022140</td>\n",
       "      <td>12547.532119</td>\n",
       "      <td>8235.078108</td>\n",
       "      <td>1.955522</td>\n",
       "      <td>1.862365</td>\n",
       "      <td>1.236030</td>\n",
       "    </tr>\n",
       "    <tr>\n",
       "      <th>max</th>\n",
       "      <td>599.000000</td>\n",
       "      <td>200382.689756</td>\n",
       "      <td>212443.393808</td>\n",
       "      <td>197200.530574</td>\n",
       "      <td>8.149559</td>\n",
       "      <td>12.308450</td>\n",
       "      <td>8.644558</td>\n",
       "      <td>200961.158000</td>\n",
       "      <td>209619.553857</td>\n",
       "      <td>198526.091552</td>\n",
       "      <td>7.431851</td>\n",
       "      <td>8.021438</td>\n",
       "      <td>8.644165</td>\n",
       "    </tr>\n",
       "  </tbody>\n",
       "</table>\n",
       "</div>"
      ],
      "text/plain": [
       "              sat_id              x              y              z  \\\n",
       "count  649912.000000  649912.000000  649912.000000  649912.000000   \n",
       "mean      308.730351    -817.243624     423.039342     -75.033412   \n",
       "std       171.482926   25391.507810   25631.511540   20652.050496   \n",
       "min         0.000000 -251938.766780 -291083.016974 -178922.412426   \n",
       "25%       166.000000  -13127.557237  -11620.365836   -8000.289962   \n",
       "50%       312.000000    -506.673520     514.039628      45.175018   \n",
       "75%       461.000000   11318.543144   12614.274408    8279.083423   \n",
       "max       599.000000  200382.689756  212443.393808  197200.530574   \n",
       "\n",
       "                  Vx             Vy             Vz          x_sim  \\\n",
       "count  649912.000000  649912.000000  649912.000000  649912.000000   \n",
       "mean       -0.000571       0.000468      -0.000084    -949.710660   \n",
       "std         2.639041       2.597130       2.116245   25374.076264   \n",
       "min        -8.286673      -8.231654      -9.371164 -255037.952966   \n",
       "25%        -1.892727      -1.874982      -1.255991  -13153.145398   \n",
       "50%         0.019951      -0.051700       0.009385    -623.114440   \n",
       "75%         1.960031       1.845111       1.237103   11190.022140   \n",
       "max         8.149559      12.308450       8.644558  200961.158000   \n",
       "\n",
       "               y_sim          z_sim         Vx_sim         Vy_sim  \\\n",
       "count  649912.000000  649912.000000  649912.000000  649912.000000   \n",
       "mean      324.557198     -79.766677      -0.000519       0.000394   \n",
       "std     25607.472371   20667.988715       2.637491       2.600323   \n",
       "min   -282851.387908 -180250.922287      -8.243159      -8.348831   \n",
       "25%    -11736.509125   -7956.446370      -1.896259      -1.877142   \n",
       "50%       523.437227      56.891526       0.021274      -0.012901   \n",
       "75%     12547.532119    8235.078108       1.955522       1.862365   \n",
       "max    209619.553857  198526.091552       7.431851       8.021438   \n",
       "\n",
       "              Vz_sim  \n",
       "count  649912.000000  \n",
       "mean       -0.000312  \n",
       "std         2.113769  \n",
       "min        -7.671565  \n",
       "25%        -1.246751  \n",
       "50%         0.012037  \n",
       "75%         1.236030  \n",
       "max         8.644165  "
      ]
     },
     "execution_count": 8,
     "metadata": {},
     "output_type": "execute_result"
    }
   ],
   "source": [
    "train.describe()"
   ]
  },
  {
   "cell_type": "code",
   "execution_count": 9,
   "metadata": {},
   "outputs": [
    {
     "data": {
      "text/plain": [
       "Index(['epoch', 'sat_id', 'x', 'y', 'z', 'Vx', 'Vy', 'Vz', 'x_sim', 'y_sim',\n",
       "       'z_sim', 'Vx_sim', 'Vy_sim', 'Vz_sim'],\n",
       "      dtype='object')"
      ]
     },
     "execution_count": 9,
     "metadata": {},
     "output_type": "execute_result"
    }
   ],
   "source": [
    "train.columns"
   ]
  },
  {
   "cell_type": "code",
   "execution_count": 10,
   "metadata": {},
   "outputs": [],
   "source": [
    "train_real = train.loc[:, ['epoch','sat_id','x','y','z','Vx','Vy','Vz']]\n",
    "train_sim = train.loc[:, ['epoch','sat_id','x_sim','y_sim','z_sim','Vx_sim','Vy_sim','Vz_sim']]"
   ]
  },
  {
   "cell_type": "code",
   "execution_count": 11,
   "metadata": {},
   "outputs": [
    {
     "name": "stdout",
     "output_type": "stream",
     "text": [
      "Index(['epoch', 'sat_id', 'x', 'y', 'z', 'Vx', 'Vy', 'Vz'], dtype='object')\n",
      "Index(['epoch', 'sat_id', 'x_sim', 'y_sim', 'z_sim', 'Vx_sim', 'Vy_sim',\n",
      "       'Vz_sim'],\n",
      "      dtype='object')\n"
     ]
    }
   ],
   "source": [
    "print(train_real.columns)\n",
    "print(train_sim.columns)"
   ]
  },
  {
   "cell_type": "markdown",
   "metadata": {},
   "source": [
    "## Попробуем посмтроить графики координат для реал и предиктов "
   ]
  },
  {
   "cell_type": "code",
   "execution_count": 12,
   "metadata": {},
   "outputs": [],
   "source": [
    "coord_real = train_real[train_real['sat_id'] == 0].loc[:, ['x','y','z']]\n",
    "coord_sim = train_sim[train_sim['sat_id'] == 0].loc[:, ['x_sim','y_sim','z_sim']]"
   ]
  },
  {
   "cell_type": "code",
   "execution_count": 13,
   "metadata": {},
   "outputs": [
    {
     "name": "stdout",
     "output_type": "stream",
     "text": [
      "observ number: 958\n"
     ]
    }
   ],
   "source": [
    "print('observ number:', train_real[train_real['sat_id'] == 0].shape[0])"
   ]
  },
  {
   "cell_type": "code",
   "execution_count": 14,
   "metadata": {},
   "outputs": [
    {
     "data": {
      "text/plain": [
       "[<matplotlib.lines.Line2D at 0x14b4af98>]"
      ]
     },
     "execution_count": 14,
     "metadata": {},
     "output_type": "execute_result"
    },
    {
     "data": {
      "image/png": "[encoded data removed]",
      "text/plain": [
       "<Figure size 720x720 with 1 Axes>"
      ]
     },
     "metadata": {},
     "output_type": "display_data"
    }
   ],
   "source": [
    "plt.figure(figsize=(10,10))\n",
    "plt.plot(coord_real.loc[:,'x'], coord_real.loc[:,'y'], 'g')\n",
    "plt.plot(coord_sim.loc[:,'x_sim'], coord_sim.loc[:,'y_sim'], 'r')"
   ]
  },
  {
   "cell_type": "markdown",
   "metadata": {},
   "source": [
    "Если присмотреться, то видно, что предикты смещены"
   ]
  },
  {
   "cell_type": "code",
   "execution_count": 15,
   "metadata": {},
   "outputs": [],
   "source": [
    "diff = pd.DataFrame({'x':np.subtract(coord_real.loc[:,'x'],coord_sim.loc[:,'x_sim']),\n",
    "                     'y':np.subtract(coord_real.loc[:,'y'],coord_sim.loc[:,'y_sim']),\n",
    "                     'z':np.subtract(coord_real.loc[:,'z'],coord_sim.loc[:,'z_sim'])})"
   ]
  },
  {
   "cell_type": "code",
   "execution_count": 16,
   "metadata": {},
   "outputs": [
    {
     "data": {
      "text/html": [
       "<div>\n",
       "<style scoped>\n",
       "    .dataframe tbody tr th:only-of-type {\n",
       "        vertical-align: middle;\n",
       "    }\n",
       "\n",
       "    .dataframe tbody tr th {\n",
       "        vertical-align: top;\n",
       "    }\n",
       "\n",
       "    .dataframe thead th {\n",
       "        text-align: right;\n",
       "    }\n",
       "</style>\n",
       "<table border=\"1\" class=\"dataframe\">\n",
       "  <thead>\n",
       "    <tr style=\"text-align: right;\">\n",
       "      <th></th>\n",
       "      <th>x</th>\n",
       "      <th>y</th>\n",
       "      <th>z</th>\n",
       "    </tr>\n",
       "  </thead>\n",
       "  <tbody>\n",
       "    <tr>\n",
       "      <th>0</th>\n",
       "      <td>-12.692409</td>\n",
       "      <td>-20.441543</td>\n",
       "      <td>13.262073</td>\n",
       "    </tr>\n",
       "    <tr>\n",
       "      <th>1</th>\n",
       "      <td>-12.172318</td>\n",
       "      <td>-29.543301</td>\n",
       "      <td>21.276285</td>\n",
       "    </tr>\n",
       "    <tr>\n",
       "      <th>2</th>\n",
       "      <td>-6.825572</td>\n",
       "      <td>-34.527552</td>\n",
       "      <td>32.888826</td>\n",
       "    </tr>\n",
       "    <tr>\n",
       "      <th>3</th>\n",
       "      <td>1.368937</td>\n",
       "      <td>-33.237259</td>\n",
       "      <td>44.637815</td>\n",
       "    </tr>\n",
       "    <tr>\n",
       "      <th>4</th>\n",
       "      <td>10.266521</td>\n",
       "      <td>-26.790192</td>\n",
       "      <td>53.492019</td>\n",
       "    </tr>\n",
       "  </tbody>\n",
       "</table>\n",
       "</div>"
      ],
      "text/plain": [
       "           x          y          z\n",
       "0 -12.692409 -20.441543  13.262073\n",
       "1 -12.172318 -29.543301  21.276285\n",
       "2  -6.825572 -34.527552  32.888826\n",
       "3   1.368937 -33.237259  44.637815\n",
       "4  10.266521 -26.790192  53.492019"
      ]
     },
     "execution_count": 16,
     "metadata": {},
     "output_type": "execute_result"
    }
   ],
   "source": [
    "diff.head(5)"
   ]
  },
  {
   "cell_type": "code",
   "execution_count": 17,
   "metadata": {},
   "outputs": [
    {
     "data": {
      "text/html": [
       "<div>\n",
       "<style scoped>\n",
       "    .dataframe tbody tr th:only-of-type {\n",
       "        vertical-align: middle;\n",
       "    }\n",
       "\n",
       "    .dataframe tbody tr th {\n",
       "        vertical-align: top;\n",
       "    }\n",
       "\n",
       "    .dataframe thead th {\n",
       "        text-align: right;\n",
       "    }\n",
       "</style>\n",
       "<table border=\"1\" class=\"dataframe\">\n",
       "  <thead>\n",
       "    <tr style=\"text-align: right;\">\n",
       "      <th></th>\n",
       "      <th>x</th>\n",
       "      <th>y</th>\n",
       "      <th>z</th>\n",
       "    </tr>\n",
       "  </thead>\n",
       "  <tbody>\n",
       "    <tr>\n",
       "      <th>0</th>\n",
       "      <td>12.692409</td>\n",
       "      <td>20.441543</td>\n",
       "      <td>13.262073</td>\n",
       "    </tr>\n",
       "    <tr>\n",
       "      <th>1</th>\n",
       "      <td>12.172318</td>\n",
       "      <td>29.543301</td>\n",
       "      <td>21.276285</td>\n",
       "    </tr>\n",
       "    <tr>\n",
       "      <th>2</th>\n",
       "      <td>6.825572</td>\n",
       "      <td>34.527552</td>\n",
       "      <td>32.888826</td>\n",
       "    </tr>\n",
       "    <tr>\n",
       "      <th>3</th>\n",
       "      <td>1.368937</td>\n",
       "      <td>33.237259</td>\n",
       "      <td>44.637815</td>\n",
       "    </tr>\n",
       "    <tr>\n",
       "      <th>4</th>\n",
       "      <td>10.266521</td>\n",
       "      <td>26.790192</td>\n",
       "      <td>53.492019</td>\n",
       "    </tr>\n",
       "  </tbody>\n",
       "</table>\n",
       "</div>"
      ],
      "text/plain": [
       "           x          y          z\n",
       "0  12.692409  20.441543  13.262073\n",
       "1  12.172318  29.543301  21.276285\n",
       "2   6.825572  34.527552  32.888826\n",
       "3   1.368937  33.237259  44.637815\n",
       "4  10.266521  26.790192  53.492019"
      ]
     },
     "execution_count": 17,
     "metadata": {},
     "output_type": "execute_result"
    }
   ],
   "source": [
    "diff = np.abs(diff)\n",
    "diff.head()"
   ]
  },
  {
   "cell_type": "code",
   "execution_count": 18,
   "metadata": {},
   "outputs": [
    {
     "data": {
      "text/html": [
       "<div>\n",
       "<style scoped>\n",
       "    .dataframe tbody tr th:only-of-type {\n",
       "        vertical-align: middle;\n",
       "    }\n",
       "\n",
       "    .dataframe tbody tr th {\n",
       "        vertical-align: top;\n",
       "    }\n",
       "\n",
       "    .dataframe thead th {\n",
       "        text-align: right;\n",
       "    }\n",
       "</style>\n",
       "<table border=\"1\" class=\"dataframe\">\n",
       "  <thead>\n",
       "    <tr style=\"text-align: right;\">\n",
       "      <th></th>\n",
       "      <th>x</th>\n",
       "      <th>y</th>\n",
       "      <th>z</th>\n",
       "    </tr>\n",
       "  </thead>\n",
       "  <tbody>\n",
       "    <tr>\n",
       "      <th>953</th>\n",
       "      <td>1911.918388</td>\n",
       "      <td>15612.075013</td>\n",
       "      <td>4879.299912</td>\n",
       "    </tr>\n",
       "    <tr>\n",
       "      <th>954</th>\n",
       "      <td>3429.845937</td>\n",
       "      <td>14789.698343</td>\n",
       "      <td>8355.689969</td>\n",
       "    </tr>\n",
       "    <tr>\n",
       "      <th>955</th>\n",
       "      <td>5005.320639</td>\n",
       "      <td>13066.730924</td>\n",
       "      <td>11936.165799</td>\n",
       "    </tr>\n",
       "    <tr>\n",
       "      <th>956</th>\n",
       "      <td>6572.080659</td>\n",
       "      <td>10195.884818</td>\n",
       "      <td>15459.066758</td>\n",
       "    </tr>\n",
       "    <tr>\n",
       "      <th>957</th>\n",
       "      <td>7990.429369</td>\n",
       "      <td>5889.747366</td>\n",
       "      <td>18591.737280</td>\n",
       "    </tr>\n",
       "  </tbody>\n",
       "</table>\n",
       "</div>"
      ],
      "text/plain": [
       "               x             y             z\n",
       "953  1911.918388  15612.075013   4879.299912\n",
       "954  3429.845937  14789.698343   8355.689969\n",
       "955  5005.320639  13066.730924  11936.165799\n",
       "956  6572.080659  10195.884818  15459.066758\n",
       "957  7990.429369   5889.747366  18591.737280"
      ]
     },
     "execution_count": 18,
     "metadata": {},
     "output_type": "execute_result"
    }
   ],
   "source": [
    "diff.tail()"
   ]
  },
  {
   "cell_type": "code",
   "execution_count": 19,
   "metadata": {},
   "outputs": [
    {
     "data": {
      "text/html": [
       "<div>\n",
       "<style scoped>\n",
       "    .dataframe tbody tr th:only-of-type {\n",
       "        vertical-align: middle;\n",
       "    }\n",
       "\n",
       "    .dataframe tbody tr th {\n",
       "        vertical-align: top;\n",
       "    }\n",
       "\n",
       "    .dataframe thead th {\n",
       "        text-align: right;\n",
       "    }\n",
       "</style>\n",
       "<table border=\"1\" class=\"dataframe\">\n",
       "  <thead>\n",
       "    <tr style=\"text-align: right;\">\n",
       "      <th></th>\n",
       "      <th>x</th>\n",
       "      <th>y</th>\n",
       "      <th>z</th>\n",
       "    </tr>\n",
       "  </thead>\n",
       "  <tbody>\n",
       "    <tr>\n",
       "      <th>count</th>\n",
       "      <td>958.000000</td>\n",
       "      <td>958.000000</td>\n",
       "      <td>958.000000</td>\n",
       "    </tr>\n",
       "    <tr>\n",
       "      <th>mean</th>\n",
       "      <td>2195.813550</td>\n",
       "      <td>5436.462537</td>\n",
       "      <td>5065.499649</td>\n",
       "    </tr>\n",
       "    <tr>\n",
       "      <th>std</th>\n",
       "      <td>2120.704688</td>\n",
       "      <td>5305.448932</td>\n",
       "      <td>4900.420056</td>\n",
       "    </tr>\n",
       "    <tr>\n",
       "      <th>min</th>\n",
       "      <td>0.935108</td>\n",
       "      <td>0.019449</td>\n",
       "      <td>0.144493</td>\n",
       "    </tr>\n",
       "    <tr>\n",
       "      <th>25%</th>\n",
       "      <td>71.485954</td>\n",
       "      <td>198.433841</td>\n",
       "      <td>121.724188</td>\n",
       "    </tr>\n",
       "    <tr>\n",
       "      <th>50%</th>\n",
       "      <td>1918.363332</td>\n",
       "      <td>5037.648279</td>\n",
       "      <td>4222.863670</td>\n",
       "    </tr>\n",
       "    <tr>\n",
       "      <th>75%</th>\n",
       "      <td>3456.898622</td>\n",
       "      <td>7988.854995</td>\n",
       "      <td>8018.753990</td>\n",
       "    </tr>\n",
       "    <tr>\n",
       "      <th>max</th>\n",
       "      <td>9158.649797</td>\n",
       "      <td>24606.996844</td>\n",
       "      <td>20854.343912</td>\n",
       "    </tr>\n",
       "  </tbody>\n",
       "</table>\n",
       "</div>"
      ],
      "text/plain": [
       "                 x             y             z\n",
       "count   958.000000    958.000000    958.000000\n",
       "mean   2195.813550   5436.462537   5065.499649\n",
       "std    2120.704688   5305.448932   4900.420056\n",
       "min       0.935108      0.019449      0.144493\n",
       "25%      71.485954    198.433841    121.724188\n",
       "50%    1918.363332   5037.648279   4222.863670\n",
       "75%    3456.898622   7988.854995   8018.753990\n",
       "max    9158.649797  24606.996844  20854.343912"
      ]
     },
     "execution_count": 19,
     "metadata": {},
     "output_type": "execute_result"
    }
   ],
   "source": [
    "diff.describe()"
   ]
  },
  {
   "cell_type": "markdown",
   "metadata": {},
   "source": [
    "Если учесть, что значения координат могут варьироваться от -250000 до + 200000, то норм"
   ]
  },
  {
   "cell_type": "markdown",
   "metadata": {},
   "source": [
    "### Поделим на трэйн-тест выборки"
   ]
  },
  {
   "cell_type": "code",
   "execution_count": 23,
   "metadata": {},
   "outputs": [],
   "source": [
    "y_train, y_test, X_train, X_test  = train_test_split(train_real.drop([ 'epoch', 'sat_id'], axis=1), \n",
    "                                                    train_sim.drop([ 'epoch', 'sat_id'], axis=1),\n",
    "                                                    train_size=0.7, test_size=0.3, random_state=1, shuffle=True)"
   ]
  },
  {
   "cell_type": "markdown",
   "metadata": {},
   "source": [
    "переставлены y, Х, чтобы в у были реальные значения"
   ]
  },
  {
   "cell_type": "code",
   "execution_count": 24,
   "metadata": {},
   "outputs": [
    {
     "name": "stdout",
     "output_type": "stream",
     "text": [
      "(454938, 7)\n",
      "(454938, 12)\n",
      "(194974, 7)\n",
      "(194974, 12)\n"
     ]
    }
   ],
   "source": [
    "print(X_train.shape)\n",
    "print(y_train.shape)\n",
    "print(X_test.shape)\n",
    "print(y_test.shape)"
   ]
  },
  {
   "cell_type": "markdown",
   "metadata": {},
   "source": [
    "### Линейная модель "
   ]
  },
  {
   "cell_type": "code",
   "execution_count": 23,
   "metadata": {},
   "outputs": [
    {
     "name": "stdout",
     "output_type": "stream",
     "text": [
      "MAE pred train: 3365.99976533023\n",
      "MAE pred: 3332.031462084599\n",
      "MAE sim: 3089.196364769518\n"
     ]
    }
   ],
   "source": [
    "model_lin = LinearRegression()\n",
    "\n",
    "model_lin.fit(np.array(X_train.loc[:,'x_sim']).reshape(-1, 1), np.array(y_train.loc[:,'x']))\n",
    "\n",
    "pred_lin_train =  model_lin.predict(np.array(X_train.loc[:,'x_sim']).reshape(-1, 1))\n",
    "pred_lin = model_lin.predict(np.array(X_test.loc[:,'x_sim']).reshape(-1, 1))\n",
    "\n",
    "print('MAE pred train:', mean_absolute_error(np.array(y_train.loc[:,'x']), pred_lin_train))\n",
    "print('MAE pred:', mean_absolute_error(np.array(y_test.loc[:,'x']), pred_lin))\n",
    "print('MAE sim:', mean_absolute_error(np.array(y_test.loc[:,'x']), np.array(X_test.loc[:,'x_sim']).reshape(-1, 1)))"
   ]
  },
  {
   "cell_type": "code",
   "execution_count": 24,
   "metadata": {},
   "outputs": [
    {
     "name": "stdout",
     "output_type": "stream",
     "text": [
      "MAE pred: 3362.3882974124676\n",
      "MAE sim: 3133.756272228635\n"
     ]
    }
   ],
   "source": [
    "model_lin = LinearRegression()\n",
    "\n",
    "model_lin.fit(np.array(X_train.loc[:,'y_sim']).reshape(-1, 1), np.array(y_train.loc[:,'y']))\n",
    "pred_lin = model_lin.predict(np.array(X_test.loc[:,'y_sim']).reshape(-1, 1))\n",
    "\n",
    "print('MAE pred:', mean_absolute_error(np.array(y_test.loc[:,'y']), pred_lin))\n",
    "print('MAE sim:', mean_absolute_error(np.array(y_test.loc[:,'y']), np.array(X_test.loc[:,'y_sim']).reshape(-1, 1)))"
   ]
  },
  {
   "cell_type": "code",
   "execution_count": 25,
   "metadata": {},
   "outputs": [
    {
     "name": "stdout",
     "output_type": "stream",
     "text": [
      "MAE pred: 2530.4598320729183\n",
      "MAE sim: 2337.4492047405474\n"
     ]
    }
   ],
   "source": [
    "model_lin = LinearRegression()\n",
    "\n",
    "model_lin.fit(np.array(X_train.loc[:,'z_sim']).reshape(-1, 1), np.array(y_train.loc[:,'z']))\n",
    "pred_lin = model_lin.predict(np.array(X_test.loc[:,'z_sim']).reshape(-1, 1))\n",
    "\n",
    "print('MAE pred:', mean_absolute_error(np.array(y_test.loc[:,'z']), pred_lin))\n",
    "print('MAE sim:', mean_absolute_error(np.array(y_test.loc[:,'z']), np.array(X_test.loc[:,'z_sim']).reshape(-1, 1)))"
   ]
  },
  {
   "cell_type": "code",
   "execution_count": 26,
   "metadata": {},
   "outputs": [
    {
     "name": "stdout",
     "output_type": "stream",
     "text": [
      "MAE pred: 0.5765952991763054\n",
      "MAE sim: 0.4777916240228887\n"
     ]
    }
   ],
   "source": [
    "model_lin = LinearRegression()\n",
    "\n",
    "model_lin.fit(np.array(X_train.loc[:,'Vz_sim']).reshape(-1, 1), np.array(y_train.loc[:,'Vz']))\n",
    "pred_lin = model_lin.predict(np.array(X_test.loc[:,'Vz_sim']).reshape(-1, 1))\n",
    "\n",
    "print('MAE pred:', mean_absolute_error(np.array(y_test.loc[:,'Vz']), pred_lin))\n",
    "print('MAE sim:', mean_absolute_error(np.array(y_test.loc[:,'Vz']), np.array(X_test.loc[:,'Vz_sim']).reshape(-1, 1)))"
   ]
  },
  {
   "cell_type": "markdown",
   "metadata": {},
   "source": [
    "Вышло хуже симуляции, попробуем по-фану докинуть координаты другие и спиды :))) по осям"
   ]
  },
  {
   "cell_type": "code",
   "execution_count": 27,
   "metadata": {},
   "outputs": [
    {
     "name": "stdout",
     "output_type": "stream",
     "text": [
      "MAE pred: 3389.831680769296\n",
      "MAE sim: 3089.196364769518\n"
     ]
    }
   ],
   "source": [
    "model_lin = LinearRegression()\n",
    "\n",
    "model_lin.fit(X_train.loc[:,['x_sim','Vx_sim']], np.array(y_train.loc[:,'x']))\n",
    "pred_lin = model_lin.predict(X_test.loc[:,['x_sim','Vx_sim']])\n",
    "\n",
    "print('MAE pred:', mean_absolute_error(np.array(y_test.loc[:,'x']), pred_lin))\n",
    "print('MAE sim:', mean_absolute_error(np.array(y_test.loc[:,'x']), np.array(X_test.loc[:,'x_sim']).reshape(-1, 1)))"
   ]
  },
  {
   "cell_type": "code",
   "execution_count": 28,
   "metadata": {},
   "outputs": [
    {
     "name": "stdout",
     "output_type": "stream",
     "text": [
      "MAE pred: 3340.1757499996793\n",
      "MAE sim: 3089.196364769518\n"
     ]
    }
   ],
   "source": [
    "model_lin = LinearRegression()\n",
    "\n",
    "model_lin.fit(X_train.loc[:,['x_sim','y_sim','z_sim']], np.array(y_train.loc[:,'x']))\n",
    "pred_lin = model_lin.predict(X_test.loc[:,['x_sim','y_sim','z_sim']])\n",
    "\n",
    "print('MAE pred:', mean_absolute_error(np.array(y_test.loc[:,'x']), pred_lin))\n",
    "print('MAE sim:', mean_absolute_error(np.array(y_test.loc[:,'x']), np.array(X_test.loc[:,'x_sim']).reshape(-1, 1)))"
   ]
  },
  {
   "cell_type": "code",
   "execution_count": 29,
   "metadata": {},
   "outputs": [
    {
     "name": "stdout",
     "output_type": "stream",
     "text": [
      "MAE pred: 3401.643147467761\n",
      "MAE sim: 3089.196364769518\n"
     ]
    }
   ],
   "source": [
    "model_lin = LinearRegression()\n",
    "\n",
    "model_lin.fit(X_train, np.array(y_train.loc[:,'x']))\n",
    "pred_lin = model_lin.predict(X_test)\n",
    "\n",
    "print('MAE pred:', mean_absolute_error(np.array(y_test.loc[:,'x']), pred_lin))\n",
    "print('MAE sim:', mean_absolute_error(np.array(y_test.loc[:,'x']), np.array(X_test.loc[:,'x_sim']).reshape(-1, 1)))"
   ]
  },
  {
   "cell_type": "markdown",
   "metadata": {},
   "source": [
    "Еще хуже"
   ]
  },
  {
   "cell_type": "markdown",
   "metadata": {},
   "source": [
    "Соберем сабамит из линейных моделей, чтобы сравнить с sample submission"
   ]
  },
  {
   "cell_type": "code",
   "execution_count": 60,
   "metadata": {},
   "outputs": [],
   "source": [
    "# train_real = train_real.drop([ 'epoch', 'sat_id'], axis=1) \n",
    "# train_sim = train_sim.drop([ 'epoch', 'sat_id'], axis=1)"
   ]
  },
  {
   "cell_type": "code",
   "execution_count": 61,
   "metadata": {},
   "outputs": [],
   "source": [
    "# model_lin = LinearRegression()\n",
    "\n",
    "# model_lin.fit(np.array(train_sim.loc[:, 'x_sim']).reshape(-1, 1), np.array(train_real.loc[:, 'x']))\n",
    "# pred_x = model_lin.predict(np.array(test.loc[:, 'x_sim']).reshape(-1, 1))               "
   ]
  },
  {
   "cell_type": "code",
   "execution_count": 62,
   "metadata": {},
   "outputs": [],
   "source": [
    "# model_lin.fit(np.array(train_sim.loc[:, 'y_sim']).reshape(-1, 1), np.array(train_real.loc[:, 'y']))\n",
    "# pred_y = model_lin.predict(np.array(test.loc[:, 'y_sim']).reshape(-1, 1))     "
   ]
  },
  {
   "cell_type": "code",
   "execution_count": 63,
   "metadata": {},
   "outputs": [],
   "source": [
    "# model_lin.fit(np.array(train_sim.loc[:, 'z_sim']).reshape(-1, 1), np.array(train_real.loc[:, 'z']))\n",
    "# pred_z = model_lin.predict(np.array(test.loc[:, 'z_sim']).reshape(-1, 1))    "
   ]
  },
  {
   "cell_type": "code",
   "execution_count": 64,
   "metadata": {},
   "outputs": [],
   "source": [
    "# model_lin.fit(np.array(train_sim.loc[:, 'Vx_sim']).reshape(-1, 1), np.array(train_real.loc[:, 'Vx']))\n",
    "# pred_Vx = model_lin.predict(np.array(test.loc[:, 'Vx_sim']).reshape(-1, 1))    "
   ]
  },
  {
   "cell_type": "code",
   "execution_count": 65,
   "metadata": {},
   "outputs": [],
   "source": [
    "# model_lin.fit(np.array(train_sim.loc[:, 'Vy_sim']).reshape(-1, 1), np.array(train_real.loc[:, 'Vy']))\n",
    "# pred_Vy = model_lin.predict(np.array(test.loc[:, 'Vy_sim']).reshape(-1, 1))     "
   ]
  },
  {
   "cell_type": "code",
   "execution_count": 66,
   "metadata": {},
   "outputs": [],
   "source": [
    "# model_lin.fit(np.array(train_sim.loc[:, 'Vz_sim']).reshape(-1, 1), np.array(train_real.loc[:, 'Vz']))\n",
    "# pred_Vz = model_lin.predict(np.array(test.loc[:, 'Vz_sim']).reshape(-1, 1))    "
   ]
  },
  {
   "cell_type": "code",
   "execution_count": 67,
   "metadata": {},
   "outputs": [],
   "source": [
    "# submission_linear = pd.DataFrame({'id':test.loc[:,'id'], 'x':pred_x, 'y':pred_y, 'z':pred_z, 'Vx':pred_Vx, 'Vy':pred_Vy, 'Vz':pred_Vz})"
   ]
  },
  {
   "cell_type": "code",
   "execution_count": 68,
   "metadata": {},
   "outputs": [],
   "source": [
    "# submission_linear.to_csv(r'D:\\Загрузки\\IDAO 2020\\Track 1\\submission_linear.csv', index=False)"
   ]
  },
  {
   "cell_type": "markdown",
   "metadata": {},
   "source": [
    "Score :65.1 (baseline: 66.24)"
   ]
  },
  {
   "cell_type": "markdown",
   "metadata": {},
   "source": [
    "### XGBRegression "
   ]
  },
  {
   "cell_type": "code",
   "execution_count": 73,
   "metadata": {},
   "outputs": [],
   "source": [
    "# model = xgb.XGBRegressor(booster='gblinear',\n",
    "#                  colsample_bytree=0.4,\n",
    "#                  gamma=0,                 \n",
    "#                  learning_rate=0.07,\n",
    "#                  max_depth=3,\n",
    "#                  n_estimators=10000,                                                                    \n",
    "#                  reg_alpha=0.75,\n",
    "#                  reg_lambda=0.45,\n",
    "#                  seed=1)"
   ]
  },
  {
   "cell_type": "code",
   "execution_count": 79,
   "metadata": {},
   "outputs": [
    {
     "name": "stdout",
     "output_type": "stream",
     "text": [
      "[18:10:21] WARNING: C:/Jenkins/workspace/xgboost-win64_release_0.90/src/objective/regression_obj.cu:152: reg:linear is now deprecated in favor of reg:squarederror.\n",
      "MAE pred train: 3366.2250638530472\n",
      "MAE pred: 3332.2582908570134\n",
      "MAE sim: 3089.196364769518\n"
     ]
    }
   ],
   "source": [
    "model = xgb.XGBRegressor(booster='gblinear')\n",
    "\n",
    "model.fit(np.array(X_train.loc[:,'x_sim']).reshape(-1, 1), np.array(y_train.loc[:,'x']))\n",
    "\n",
    "pred_xgb = model.predict(np.array(X_test.loc[:,'x_sim']).reshape(-1, 1))\n",
    "pred_xgb_train = model.predict(np.array(X_train.loc[:,'x_sim']).reshape(-1, 1))\n",
    "\n",
    "print('MAE pred train:', mean_absolute_error(np.array(y_train.loc[:,'x']), pred_xgb_train))\n",
    "print('MAE pred:', mean_absolute_error(np.array(y_test.loc[:,'x']), pred_xgb))\n",
    "print('MAE sim:', mean_absolute_error(np.array(y_test.loc[:,'x']), np.array(X_test.loc[:,'x_sim']).reshape(-1, 1)))"
   ]
  },
  {
   "cell_type": "markdown",
   "metadata": {},
   "source": [
    "Почти то же самое, что и LinearRegression"
   ]
  },
  {
   "cell_type": "markdown",
   "metadata": {},
   "source": [
    "## Исправление ошибки SGP4 "
   ]
  },
  {
   "cell_type": "code",
   "execution_count": 32,
   "metadata": {},
   "outputs": [],
   "source": [
    "train = pd.read_csv(r'D:\\Загрузки\\IDAO 2020\\train.csv')\n",
    "test = pd.read_csv(r'D:\\Загрузки\\IDAO 2020\\Track 1\\test.csv')\n",
    "\n",
    "# train_real = train.loc[:, ['id', 'epoch','sat_id','x','y','z','Vx','Vy','Vz']]\n",
    "# train_sim = train.loc[:, ['id', 'epoch','sat_id','x_sim','y_sim','z_sim','Vx_sim','Vy_sim','Vz_sim']]"
   ]
  },
  {
   "cell_type": "code",
   "execution_count": 33,
   "metadata": {},
   "outputs": [
    {
     "name": "stdout",
     "output_type": "stream",
     "text": [
      "(649912, 15)\n",
      "(284071, 9)\n",
      "(649912, 9)\n",
      "(649912, 9)\n"
     ]
    }
   ],
   "source": [
    "print(train.shape)\n",
    "print(test.shape)\n",
    "print(train_real.shape)\n",
    "print(train_sim.shape)"
   ]
  },
  {
   "cell_type": "markdown",
   "metadata": {},
   "source": [
    "#### Перевод эпохи в столбцы день, час, минут, секунд"
   ]
  },
  {
   "cell_type": "markdown",
   "metadata": {},
   "source": [
    "Время наблюдений у нас только Январь 2014 года => изменения года, месяца не влияют"
   ]
  },
  {
   "cell_type": "code",
   "execution_count": 34,
   "metadata": {},
   "outputs": [
    {
     "data": {
      "text/plain": [
       "'2014-01-01T00:00:00.000'"
      ]
     },
     "execution_count": 34,
     "metadata": {},
     "output_type": "execute_result"
    }
   ],
   "source": [
    "min(train.loc[:,'epoch'])"
   ]
  },
  {
   "cell_type": "code",
   "execution_count": 35,
   "metadata": {},
   "outputs": [
    {
     "data": {
      "text/plain": [
       "'2014-01-31T23:59:59.991'"
      ]
     },
     "execution_count": 35,
     "metadata": {},
     "output_type": "execute_result"
    }
   ],
   "source": [
    "max(train.loc[:,'epoch'])"
   ]
  },
  {
   "cell_type": "code",
   "execution_count": 36,
   "metadata": {},
   "outputs": [
    {
     "data": {
      "text/plain": [
       "0    2014-01-01T00:00:00.000\n",
       "1    2014-01-01T00:46:43.000\n",
       "2    2014-01-01T01:33:26.001\n",
       "Name: epoch, dtype: object"
      ]
     },
     "execution_count": 36,
     "metadata": {},
     "output_type": "execute_result"
    }
   ],
   "source": [
    "train.loc[0:2,'epoch']"
   ]
  },
  {
   "cell_type": "code",
   "execution_count": 37,
   "metadata": {},
   "outputs": [
    {
     "name": "stdout",
     "output_type": "stream",
     "text": [
      "2014-01-01T00:00:00.000\n",
      "<class 'str'>\n"
     ]
    }
   ],
   "source": [
    "print(train.loc[0,'epoch'])\n",
    "print(type(train.loc[0,'epoch']))"
   ]
  },
  {
   "cell_type": "markdown",
   "metadata": {},
   "source": [
    "Раз это стринги, при этом все одного формата, то тупо заслайсим их"
   ]
  },
  {
   "cell_type": "code",
   "execution_count": 40,
   "metadata": {},
   "outputs": [],
   "source": [
    "train['day'] = train.loc[:,'epoch'].str.slice(start=8, stop=10).astype('int32')-1\n",
    "train['hour'] = train.loc[:,'epoch'].str.slice(start=11, stop=13).astype('int32')\n",
    "train['minute'] = train.loc[:,'epoch'].str.slice(start=14, stop=16).astype('int32')\n",
    "train['second'] = train.loc[:,'epoch'].str.slice(start=17, stop=19).astype('int32')"
   ]
  },
  {
   "cell_type": "code",
   "execution_count": 41,
   "metadata": {},
   "outputs": [
    {
     "data": {
      "text/html": [
       "<div>\n",
       "<style scoped>\n",
       "    .dataframe tbody tr th:only-of-type {\n",
       "        vertical-align: middle;\n",
       "    }\n",
       "\n",
       "    .dataframe tbody tr th {\n",
       "        vertical-align: top;\n",
       "    }\n",
       "\n",
       "    .dataframe thead th {\n",
       "        text-align: right;\n",
       "    }\n",
       "</style>\n",
       "<table border=\"1\" class=\"dataframe\">\n",
       "  <thead>\n",
       "    <tr style=\"text-align: right;\">\n",
       "      <th></th>\n",
       "      <th>id</th>\n",
       "      <th>epoch</th>\n",
       "      <th>sat_id</th>\n",
       "      <th>x</th>\n",
       "      <th>y</th>\n",
       "      <th>z</th>\n",
       "      <th>Vx</th>\n",
       "      <th>Vy</th>\n",
       "      <th>Vz</th>\n",
       "      <th>x_sim</th>\n",
       "      <th>y_sim</th>\n",
       "      <th>z_sim</th>\n",
       "      <th>Vx_sim</th>\n",
       "      <th>Vy_sim</th>\n",
       "      <th>Vz_sim</th>\n",
       "      <th>day</th>\n",
       "      <th>hour</th>\n",
       "      <th>minute</th>\n",
       "      <th>second</th>\n",
       "    </tr>\n",
       "  </thead>\n",
       "  <tbody>\n",
       "    <tr>\n",
       "      <th>0</th>\n",
       "      <td>0</td>\n",
       "      <td>2014-01-01T00:00:00.000</td>\n",
       "      <td>0</td>\n",
       "      <td>-8855.823863</td>\n",
       "      <td>13117.780146</td>\n",
       "      <td>-20728.353233</td>\n",
       "      <td>-0.908303</td>\n",
       "      <td>-3.808436</td>\n",
       "      <td>-2.022083</td>\n",
       "      <td>-8843.131454</td>\n",
       "      <td>13138.221690</td>\n",
       "      <td>-20741.615306</td>\n",
       "      <td>-0.907527</td>\n",
       "      <td>-3.804930</td>\n",
       "      <td>-2.024133</td>\n",
       "      <td>0</td>\n",
       "      <td>0</td>\n",
       "      <td>0</td>\n",
       "      <td>0</td>\n",
       "    </tr>\n",
       "    <tr>\n",
       "      <th>1</th>\n",
       "      <td>1</td>\n",
       "      <td>2014-01-01T00:46:43.000</td>\n",
       "      <td>0</td>\n",
       "      <td>-10567.672384</td>\n",
       "      <td>1619.746066</td>\n",
       "      <td>-24451.813271</td>\n",
       "      <td>-0.302590</td>\n",
       "      <td>-4.272617</td>\n",
       "      <td>-0.612796</td>\n",
       "      <td>-10555.500066</td>\n",
       "      <td>1649.289367</td>\n",
       "      <td>-24473.089556</td>\n",
       "      <td>-0.303704</td>\n",
       "      <td>-4.269816</td>\n",
       "      <td>-0.616468</td>\n",
       "      <td>0</td>\n",
       "      <td>0</td>\n",
       "      <td>46</td>\n",
       "      <td>43</td>\n",
       "    </tr>\n",
       "    <tr>\n",
       "      <th>2</th>\n",
       "      <td>2</td>\n",
       "      <td>2014-01-01T01:33:26.001</td>\n",
       "      <td>0</td>\n",
       "      <td>-10578.684043</td>\n",
       "      <td>-10180.467460</td>\n",
       "      <td>-24238.280949</td>\n",
       "      <td>0.277435</td>\n",
       "      <td>-4.047522</td>\n",
       "      <td>0.723155</td>\n",
       "      <td>-10571.858472</td>\n",
       "      <td>-10145.939908</td>\n",
       "      <td>-24271.169776</td>\n",
       "      <td>0.274880</td>\n",
       "      <td>-4.046788</td>\n",
       "      <td>0.718768</td>\n",
       "      <td>0</td>\n",
       "      <td>1</td>\n",
       "      <td>33</td>\n",
       "      <td>26</td>\n",
       "    </tr>\n",
       "  </tbody>\n",
       "</table>\n",
       "</div>"
      ],
      "text/plain": [
       "   id                    epoch  sat_id             x             y  \\\n",
       "0   0  2014-01-01T00:00:00.000       0  -8855.823863  13117.780146   \n",
       "1   1  2014-01-01T00:46:43.000       0 -10567.672384   1619.746066   \n",
       "2   2  2014-01-01T01:33:26.001       0 -10578.684043 -10180.467460   \n",
       "\n",
       "              z        Vx        Vy        Vz         x_sim         y_sim  \\\n",
       "0 -20728.353233 -0.908303 -3.808436 -2.022083  -8843.131454  13138.221690   \n",
       "1 -24451.813271 -0.302590 -4.272617 -0.612796 -10555.500066   1649.289367   \n",
       "2 -24238.280949  0.277435 -4.047522  0.723155 -10571.858472 -10145.939908   \n",
       "\n",
       "          z_sim    Vx_sim    Vy_sim    Vz_sim  day  hour  minute  second  \n",
       "0 -20741.615306 -0.907527 -3.804930 -2.024133    0     0       0       0  \n",
       "1 -24473.089556 -0.303704 -4.269816 -0.616468    0     0      46      43  \n",
       "2 -24271.169776  0.274880 -4.046788  0.718768    0     1      33      26  "
      ]
     },
     "execution_count": 41,
     "metadata": {},
     "output_type": "execute_result"
    }
   ],
   "source": [
    "train.head(3)"
   ]
  },
  {
   "cell_type": "code",
   "execution_count": 50,
   "metadata": {},
   "outputs": [],
   "source": [
    "# это работает, но не нашло применения\n",
    "# print('Date:', datetime.strptime(train_real.loc[0,'epoch'].split('T')[0], '%Y-%m-%d'))\n",
    "# print('Time:', datetime.strptime(train_real.loc[0,'epoch'].split('T')[1], '%H:%M:%S.%f'))\n",
    "# print('Date Time:', datetime.strptime(train_real.loc[0,'epoch'], '%Y-%m-%dT%H:%M:%S.%f'))\n",
    "# datetime.strptime(train_real.loc[0,'epoch'], '%Y-%m-%dT%H:%M:%S.%f').microsecond"
   ]
  },
  {
   "cell_type": "markdown",
   "metadata": {},
   "source": [
    "След ячейка долго выполняется, потому что я написал херню, вероятно"
   ]
  },
  {
   "cell_type": "code",
   "execution_count": 27,
   "metadata": {},
   "outputs": [],
   "source": [
    "# pd.DataFrame(train_real.loc[:,'epoch']).apply(lambda x: [datetime.strptime(train_real.loc[0,'epoch'], '%Y-%m-%dT%H:%M:%S.%f').year,\n",
    "#                                            datetime.strptime(train_real.loc[0,'epoch'], '%Y-%m-%dT%H:%M:%S.%f').month,\n",
    "#                                            datetime.strptime(train_real.loc[0,'epoch'], '%Y-%m-%dT%H:%M:%S.%f').day,\n",
    "#                                            datetime.strptime(train_real.loc[0,'epoch'], '%Y-%m-%dT%H:%M:%S.%f').hour,\n",
    "#                                            datetime.strptime(train_real.loc[0,'epoch'], '%Y-%m-%dT%H:%M:%S.%f').minute,\n",
    "#                                            datetime.strptime(train_real.loc[0,'epoch'], '%Y-%m-%dT%H:%M:%S.%f').second,\n",
    "#                                            datetime.strptime(train_real.loc[0,'epoch'], '%Y-%m-%dT%H:%M:%S.%f').microsecond],\n",
    "#                                axis=1, result_type='expand')"
   ]
  },
  {
   "cell_type": "markdown",
   "metadata": {},
   "source": [
    "#### Сделаем столбец кол-во секунд с начала наблюдений"
   ]
  },
  {
   "cell_type": "markdown",
   "metadata": {},
   "source": [
    "Как видно все спутники наблюдаются с 2014-01-01T00:00:00.000"
   ]
  },
  {
   "cell_type": "code",
   "execution_count": 42,
   "metadata": {},
   "outputs": [
    {
     "data": {
      "text/plain": [
       "'2014-01-01T00:00:00.000'"
      ]
     },
     "execution_count": 42,
     "metadata": {},
     "output_type": "execute_result"
    }
   ],
   "source": [
    "max(train.groupby('sat_id', as_index=False).min().loc[:,'epoch'])"
   ]
  },
  {
   "cell_type": "code",
   "execution_count": 43,
   "metadata": {},
   "outputs": [],
   "source": [
    "train['passed_seconds'] = train.loc[:,'second'] + train.loc[:,'minute']*60 + train.loc[:,'hour']*60*60 + train.loc[:,'day']*60*60*24"
   ]
  },
  {
   "cell_type": "code",
   "execution_count": 44,
   "metadata": {},
   "outputs": [
    {
     "data": {
      "text/html": [
       "<div>\n",
       "<style scoped>\n",
       "    .dataframe tbody tr th:only-of-type {\n",
       "        vertical-align: middle;\n",
       "    }\n",
       "\n",
       "    .dataframe tbody tr th {\n",
       "        vertical-align: top;\n",
       "    }\n",
       "\n",
       "    .dataframe thead th {\n",
       "        text-align: right;\n",
       "    }\n",
       "</style>\n",
       "<table border=\"1\" class=\"dataframe\">\n",
       "  <thead>\n",
       "    <tr style=\"text-align: right;\">\n",
       "      <th></th>\n",
       "      <th>id</th>\n",
       "      <th>epoch</th>\n",
       "      <th>sat_id</th>\n",
       "      <th>x</th>\n",
       "      <th>y</th>\n",
       "      <th>z</th>\n",
       "      <th>Vx</th>\n",
       "      <th>Vy</th>\n",
       "      <th>Vz</th>\n",
       "      <th>x_sim</th>\n",
       "      <th>y_sim</th>\n",
       "      <th>z_sim</th>\n",
       "      <th>Vx_sim</th>\n",
       "      <th>Vy_sim</th>\n",
       "      <th>Vz_sim</th>\n",
       "      <th>day</th>\n",
       "      <th>hour</th>\n",
       "      <th>minute</th>\n",
       "      <th>second</th>\n",
       "      <th>passed_seconds</th>\n",
       "    </tr>\n",
       "  </thead>\n",
       "  <tbody>\n",
       "    <tr>\n",
       "      <th>0</th>\n",
       "      <td>0</td>\n",
       "      <td>2014-01-01T00:00:00.000</td>\n",
       "      <td>0</td>\n",
       "      <td>-8855.823863</td>\n",
       "      <td>13117.780146</td>\n",
       "      <td>-20728.353233</td>\n",
       "      <td>-0.908303</td>\n",
       "      <td>-3.808436</td>\n",
       "      <td>-2.022083</td>\n",
       "      <td>-8843.131454</td>\n",
       "      <td>13138.221690</td>\n",
       "      <td>-20741.615306</td>\n",
       "      <td>-0.907527</td>\n",
       "      <td>-3.804930</td>\n",
       "      <td>-2.024133</td>\n",
       "      <td>0</td>\n",
       "      <td>0</td>\n",
       "      <td>0</td>\n",
       "      <td>0</td>\n",
       "      <td>0</td>\n",
       "    </tr>\n",
       "    <tr>\n",
       "      <th>1</th>\n",
       "      <td>1</td>\n",
       "      <td>2014-01-01T00:46:43.000</td>\n",
       "      <td>0</td>\n",
       "      <td>-10567.672384</td>\n",
       "      <td>1619.746066</td>\n",
       "      <td>-24451.813271</td>\n",
       "      <td>-0.302590</td>\n",
       "      <td>-4.272617</td>\n",
       "      <td>-0.612796</td>\n",
       "      <td>-10555.500066</td>\n",
       "      <td>1649.289367</td>\n",
       "      <td>-24473.089556</td>\n",
       "      <td>-0.303704</td>\n",
       "      <td>-4.269816</td>\n",
       "      <td>-0.616468</td>\n",
       "      <td>0</td>\n",
       "      <td>0</td>\n",
       "      <td>46</td>\n",
       "      <td>43</td>\n",
       "      <td>2803</td>\n",
       "    </tr>\n",
       "    <tr>\n",
       "      <th>2</th>\n",
       "      <td>2</td>\n",
       "      <td>2014-01-01T01:33:26.001</td>\n",
       "      <td>0</td>\n",
       "      <td>-10578.684043</td>\n",
       "      <td>-10180.467460</td>\n",
       "      <td>-24238.280949</td>\n",
       "      <td>0.277435</td>\n",
       "      <td>-4.047522</td>\n",
       "      <td>0.723155</td>\n",
       "      <td>-10571.858472</td>\n",
       "      <td>-10145.939908</td>\n",
       "      <td>-24271.169776</td>\n",
       "      <td>0.274880</td>\n",
       "      <td>-4.046788</td>\n",
       "      <td>0.718768</td>\n",
       "      <td>0</td>\n",
       "      <td>1</td>\n",
       "      <td>33</td>\n",
       "      <td>26</td>\n",
       "      <td>5606</td>\n",
       "    </tr>\n",
       "  </tbody>\n",
       "</table>\n",
       "</div>"
      ],
      "text/plain": [
       "   id                    epoch  sat_id             x             y  \\\n",
       "0   0  2014-01-01T00:00:00.000       0  -8855.823863  13117.780146   \n",
       "1   1  2014-01-01T00:46:43.000       0 -10567.672384   1619.746066   \n",
       "2   2  2014-01-01T01:33:26.001       0 -10578.684043 -10180.467460   \n",
       "\n",
       "              z        Vx        Vy        Vz         x_sim         y_sim  \\\n",
       "0 -20728.353233 -0.908303 -3.808436 -2.022083  -8843.131454  13138.221690   \n",
       "1 -24451.813271 -0.302590 -4.272617 -0.612796 -10555.500066   1649.289367   \n",
       "2 -24238.280949  0.277435 -4.047522  0.723155 -10571.858472 -10145.939908   \n",
       "\n",
       "          z_sim    Vx_sim    Vy_sim    Vz_sim  day  hour  minute  second  \\\n",
       "0 -20741.615306 -0.907527 -3.804930 -2.024133    0     0       0       0   \n",
       "1 -24473.089556 -0.303704 -4.269816 -0.616468    0     0      46      43   \n",
       "2 -24271.169776  0.274880 -4.046788  0.718768    0     1      33      26   \n",
       "\n",
       "   passed_seconds  \n",
       "0               0  \n",
       "1            2803  \n",
       "2            5606  "
      ]
     },
     "execution_count": 44,
     "metadata": {},
     "output_type": "execute_result"
    }
   ],
   "source": [
    "train.head(3)"
   ]
  },
  {
   "cell_type": "markdown",
   "metadata": {},
   "source": [
    "#### Попробуем теперь линейную модель"
   ]
  },
  {
   "cell_type": "code",
   "execution_count": 46,
   "metadata": {},
   "outputs": [
    {
     "name": "stdout",
     "output_type": "stream",
     "text": [
      "(454938, 7)\n",
      "(454938, 6)\n",
      "(194974, 7)\n",
      "(194974, 6)\n"
     ]
    }
   ],
   "source": [
    "y_train, y_test, X_train, X_test  = train_test_split(train.loc[:,['x','y','z','Vx','Vy','Vz']], \n",
    "                                                    train.loc[:,['x_sim','y_sim','z_sim','Vx_sim','Vy_sim','Vz_sim','passed_seconds']],\n",
    "                                                    train_size=0.7, test_size=0.3, random_state=1, shuffle=True)\n",
    "\n",
    "print(X_train.shape)\n",
    "print(y_train.shape)\n",
    "print(X_test.shape)\n",
    "print(y_test.shape)"
   ]
  },
  {
   "cell_type": "code",
   "execution_count": 50,
   "metadata": {},
   "outputs": [
    {
     "data": {
      "text/html": [
       "<div>\n",
       "<style scoped>\n",
       "    .dataframe tbody tr th:only-of-type {\n",
       "        vertical-align: middle;\n",
       "    }\n",
       "\n",
       "    .dataframe tbody tr th {\n",
       "        vertical-align: top;\n",
       "    }\n",
       "\n",
       "    .dataframe thead th {\n",
       "        text-align: right;\n",
       "    }\n",
       "</style>\n",
       "<table border=\"1\" class=\"dataframe\">\n",
       "  <thead>\n",
       "    <tr style=\"text-align: right;\">\n",
       "      <th></th>\n",
       "      <th>id</th>\n",
       "      <th>epoch</th>\n",
       "      <th>sat_id</th>\n",
       "      <th>x</th>\n",
       "      <th>y</th>\n",
       "      <th>z</th>\n",
       "      <th>Vx</th>\n",
       "      <th>Vy</th>\n",
       "      <th>Vz</th>\n",
       "      <th>x_sim</th>\n",
       "      <th>y_sim</th>\n",
       "      <th>z_sim</th>\n",
       "      <th>Vx_sim</th>\n",
       "      <th>Vy_sim</th>\n",
       "      <th>Vz_sim</th>\n",
       "      <th>day</th>\n",
       "      <th>hour</th>\n",
       "      <th>minute</th>\n",
       "      <th>second</th>\n",
       "      <th>passed_seconds</th>\n",
       "    </tr>\n",
       "  </thead>\n",
       "  <tbody>\n",
       "    <tr>\n",
       "      <th>0</th>\n",
       "      <td>0</td>\n",
       "      <td>2014-01-01T00:00:00.000</td>\n",
       "      <td>0</td>\n",
       "      <td>-8855.823863</td>\n",
       "      <td>13117.780146</td>\n",
       "      <td>-20728.353233</td>\n",
       "      <td>-0.908303</td>\n",
       "      <td>-3.808436</td>\n",
       "      <td>-2.022083</td>\n",
       "      <td>-8843.131454</td>\n",
       "      <td>13138.22169</td>\n",
       "      <td>-20741.615306</td>\n",
       "      <td>-0.907527</td>\n",
       "      <td>-3.80493</td>\n",
       "      <td>-2.024133</td>\n",
       "      <td>0</td>\n",
       "      <td>0</td>\n",
       "      <td>0</td>\n",
       "      <td>0</td>\n",
       "      <td>0</td>\n",
       "    </tr>\n",
       "  </tbody>\n",
       "</table>\n",
       "</div>"
      ],
      "text/plain": [
       "   id                    epoch  sat_id            x             y  \\\n",
       "0   0  2014-01-01T00:00:00.000       0 -8855.823863  13117.780146   \n",
       "\n",
       "              z        Vx        Vy        Vz        x_sim        y_sim  \\\n",
       "0 -20728.353233 -0.908303 -3.808436 -2.022083 -8843.131454  13138.22169   \n",
       "\n",
       "          z_sim    Vx_sim   Vy_sim    Vz_sim  day  hour  minute  second  \\\n",
       "0 -20741.615306 -0.907527 -3.80493 -2.024133    0     0       0       0   \n",
       "\n",
       "   passed_seconds  \n",
       "0               0  "
      ]
     },
     "execution_count": 50,
     "metadata": {},
     "output_type": "execute_result"
    }
   ],
   "source": [
    "train.head(1)"
   ]
  },
  {
   "cell_type": "code",
   "execution_count": 48,
   "metadata": {},
   "outputs": [
    {
     "name": "stdout",
     "output_type": "stream",
     "text": [
      "MAE pred train: 3365.7655160420095\n",
      "MAE pred: 3331.52467359851\n",
      "MAE sim: 3089.196364769518\n"
     ]
    }
   ],
   "source": [
    "model_lin = LinearRegression()\n",
    "\n",
    "model_lin.fit(X_train.loc[:,['x_sim', 'passed_seconds']], y_train.loc[:,'x'])\n",
    "\n",
    "pred_lin_train =  model_lin.predict(X_train.loc[:,['x_sim', 'passed_seconds']])\n",
    "pred_lin = model_lin.predict(X_test.loc[:,['x_sim', 'passed_seconds']])\n",
    "\n",
    "print('MAE pred train:', mean_absolute_error(np.array(y_train.loc[:,'x']), pred_lin_train))\n",
    "print('MAE pred:', mean_absolute_error(np.array(y_test.loc[:,'x']), pred_lin))\n",
    "print('MAE sim:', mean_absolute_error(np.array(y_test.loc[:,'x']), np.array(X_test.loc[:,'x_sim'])))"
   ]
  },
  {
   "cell_type": "markdown",
   "metadata": {},
   "source": [
    "Ничего не изменилось"
   ]
  },
  {
   "cell_type": "markdown",
   "metadata": {},
   "source": [
    "#### Перевод координат в точки "
   ]
  },
  {
   "cell_type": "markdown",
   "metadata": {},
   "source": [
    "Пока посчитаем пройденный путь без учета сферичности Земли (по прямой)"
   ]
  },
  {
   "cell_type": "code",
   "execution_count": 51,
   "metadata": {},
   "outputs": [],
   "source": [
    "train['path'] = np.sqrt(np.power(train.loc[:, 'x'],2) + \n",
    "                             np.power(train.loc[:, 'y'],2) + \n",
    "                             np.power(train.loc[:, 'z'],2)) "
   ]
  },
  {
   "cell_type": "code",
   "execution_count": 52,
   "metadata": {},
   "outputs": [],
   "source": [
    "train['path_sim'] = np.sqrt(np.power(train_sim.loc[:, 'x_sim'],2) + \n",
    "                            np.power(train_sim.loc[:, 'y_sim'],2) + \n",
    "                            np.power(train_sim.loc[:, 'z_sim'],2)) "
   ]
  },
  {
   "cell_type": "code",
   "execution_count": 53,
   "metadata": {},
   "outputs": [
    {
     "data": {
      "text/html": [
       "<div>\n",
       "<style scoped>\n",
       "    .dataframe tbody tr th:only-of-type {\n",
       "        vertical-align: middle;\n",
       "    }\n",
       "\n",
       "    .dataframe tbody tr th {\n",
       "        vertical-align: top;\n",
       "    }\n",
       "\n",
       "    .dataframe thead th {\n",
       "        text-align: right;\n",
       "    }\n",
       "</style>\n",
       "<table border=\"1\" class=\"dataframe\">\n",
       "  <thead>\n",
       "    <tr style=\"text-align: right;\">\n",
       "      <th></th>\n",
       "      <th>id</th>\n",
       "      <th>epoch</th>\n",
       "      <th>sat_id</th>\n",
       "      <th>x</th>\n",
       "      <th>y</th>\n",
       "      <th>z</th>\n",
       "      <th>Vx</th>\n",
       "      <th>Vy</th>\n",
       "      <th>Vz</th>\n",
       "      <th>x_sim</th>\n",
       "      <th>...</th>\n",
       "      <th>Vx_sim</th>\n",
       "      <th>Vy_sim</th>\n",
       "      <th>Vz_sim</th>\n",
       "      <th>day</th>\n",
       "      <th>hour</th>\n",
       "      <th>minute</th>\n",
       "      <th>second</th>\n",
       "      <th>passed_seconds</th>\n",
       "      <th>path</th>\n",
       "      <th>path_sim</th>\n",
       "    </tr>\n",
       "  </thead>\n",
       "  <tbody>\n",
       "    <tr>\n",
       "      <th>0</th>\n",
       "      <td>0</td>\n",
       "      <td>2014-01-01T00:00:00.000</td>\n",
       "      <td>0</td>\n",
       "      <td>-8855.823863</td>\n",
       "      <td>13117.780146</td>\n",
       "      <td>-20728.353233</td>\n",
       "      <td>-0.908303</td>\n",
       "      <td>-3.808436</td>\n",
       "      <td>-2.022083</td>\n",
       "      <td>-8843.131454</td>\n",
       "      <td>...</td>\n",
       "      <td>-0.907527</td>\n",
       "      <td>-3.804930</td>\n",
       "      <td>-2.024133</td>\n",
       "      <td>0</td>\n",
       "      <td>0</td>\n",
       "      <td>0</td>\n",
       "      <td>0</td>\n",
       "      <td>0</td>\n",
       "      <td>26080.000000</td>\n",
       "      <td>26096.521772</td>\n",
       "    </tr>\n",
       "    <tr>\n",
       "      <th>1</th>\n",
       "      <td>1</td>\n",
       "      <td>2014-01-01T00:46:43.000</td>\n",
       "      <td>0</td>\n",
       "      <td>-10567.672384</td>\n",
       "      <td>1619.746066</td>\n",
       "      <td>-24451.813271</td>\n",
       "      <td>-0.302590</td>\n",
       "      <td>-4.272617</td>\n",
       "      <td>-0.612796</td>\n",
       "      <td>-10555.500066</td>\n",
       "      <td>...</td>\n",
       "      <td>-0.303704</td>\n",
       "      <td>-4.269816</td>\n",
       "      <td>-0.616468</td>\n",
       "      <td>0</td>\n",
       "      <td>0</td>\n",
       "      <td>46</td>\n",
       "      <td>43</td>\n",
       "      <td>2803</td>\n",
       "      <td>26686.896582</td>\n",
       "      <td>26703.386480</td>\n",
       "    </tr>\n",
       "  </tbody>\n",
       "</table>\n",
       "<p>2 rows × 22 columns</p>\n",
       "</div>"
      ],
      "text/plain": [
       "   id                    epoch  sat_id             x             y  \\\n",
       "0   0  2014-01-01T00:00:00.000       0  -8855.823863  13117.780146   \n",
       "1   1  2014-01-01T00:46:43.000       0 -10567.672384   1619.746066   \n",
       "\n",
       "              z        Vx        Vy        Vz         x_sim  ...    Vx_sim  \\\n",
       "0 -20728.353233 -0.908303 -3.808436 -2.022083  -8843.131454  ... -0.907527   \n",
       "1 -24451.813271 -0.302590 -4.272617 -0.612796 -10555.500066  ... -0.303704   \n",
       "\n",
       "     Vy_sim    Vz_sim  day  hour  minute  second  passed_seconds  \\\n",
       "0 -3.804930 -2.024133    0     0       0       0               0   \n",
       "1 -4.269816 -0.616468    0     0      46      43            2803   \n",
       "\n",
       "           path      path_sim  \n",
       "0  26080.000000  26096.521772  \n",
       "1  26686.896582  26703.386480  \n",
       "\n",
       "[2 rows x 22 columns]"
      ]
     },
     "execution_count": 53,
     "metadata": {},
     "output_type": "execute_result"
    }
   ],
   "source": [
    "train.head(2)"
   ]
  },
  {
   "cell_type": "markdown",
   "metadata": {},
   "source": [
    "Посмотрим увеличивается ли дельта между реальными и симул. данными"
   ]
  },
  {
   "cell_type": "code",
   "execution_count": 58,
   "metadata": {},
   "outputs": [],
   "source": [
    "# размер ошибки\n",
    "def plot_coord_dif(n):\n",
    "    coord_dif = train[train['sat_id'] == n].loc[:, 'path'] - train[train['sat_id'] == n].loc[:, 'path_sim']\n",
    "    coord_range = train[train['sat_id'] == n].shape[0]\n",
    "    plt.plot(list(range(0, coord_range)), np.array(coord_dif))"
   ]
  },
  {
   "cell_type": "code",
   "execution_count": 55,
   "metadata": {},
   "outputs": [
    {
     "data": {
      "image/png": "[encoded data removed]",
      "text/plain": [
       "<Figure size 432x288 with 1 Axes>"
      ]
     },
     "metadata": {},
     "output_type": "display_data"
    }
   ],
   "source": [
    "plot_coord_dif(1)"
   ]
  },
  {
   "cell_type": "code",
   "execution_count": 56,
   "metadata": {},
   "outputs": [
    {
     "data": {
      "image/png": "[encoded data removed]",
      "text/plain": [
       "<Figure size 432x288 with 1 Axes>"
      ]
     },
     "metadata": {},
     "output_type": "display_data"
    }
   ],
   "source": [
    "plot_coord_dif(333)"
   ]
  },
  {
   "cell_type": "code",
   "execution_count": 57,
   "metadata": {},
   "outputs": [
    {
     "data": {
      "image/png": "[encoded data removed]",
      "text/plain": [
       "<Figure size 432x288 with 1 Axes>"
      ]
     },
     "metadata": {},
     "output_type": "display_data"
    }
   ],
   "source": [
    "plot_coord_dif(444)"
   ]
  },
  {
   "cell_type": "code",
   "execution_count": 65,
   "metadata": {},
   "outputs": [],
   "source": [
    "# размер ошибки по дельте времени\n",
    "def plot_coord_dif_time(n):\n",
    "    coord_dif = train[train['sat_id'] == n].loc[:, 'path'] - train[train['sat_id'] == n].loc[:, 'path_sim']\n",
    "    passed_seconds = train[train['sat_id'] == n].loc[:, 'passed_seconds']\n",
    "    plt.plot(passed_seconds, np.array(coord_dif))"
   ]
  },
  {
   "cell_type": "code",
   "execution_count": 62,
   "metadata": {},
   "outputs": [
    {
     "data": {
      "image/png": "[encoded data removed]",
      "text/plain": [
       "<Figure size 432x288 with 1 Axes>"
      ]
     },
     "metadata": {},
     "output_type": "display_data"
    }
   ],
   "source": [
    "plot_coord_dif_time(1)"
   ]
  },
  {
   "cell_type": "code",
   "execution_count": 63,
   "metadata": {},
   "outputs": [
    {
     "data": {
      "image/png": "[encoded data removed]",
      "text/plain": [
       "<Figure size 432x288 with 1 Axes>"
      ]
     },
     "metadata": {},
     "output_type": "display_data"
    }
   ],
   "source": [
    "plot_coord_dif_time(333)"
   ]
  },
  {
   "cell_type": "code",
   "execution_count": 64,
   "metadata": {},
   "outputs": [
    {
     "data": {
      "image/png": "[encoded data removed]",
      "text/plain": [
       "<Figure size 432x288 with 1 Axes>"
      ]
     },
     "metadata": {},
     "output_type": "display_data"
    }
   ],
   "source": [
    "plot_coord_dif_time(444)"
   ]
  },
  {
   "cell_type": "markdown",
   "metadata": {},
   "source": [
    "#### Стабильна ли скорость во времени "
   ]
  },
  {
   "cell_type": "code",
   "execution_count": 94,
   "metadata": {},
   "outputs": [],
   "source": [
    "train_real['V'] = np.sqrt(np.power(train_real.loc[:, 'Vx'],2) + \n",
    "                              np.power(train_real.loc[:, 'Vy'],2) + \n",
    "                              np.power(train_real.loc[:, 'Vz'],2)) "
   ]
  },
  {
   "cell_type": "code",
   "execution_count": 95,
   "metadata": {},
   "outputs": [],
   "source": [
    "train_sim['V'] = np.sqrt(np.power(train_sim.loc[:, 'Vx_sim'],2) + \n",
    "                              np.power(train_sim.loc[:, 'Vy_sim'],2) + \n",
    "                              np.power(train_sim.loc[:, 'Vz_sim'],2)) "
   ]
  },
  {
   "cell_type": "code",
   "execution_count": 96,
   "metadata": {},
   "outputs": [
    {
     "data": {
      "text/html": [
       "<div>\n",
       "<style scoped>\n",
       "    .dataframe tbody tr th:only-of-type {\n",
       "        vertical-align: middle;\n",
       "    }\n",
       "\n",
       "    .dataframe tbody tr th {\n",
       "        vertical-align: top;\n",
       "    }\n",
       "\n",
       "    .dataframe thead th {\n",
       "        text-align: right;\n",
       "    }\n",
       "</style>\n",
       "<table border=\"1\" class=\"dataframe\">\n",
       "  <thead>\n",
       "    <tr style=\"text-align: right;\">\n",
       "      <th></th>\n",
       "      <th>epoch</th>\n",
       "      <th>sat_id</th>\n",
       "      <th>V</th>\n",
       "    </tr>\n",
       "  </thead>\n",
       "  <tbody>\n",
       "    <tr>\n",
       "      <th>0</th>\n",
       "      <td>2014-01-01T00:00:00.000</td>\n",
       "      <td>0</td>\n",
       "      <td>4.406588</td>\n",
       "    </tr>\n",
       "    <tr>\n",
       "      <th>1</th>\n",
       "      <td>2014-01-01T00:46:43.000</td>\n",
       "      <td>0</td>\n",
       "      <td>4.326931</td>\n",
       "    </tr>\n",
       "    <tr>\n",
       "      <th>2</th>\n",
       "      <td>2014-01-01T01:33:26.001</td>\n",
       "      <td>0</td>\n",
       "      <td>4.120966</td>\n",
       "    </tr>\n",
       "    <tr>\n",
       "      <th>3</th>\n",
       "      <td>2014-01-01T02:20:09.001</td>\n",
       "      <td>0</td>\n",
       "      <td>3.854871</td>\n",
       "    </tr>\n",
       "    <tr>\n",
       "      <th>4</th>\n",
       "      <td>2014-01-01T03:06:52.002</td>\n",
       "      <td>0</td>\n",
       "      <td>3.582143</td>\n",
       "    </tr>\n",
       "    <tr>\n",
       "      <th>5</th>\n",
       "      <td>2014-01-01T03:53:35.002</td>\n",
       "      <td>0</td>\n",
       "      <td>3.331210</td>\n",
       "    </tr>\n",
       "    <tr>\n",
       "      <th>6</th>\n",
       "      <td>2014-01-01T04:40:18.003</td>\n",
       "      <td>0</td>\n",
       "      <td>3.113272</td>\n",
       "    </tr>\n",
       "    <tr>\n",
       "      <th>7</th>\n",
       "      <td>2014-01-01T05:27:01.003</td>\n",
       "      <td>0</td>\n",
       "      <td>2.931178</td>\n",
       "    </tr>\n",
       "    <tr>\n",
       "      <th>8</th>\n",
       "      <td>2014-01-01T06:13:44.004</td>\n",
       "      <td>0</td>\n",
       "      <td>2.784557</td>\n",
       "    </tr>\n",
       "    <tr>\n",
       "      <th>9</th>\n",
       "      <td>2014-01-01T07:00:27.004</td>\n",
       "      <td>0</td>\n",
       "      <td>2.672147</td>\n",
       "    </tr>\n",
       "  </tbody>\n",
       "</table>\n",
       "</div>"
      ],
      "text/plain": [
       "                     epoch  sat_id         V\n",
       "0  2014-01-01T00:00:00.000       0  4.406588\n",
       "1  2014-01-01T00:46:43.000       0  4.326931\n",
       "2  2014-01-01T01:33:26.001       0  4.120966\n",
       "3  2014-01-01T02:20:09.001       0  3.854871\n",
       "4  2014-01-01T03:06:52.002       0  3.582143\n",
       "5  2014-01-01T03:53:35.002       0  3.331210\n",
       "6  2014-01-01T04:40:18.003       0  3.113272\n",
       "7  2014-01-01T05:27:01.003       0  2.931178\n",
       "8  2014-01-01T06:13:44.004       0  2.784557\n",
       "9  2014-01-01T07:00:27.004       0  2.672147"
      ]
     },
     "execution_count": 96,
     "metadata": {},
     "output_type": "execute_result"
    }
   ],
   "source": [
    "train_real.loc[:, ['epoch','sat_id','V']].head(10)"
   ]
  },
  {
   "cell_type": "code",
   "execution_count": 97,
   "metadata": {},
   "outputs": [
    {
     "data": {
      "text/html": [
       "<div>\n",
       "<style scoped>\n",
       "    .dataframe tbody tr th:only-of-type {\n",
       "        vertical-align: middle;\n",
       "    }\n",
       "\n",
       "    .dataframe tbody tr th {\n",
       "        vertical-align: top;\n",
       "    }\n",
       "\n",
       "    .dataframe thead th {\n",
       "        text-align: right;\n",
       "    }\n",
       "</style>\n",
       "<table border=\"1\" class=\"dataframe\">\n",
       "  <thead>\n",
       "    <tr style=\"text-align: right;\">\n",
       "      <th></th>\n",
       "      <th>epoch</th>\n",
       "      <th>sat_id</th>\n",
       "      <th>V</th>\n",
       "    </tr>\n",
       "  </thead>\n",
       "  <tbody>\n",
       "    <tr>\n",
       "      <th>0</th>\n",
       "      <td>2014-01-01T00:00:00.000</td>\n",
       "      <td>0</td>\n",
       "      <td>4.404340</td>\n",
       "    </tr>\n",
       "    <tr>\n",
       "      <th>1</th>\n",
       "      <td>2014-01-01T00:46:43.000</td>\n",
       "      <td>0</td>\n",
       "      <td>4.324766</td>\n",
       "    </tr>\n",
       "    <tr>\n",
       "      <th>2</th>\n",
       "      <td>2014-01-01T01:33:26.001</td>\n",
       "      <td>0</td>\n",
       "      <td>4.119305</td>\n",
       "    </tr>\n",
       "    <tr>\n",
       "      <th>3</th>\n",
       "      <td>2014-01-01T02:20:09.001</td>\n",
       "      <td>0</td>\n",
       "      <td>3.853846</td>\n",
       "    </tr>\n",
       "    <tr>\n",
       "      <th>4</th>\n",
       "      <td>2014-01-01T03:06:52.002</td>\n",
       "      <td>0</td>\n",
       "      <td>3.581697</td>\n",
       "    </tr>\n",
       "    <tr>\n",
       "      <th>5</th>\n",
       "      <td>2014-01-01T03:53:35.002</td>\n",
       "      <td>0</td>\n",
       "      <td>3.331236</td>\n",
       "    </tr>\n",
       "    <tr>\n",
       "      <th>6</th>\n",
       "      <td>2014-01-01T04:40:18.003</td>\n",
       "      <td>0</td>\n",
       "      <td>3.113676</td>\n",
       "    </tr>\n",
       "    <tr>\n",
       "      <th>7</th>\n",
       "      <td>2014-01-01T05:27:01.003</td>\n",
       "      <td>0</td>\n",
       "      <td>2.931893</td>\n",
       "    </tr>\n",
       "    <tr>\n",
       "      <th>8</th>\n",
       "      <td>2014-01-01T06:13:44.004</td>\n",
       "      <td>0</td>\n",
       "      <td>2.785534</td>\n",
       "    </tr>\n",
       "    <tr>\n",
       "      <th>9</th>\n",
       "      <td>2014-01-01T07:00:27.004</td>\n",
       "      <td>0</td>\n",
       "      <td>2.673353</td>\n",
       "    </tr>\n",
       "  </tbody>\n",
       "</table>\n",
       "</div>"
      ],
      "text/plain": [
       "                     epoch  sat_id         V\n",
       "0  2014-01-01T00:00:00.000       0  4.404340\n",
       "1  2014-01-01T00:46:43.000       0  4.324766\n",
       "2  2014-01-01T01:33:26.001       0  4.119305\n",
       "3  2014-01-01T02:20:09.001       0  3.853846\n",
       "4  2014-01-01T03:06:52.002       0  3.581697\n",
       "5  2014-01-01T03:53:35.002       0  3.331236\n",
       "6  2014-01-01T04:40:18.003       0  3.113676\n",
       "7  2014-01-01T05:27:01.003       0  2.931893\n",
       "8  2014-01-01T06:13:44.004       0  2.785534\n",
       "9  2014-01-01T07:00:27.004       0  2.673353"
      ]
     },
     "execution_count": 97,
     "metadata": {},
     "output_type": "execute_result"
    }
   ],
   "source": [
    "train_sim.loc[:, ['epoch','sat_id','V']].head(10)"
   ]
  },
  {
   "cell_type": "code",
   "execution_count": 98,
   "metadata": {},
   "outputs": [],
   "source": [
    "def plot_V(n):\n",
    "    plt.plot(list(train_real[train_real['sat_id'] == n].index), list(train_real[train_real['sat_id'] == n].loc[:,'V']))"
   ]
  },
  {
   "cell_type": "code",
   "execution_count": 99,
   "metadata": {},
   "outputs": [
    {
     "data": {
      "image/png": "[encoded data removed]",
      "text/plain": [
       "<Figure size 432x288 with 1 Axes>"
      ]
     },
     "metadata": {},
     "output_type": "display_data"
    }
   ],
   "source": [
    "plot_V(1)"
   ]
  },
  {
   "cell_type": "code",
   "execution_count": 100,
   "metadata": {},
   "outputs": [
    {
     "data": {
      "image/png": "[encoded data removed]",
      "text/plain": [
       "<Figure size 432x288 with 1 Axes>"
      ]
     },
     "metadata": {},
     "output_type": "display_data"
    }
   ],
   "source": [
    "plot_V(100)"
   ]
  }
 ],
 "metadata": {
  "kernelspec": {
   "display_name": "Python 3",
   "language": "python",
   "name": "python3"
  },
  "language_info": {
   "codemirror_mode": {
    "name": "ipython",
    "version": 3
   },
   "file_extension": ".py",
   "mimetype": "text/x-python",
   "name": "python",
   "nbconvert_exporter": "python",
   "pygments_lexer": "ipython3",
   "version": "3.6.5"
  }
 },
 "nbformat": 4,
 "nbformat_minor": 2
}
