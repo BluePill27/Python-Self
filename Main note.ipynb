{
 "cells": [
  {
   "cell_type": "code",
   "execution_count": 122,
   "metadata": {},
   "outputs": [],
   "source": [
    "import pandas as pd\n",
    "import numpy as np\n",
    "import scipy\n",
    "import matplotlib.pyplot as plt\n",
    "from matplotlib import patches\n",
    "from mpl_toolkits.mplot3d import Axes3D \n",
    "import seaborn as sns\n",
    "\n",
    "from time import time\n",
    "from datetime import datetime \n",
    "\n",
    "from sklearn.model_selection import train_test_split\n",
    "from sklearn.metrics import mean_absolute_error\n",
    "from sklearn import preprocessing\n",
    "\n",
    "from sklearn.linear_model import LinearRegression\n",
    "from sklearn.ensemble import GradientBoostingRegressor\n",
    "from sklearn.svm import SVR, LinearSVR\n",
    "import xgboost as xgb"
   ]
  },
  {
   "cell_type": "code",
   "execution_count": 3,
   "metadata": {},
   "outputs": [],
   "source": [
    "train = pd.read_csv(r'D:\\Загрузки\\IDAO 2020\\train.csv')\n",
    "test = pd.read_csv(r'D:\\Загрузки\\IDAO 2020\\Track 1\\test.csv')"
   ]
  },
  {
   "cell_type": "code",
   "execution_count": 3,
   "metadata": {},
   "outputs": [
    {
     "data": {
      "text/html": [
       "<div>\n",
       "<style scoped>\n",
       "    .dataframe tbody tr th:only-of-type {\n",
       "        vertical-align: middle;\n",
       "    }\n",
       "\n",
       "    .dataframe tbody tr th {\n",
       "        vertical-align: top;\n",
       "    }\n",
       "\n",
       "    .dataframe thead th {\n",
       "        text-align: right;\n",
       "    }\n",
       "</style>\n",
       "<table border=\"1\" class=\"dataframe\">\n",
       "  <thead>\n",
       "    <tr style=\"text-align: right;\">\n",
       "      <th></th>\n",
       "      <th>id</th>\n",
       "      <th>epoch</th>\n",
       "      <th>sat_id</th>\n",
       "      <th>x</th>\n",
       "      <th>y</th>\n",
       "      <th>z</th>\n",
       "      <th>Vx</th>\n",
       "      <th>Vy</th>\n",
       "      <th>Vz</th>\n",
       "      <th>x_sim</th>\n",
       "      <th>y_sim</th>\n",
       "      <th>z_sim</th>\n",
       "      <th>Vx_sim</th>\n",
       "      <th>Vy_sim</th>\n",
       "      <th>Vz_sim</th>\n",
       "    </tr>\n",
       "  </thead>\n",
       "  <tbody>\n",
       "    <tr>\n",
       "      <th>0</th>\n",
       "      <td>0</td>\n",
       "      <td>2014-01-01T00:00:00.000</td>\n",
       "      <td>0</td>\n",
       "      <td>-8855.823863</td>\n",
       "      <td>13117.780146</td>\n",
       "      <td>-20728.353233</td>\n",
       "      <td>-0.908303</td>\n",
       "      <td>-3.808436</td>\n",
       "      <td>-2.022083</td>\n",
       "      <td>-8843.131454</td>\n",
       "      <td>13138.221690</td>\n",
       "      <td>-20741.615306</td>\n",
       "      <td>-0.907527</td>\n",
       "      <td>-3.804930</td>\n",
       "      <td>-2.024133</td>\n",
       "    </tr>\n",
       "    <tr>\n",
       "      <th>1</th>\n",
       "      <td>1</td>\n",
       "      <td>2014-01-01T00:46:43.000</td>\n",
       "      <td>0</td>\n",
       "      <td>-10567.672384</td>\n",
       "      <td>1619.746066</td>\n",
       "      <td>-24451.813271</td>\n",
       "      <td>-0.302590</td>\n",
       "      <td>-4.272617</td>\n",
       "      <td>-0.612796</td>\n",
       "      <td>-10555.500066</td>\n",
       "      <td>1649.289367</td>\n",
       "      <td>-24473.089556</td>\n",
       "      <td>-0.303704</td>\n",
       "      <td>-4.269816</td>\n",
       "      <td>-0.616468</td>\n",
       "    </tr>\n",
       "    <tr>\n",
       "      <th>2</th>\n",
       "      <td>2</td>\n",
       "      <td>2014-01-01T01:33:26.001</td>\n",
       "      <td>0</td>\n",
       "      <td>-10578.684043</td>\n",
       "      <td>-10180.467460</td>\n",
       "      <td>-24238.280949</td>\n",
       "      <td>0.277435</td>\n",
       "      <td>-4.047522</td>\n",
       "      <td>0.723155</td>\n",
       "      <td>-10571.858472</td>\n",
       "      <td>-10145.939908</td>\n",
       "      <td>-24271.169776</td>\n",
       "      <td>0.274880</td>\n",
       "      <td>-4.046788</td>\n",
       "      <td>0.718768</td>\n",
       "    </tr>\n",
       "  </tbody>\n",
       "</table>\n",
       "</div>"
      ],
      "text/plain": [
       "   id                    epoch  sat_id             x             y  \\\n",
       "0   0  2014-01-01T00:00:00.000       0  -8855.823863  13117.780146   \n",
       "1   1  2014-01-01T00:46:43.000       0 -10567.672384   1619.746066   \n",
       "2   2  2014-01-01T01:33:26.001       0 -10578.684043 -10180.467460   \n",
       "\n",
       "              z        Vx        Vy        Vz         x_sim         y_sim  \\\n",
       "0 -20728.353233 -0.908303 -3.808436 -2.022083  -8843.131454  13138.221690   \n",
       "1 -24451.813271 -0.302590 -4.272617 -0.612796 -10555.500066   1649.289367   \n",
       "2 -24238.280949  0.277435 -4.047522  0.723155 -10571.858472 -10145.939908   \n",
       "\n",
       "          z_sim    Vx_sim    Vy_sim    Vz_sim  \n",
       "0 -20741.615306 -0.907527 -3.804930 -2.024133  \n",
       "1 -24473.089556 -0.303704 -4.269816 -0.616468  \n",
       "2 -24271.169776  0.274880 -4.046788  0.718768  "
      ]
     },
     "execution_count": 3,
     "metadata": {},
     "output_type": "execute_result"
    }
   ],
   "source": [
    "train.head(3)"
   ]
  },
  {
   "cell_type": "code",
   "execution_count": 4,
   "metadata": {},
   "outputs": [
    {
     "data": {
      "text/html": [
       "<div>\n",
       "<style scoped>\n",
       "    .dataframe tbody tr th:only-of-type {\n",
       "        vertical-align: middle;\n",
       "    }\n",
       "\n",
       "    .dataframe tbody tr th {\n",
       "        vertical-align: top;\n",
       "    }\n",
       "\n",
       "    .dataframe thead th {\n",
       "        text-align: right;\n",
       "    }\n",
       "</style>\n",
       "<table border=\"1\" class=\"dataframe\">\n",
       "  <thead>\n",
       "    <tr style=\"text-align: right;\">\n",
       "      <th></th>\n",
       "      <th>id</th>\n",
       "      <th>sat_id</th>\n",
       "      <th>epoch</th>\n",
       "      <th>x_sim</th>\n",
       "      <th>y_sim</th>\n",
       "      <th>z_sim</th>\n",
       "      <th>Vx_sim</th>\n",
       "      <th>Vy_sim</th>\n",
       "      <th>Vz_sim</th>\n",
       "    </tr>\n",
       "  </thead>\n",
       "  <tbody>\n",
       "    <tr>\n",
       "      <th>0</th>\n",
       "      <td>3927</td>\n",
       "      <td>1</td>\n",
       "      <td>2014-02-01T00:01:45.162</td>\n",
       "      <td>-13366.891347</td>\n",
       "      <td>-14236.753503</td>\n",
       "      <td>6386.774555</td>\n",
       "      <td>4.333815</td>\n",
       "      <td>-0.692764</td>\n",
       "      <td>0.810774</td>\n",
       "    </tr>\n",
       "    <tr>\n",
       "      <th>1</th>\n",
       "      <td>3928</td>\n",
       "      <td>1</td>\n",
       "      <td>2014-02-01T00:22:57.007</td>\n",
       "      <td>-7370.434039</td>\n",
       "      <td>-14498.771520</td>\n",
       "      <td>7130.411325</td>\n",
       "      <td>5.077413</td>\n",
       "      <td>0.360609</td>\n",
       "      <td>0.313402</td>\n",
       "    </tr>\n",
       "  </tbody>\n",
       "</table>\n",
       "</div>"
      ],
      "text/plain": [
       "     id  sat_id                    epoch         x_sim         y_sim  \\\n",
       "0  3927       1  2014-02-01T00:01:45.162 -13366.891347 -14236.753503   \n",
       "1  3928       1  2014-02-01T00:22:57.007  -7370.434039 -14498.771520   \n",
       "\n",
       "         z_sim    Vx_sim    Vy_sim    Vz_sim  \n",
       "0  6386.774555  4.333815 -0.692764  0.810774  \n",
       "1  7130.411325  5.077413  0.360609  0.313402  "
      ]
     },
     "execution_count": 4,
     "metadata": {},
     "output_type": "execute_result"
    }
   ],
   "source": [
    "test.head(2)"
   ]
  },
  {
   "cell_type": "code",
   "execution_count": 5,
   "metadata": {},
   "outputs": [],
   "source": [
    "train = train.drop('id', axis=1)"
   ]
  },
  {
   "cell_type": "code",
   "execution_count": 6,
   "metadata": {},
   "outputs": [
    {
     "data": {
      "text/plain": [
       "600"
      ]
     },
     "execution_count": 6,
     "metadata": {},
     "output_type": "execute_result"
    }
   ],
   "source": [
    "len(train.loc[:,'sat_id'].unique())"
   ]
  },
  {
   "cell_type": "code",
   "execution_count": 7,
   "metadata": {},
   "outputs": [
    {
     "name": "stdout",
     "output_type": "stream",
     "text": [
      "<class 'pandas.core.frame.DataFrame'>\n",
      "RangeIndex: 649912 entries, 0 to 649911\n",
      "Data columns (total 14 columns):\n",
      "epoch     649912 non-null object\n",
      "sat_id    649912 non-null int64\n",
      "x         649912 non-null float64\n",
      "y         649912 non-null float64\n",
      "z         649912 non-null float64\n",
      "Vx        649912 non-null float64\n",
      "Vy        649912 non-null float64\n",
      "Vz        649912 non-null float64\n",
      "x_sim     649912 non-null float64\n",
      "y_sim     649912 non-null float64\n",
      "z_sim     649912 non-null float64\n",
      "Vx_sim    649912 non-null float64\n",
      "Vy_sim    649912 non-null float64\n",
      "Vz_sim    649912 non-null float64\n",
      "dtypes: float64(12), int64(1), object(1)\n",
      "memory usage: 69.4+ MB\n"
     ]
    }
   ],
   "source": [
    "train.info()"
   ]
  },
  {
   "cell_type": "code",
   "execution_count": 8,
   "metadata": {},
   "outputs": [
    {
     "data": {
      "text/html": [
       "<div>\n",
       "<style scoped>\n",
       "    .dataframe tbody tr th:only-of-type {\n",
       "        vertical-align: middle;\n",
       "    }\n",
       "\n",
       "    .dataframe tbody tr th {\n",
       "        vertical-align: top;\n",
       "    }\n",
       "\n",
       "    .dataframe thead th {\n",
       "        text-align: right;\n",
       "    }\n",
       "</style>\n",
       "<table border=\"1\" class=\"dataframe\">\n",
       "  <thead>\n",
       "    <tr style=\"text-align: right;\">\n",
       "      <th></th>\n",
       "      <th>sat_id</th>\n",
       "      <th>x</th>\n",
       "      <th>y</th>\n",
       "      <th>z</th>\n",
       "      <th>Vx</th>\n",
       "      <th>Vy</th>\n",
       "      <th>Vz</th>\n",
       "      <th>x_sim</th>\n",
       "      <th>y_sim</th>\n",
       "      <th>z_sim</th>\n",
       "      <th>Vx_sim</th>\n",
       "      <th>Vy_sim</th>\n",
       "      <th>Vz_sim</th>\n",
       "    </tr>\n",
       "  </thead>\n",
       "  <tbody>\n",
       "    <tr>\n",
       "      <th>count</th>\n",
       "      <td>649912.000000</td>\n",
       "      <td>649912.000000</td>\n",
       "      <td>649912.000000</td>\n",
       "      <td>649912.000000</td>\n",
       "      <td>649912.000000</td>\n",
       "      <td>649912.000000</td>\n",
       "      <td>649912.000000</td>\n",
       "      <td>649912.000000</td>\n",
       "      <td>649912.000000</td>\n",
       "      <td>649912.000000</td>\n",
       "      <td>649912.000000</td>\n",
       "      <td>649912.000000</td>\n",
       "      <td>649912.000000</td>\n",
       "    </tr>\n",
       "    <tr>\n",
       "      <th>mean</th>\n",
       "      <td>308.730351</td>\n",
       "      <td>-817.243624</td>\n",
       "      <td>423.039342</td>\n",
       "      <td>-75.033412</td>\n",
       "      <td>-0.000571</td>\n",
       "      <td>0.000468</td>\n",
       "      <td>-0.000084</td>\n",
       "      <td>-949.710660</td>\n",
       "      <td>324.557198</td>\n",
       "      <td>-79.766677</td>\n",
       "      <td>-0.000519</td>\n",
       "      <td>0.000394</td>\n",
       "      <td>-0.000312</td>\n",
       "    </tr>\n",
       "    <tr>\n",
       "      <th>std</th>\n",
       "      <td>171.482926</td>\n",
       "      <td>25391.507810</td>\n",
       "      <td>25631.511540</td>\n",
       "      <td>20652.050496</td>\n",
       "      <td>2.639041</td>\n",
       "      <td>2.597130</td>\n",
       "      <td>2.116245</td>\n",
       "      <td>25374.076264</td>\n",
       "      <td>25607.472371</td>\n",
       "      <td>20667.988715</td>\n",
       "      <td>2.637491</td>\n",
       "      <td>2.600323</td>\n",
       "      <td>2.113769</td>\n",
       "    </tr>\n",
       "    <tr>\n",
       "      <th>min</th>\n",
       "      <td>0.000000</td>\n",
       "      <td>-251938.766780</td>\n",
       "      <td>-291083.016974</td>\n",
       "      <td>-178922.412426</td>\n",
       "      <td>-8.286673</td>\n",
       "      <td>-8.231654</td>\n",
       "      <td>-9.371164</td>\n",
       "      <td>-255037.952966</td>\n",
       "      <td>-282851.387908</td>\n",
       "      <td>-180250.922287</td>\n",
       "      <td>-8.243159</td>\n",
       "      <td>-8.348831</td>\n",
       "      <td>-7.671565</td>\n",
       "    </tr>\n",
       "    <tr>\n",
       "      <th>25%</th>\n",
       "      <td>166.000000</td>\n",
       "      <td>-13127.557237</td>\n",
       "      <td>-11620.365836</td>\n",
       "      <td>-8000.289962</td>\n",
       "      <td>-1.892727</td>\n",
       "      <td>-1.874982</td>\n",
       "      <td>-1.255991</td>\n",
       "      <td>-13153.145398</td>\n",
       "      <td>-11736.509125</td>\n",
       "      <td>-7956.446370</td>\n",
       "      <td>-1.896259</td>\n",
       "      <td>-1.877142</td>\n",
       "      <td>-1.246751</td>\n",
       "    </tr>\n",
       "    <tr>\n",
       "      <th>50%</th>\n",
       "      <td>312.000000</td>\n",
       "      <td>-506.673520</td>\n",
       "      <td>514.039628</td>\n",
       "      <td>45.175018</td>\n",
       "      <td>0.019951</td>\n",
       "      <td>-0.051700</td>\n",
       "      <td>0.009385</td>\n",
       "      <td>-623.114440</td>\n",
       "      <td>523.437227</td>\n",
       "      <td>56.891526</td>\n",
       "      <td>0.021274</td>\n",
       "      <td>-0.012901</td>\n",
       "      <td>0.012037</td>\n",
       "    </tr>\n",
       "    <tr>\n",
       "      <th>75%</th>\n",
       "      <td>461.000000</td>\n",
       "      <td>11318.543144</td>\n",
       "      <td>12614.274408</td>\n",
       "      <td>8279.083423</td>\n",
       "      <td>1.960031</td>\n",
       "      <td>1.845111</td>\n",
       "      <td>1.237103</td>\n",
       "      <td>11190.022140</td>\n",
       "      <td>12547.532119</td>\n",
       "      <td>8235.078108</td>\n",
       "      <td>1.955522</td>\n",
       "      <td>1.862365</td>\n",
       "      <td>1.236030</td>\n",
       "    </tr>\n",
       "    <tr>\n",
       "      <th>max</th>\n",
       "      <td>599.000000</td>\n",
       "      <td>200382.689756</td>\n",
       "      <td>212443.393808</td>\n",
       "      <td>197200.530574</td>\n",
       "      <td>8.149559</td>\n",
       "      <td>12.308450</td>\n",
       "      <td>8.644558</td>\n",
       "      <td>200961.158000</td>\n",
       "      <td>209619.553857</td>\n",
       "      <td>198526.091552</td>\n",
       "      <td>7.431851</td>\n",
       "      <td>8.021438</td>\n",
       "      <td>8.644165</td>\n",
       "    </tr>\n",
       "  </tbody>\n",
       "</table>\n",
       "</div>"
      ],
      "text/plain": [
       "              sat_id              x              y              z  \\\n",
       "count  649912.000000  649912.000000  649912.000000  649912.000000   \n",
       "mean      308.730351    -817.243624     423.039342     -75.033412   \n",
       "std       171.482926   25391.507810   25631.511540   20652.050496   \n",
       "min         0.000000 -251938.766780 -291083.016974 -178922.412426   \n",
       "25%       166.000000  -13127.557237  -11620.365836   -8000.289962   \n",
       "50%       312.000000    -506.673520     514.039628      45.175018   \n",
       "75%       461.000000   11318.543144   12614.274408    8279.083423   \n",
       "max       599.000000  200382.689756  212443.393808  197200.530574   \n",
       "\n",
       "                  Vx             Vy             Vz          x_sim  \\\n",
       "count  649912.000000  649912.000000  649912.000000  649912.000000   \n",
       "mean       -0.000571       0.000468      -0.000084    -949.710660   \n",
       "std         2.639041       2.597130       2.116245   25374.076264   \n",
       "min        -8.286673      -8.231654      -9.371164 -255037.952966   \n",
       "25%        -1.892727      -1.874982      -1.255991  -13153.145398   \n",
       "50%         0.019951      -0.051700       0.009385    -623.114440   \n",
       "75%         1.960031       1.845111       1.237103   11190.022140   \n",
       "max         8.149559      12.308450       8.644558  200961.158000   \n",
       "\n",
       "               y_sim          z_sim         Vx_sim         Vy_sim  \\\n",
       "count  649912.000000  649912.000000  649912.000000  649912.000000   \n",
       "mean      324.557198     -79.766677      -0.000519       0.000394   \n",
       "std     25607.472371   20667.988715       2.637491       2.600323   \n",
       "min   -282851.387908 -180250.922287      -8.243159      -8.348831   \n",
       "25%    -11736.509125   -7956.446370      -1.896259      -1.877142   \n",
       "50%       523.437227      56.891526       0.021274      -0.012901   \n",
       "75%     12547.532119    8235.078108       1.955522       1.862365   \n",
       "max    209619.553857  198526.091552       7.431851       8.021438   \n",
       "\n",
       "              Vz_sim  \n",
       "count  649912.000000  \n",
       "mean       -0.000312  \n",
       "std         2.113769  \n",
       "min        -7.671565  \n",
       "25%        -1.246751  \n",
       "50%         0.012037  \n",
       "75%         1.236030  \n",
       "max         8.644165  "
      ]
     },
     "execution_count": 8,
     "metadata": {},
     "output_type": "execute_result"
    }
   ],
   "source": [
    "train.describe()"
   ]
  },
  {
   "cell_type": "code",
   "execution_count": 9,
   "metadata": {},
   "outputs": [
    {
     "data": {
      "text/plain": [
       "Index(['epoch', 'sat_id', 'x', 'y', 'z', 'Vx', 'Vy', 'Vz', 'x_sim', 'y_sim',\n",
       "       'z_sim', 'Vx_sim', 'Vy_sim', 'Vz_sim'],\n",
       "      dtype='object')"
      ]
     },
     "execution_count": 9,
     "metadata": {},
     "output_type": "execute_result"
    }
   ],
   "source": [
    "train.columns"
   ]
  },
  {
   "cell_type": "code",
   "execution_count": 112,
   "metadata": {},
   "outputs": [],
   "source": [
    "train_real = train.loc[:, ['epoch','sat_id','x','y','z','Vx','Vy','Vz']]\n",
    "train_sim = train.loc[:, ['epoch','sat_id','x_sim','y_sim','z_sim','Vx_sim','Vy_sim','Vz_sim']]"
   ]
  },
  {
   "cell_type": "code",
   "execution_count": 113,
   "metadata": {},
   "outputs": [
    {
     "name": "stdout",
     "output_type": "stream",
     "text": [
      "Index(['epoch', 'sat_id', 'x', 'y', 'z', 'Vx', 'Vy', 'Vz'], dtype='object')\n",
      "Index(['epoch', 'sat_id', 'x_sim', 'y_sim', 'z_sim', 'Vx_sim', 'Vy_sim',\n",
      "       'Vz_sim'],\n",
      "      dtype='object')\n"
     ]
    }
   ],
   "source": [
    "print(train_real.columns)\n",
    "print(train_sim.columns)"
   ]
  },
  {
   "cell_type": "markdown",
   "metadata": {},
   "source": [
    "## Попробуем посмтроить графики координат для реал и предиктов "
   ]
  },
  {
   "cell_type": "markdown",
   "metadata": {},
   "source": [
    "![title](coordinates.png)"
   ]
  },
  {
   "cell_type": "code",
   "execution_count": 114,
   "metadata": {},
   "outputs": [],
   "source": [
    "coord_real = train_real[train_real['sat_id'] == 0].loc[:, ['x','y','z']]\n",
    "coord_sim = train_sim[train_sim['sat_id'] == 0].loc[:, ['x_sim','y_sim','z_sim']]"
   ]
  },
  {
   "cell_type": "code",
   "execution_count": 115,
   "metadata": {},
   "outputs": [
    {
     "name": "stdout",
     "output_type": "stream",
     "text": [
      "observ number: 958\n"
     ]
    }
   ],
   "source": [
    "print('observ number:', train_real[train_real['sat_id'] == 0].shape[0])"
   ]
  },
  {
   "cell_type": "code",
   "execution_count": 138,
   "metadata": {},
   "outputs": [
    {
     "data": {
      "text/plain": [
       "(-50000, 50000)"
      ]
     },
     "execution_count": 138,
     "metadata": {},
     "output_type": "execute_result"
    },
    {
     "data": {
      "image/png": "[encoded data removed]",
      "text/plain": [
       "<Figure size 720x720 with 1 Axes>"
      ]
     },
     "metadata": {},
     "output_type": "display_data"
    }
   ],
   "source": [
    "ax = plt.figure(figsize=(10,10))\n",
    "plt.scatter([-6371,6371,0,0], [0,0,-6371,6371])\n",
    "plt.plot(coord_real.loc[:,'x'], coord_real.loc[:,'y'], 'g')\n",
    "plt.plot(coord_sim.loc[:,'x_sim'], coord_sim.loc[:,'y_sim'], 'r')\n",
    "plt.xlim(-50000, 50000)\n",
    "plt.ylim(-50000, 50000)"
   ]
  },
  {
   "cell_type": "code",
   "execution_count": 146,
   "metadata": {
    "scrolled": false
   },
   "outputs": [
    {
     "data": {
      "text/plain": [
       "(-50000, 50000)"
      ]
     },
     "execution_count": 146,
     "metadata": {},
     "output_type": "execute_result"
    },
    {
     "data": {
      "image/png": "[encoded data removed]",
      "text/plain": [
       "<Figure size 1440x432 with 3 Axes>"
      ]
     },
     "metadata": {},
     "output_type": "display_data"
    }
   ],
   "source": [
    "# plot example\n",
    "# точками обозначена Земля\n",
    "plt.figure(figsize=(20, 6))\n",
    "\n",
    "ax1 = plt.subplot(131)\n",
    "plt.grid()\n",
    "plt.scatter([-6371,6371,0,0], [0,0,-6371,6371])\n",
    "plt.plot(coord_real.loc[:,'x'], coord_real.loc[:,'y'], 'g')\n",
    "plt.plot(coord_sim.loc[:,'x_sim'], coord_sim.loc[:,'y_sim'], 'r')\n",
    "plt.xlabel('x')\n",
    "plt.ylabel('y')\n",
    "plt.xlim(-50000, 50000)\n",
    "plt.ylim(-50000, 50000)\n",
    "\n",
    "ax2 = plt.subplot(132, sharex=ax1, sharey=ax1)\n",
    "plt.grid()\n",
    "plt.scatter([-6371,6371,0,0], [0,0,-6371,6371])\n",
    "plt.plot(coord_real.loc[:,'y'], coord_real.loc[:,'z'], 'g')\n",
    "plt.plot(coord_sim.loc[:,'y_sim'], coord_sim.loc[:,'z_sim'], 'r')\n",
    "plt.xlabel('y')\n",
    "plt.ylabel('z')\n",
    "plt.xlim(-50000, 50000)\n",
    "plt.ylim(-50000, 50000)\n",
    "\n",
    "ax3 = plt.subplot(133, sharex=ax1, sharey=ax1)\n",
    "plt.grid()\n",
    "plt.scatter([-6371,6371,0,0], [0,0,-6371,6371])\n",
    "plt.plot(coord_real.loc[:,'x'], coord_real.loc[:,'z'], 'g')\n",
    "plt.plot(coord_sim.loc[:,'x_sim'], coord_sim.loc[:,'z_sim'], 'r')\n",
    "plt.xlabel('x')\n",
    "plt.ylabel('z')\n",
    "plt.xlim(-50000, 50000)\n",
    "plt.ylim(-50000, 50000)"
   ]
  },
  {
   "cell_type": "markdown",
   "metadata": {},
   "source": [
    "Если присмотреться, то видно, что предикты смещены"
   ]
  },
  {
   "cell_type": "code",
   "execution_count": 15,
   "metadata": {},
   "outputs": [],
   "source": [
    "diff = pd.DataFrame({'x':np.subtract(coord_real.loc[:,'x'],coord_sim.loc[:,'x_sim']),\n",
    "                     'y':np.subtract(coord_real.loc[:,'y'],coord_sim.loc[:,'y_sim']),\n",
    "                     'z':np.subtract(coord_real.loc[:,'z'],coord_sim.loc[:,'z_sim'])})"
   ]
  },
  {
   "cell_type": "code",
   "execution_count": 16,
   "metadata": {},
   "outputs": [
    {
     "data": {
      "text/html": [
       "<div>\n",
       "<style scoped>\n",
       "    .dataframe tbody tr th:only-of-type {\n",
       "        vertical-align: middle;\n",
       "    }\n",
       "\n",
       "    .dataframe tbody tr th {\n",
       "        vertical-align: top;\n",
       "    }\n",
       "\n",
       "    .dataframe thead th {\n",
       "        text-align: right;\n",
       "    }\n",
       "</style>\n",
       "<table border=\"1\" class=\"dataframe\">\n",
       "  <thead>\n",
       "    <tr style=\"text-align: right;\">\n",
       "      <th></th>\n",
       "      <th>x</th>\n",
       "      <th>y</th>\n",
       "      <th>z</th>\n",
       "    </tr>\n",
       "  </thead>\n",
       "  <tbody>\n",
       "    <tr>\n",
       "      <th>0</th>\n",
       "      <td>-12.692409</td>\n",
       "      <td>-20.441543</td>\n",
       "      <td>13.262073</td>\n",
       "    </tr>\n",
       "    <tr>\n",
       "      <th>1</th>\n",
       "      <td>-12.172318</td>\n",
       "      <td>-29.543301</td>\n",
       "      <td>21.276285</td>\n",
       "    </tr>\n",
       "    <tr>\n",
       "      <th>2</th>\n",
       "      <td>-6.825572</td>\n",
       "      <td>-34.527552</td>\n",
       "      <td>32.888826</td>\n",
       "    </tr>\n",
       "    <tr>\n",
       "      <th>3</th>\n",
       "      <td>1.368937</td>\n",
       "      <td>-33.237259</td>\n",
       "      <td>44.637815</td>\n",
       "    </tr>\n",
       "    <tr>\n",
       "      <th>4</th>\n",
       "      <td>10.266521</td>\n",
       "      <td>-26.790192</td>\n",
       "      <td>53.492019</td>\n",
       "    </tr>\n",
       "  </tbody>\n",
       "</table>\n",
       "</div>"
      ],
      "text/plain": [
       "           x          y          z\n",
       "0 -12.692409 -20.441543  13.262073\n",
       "1 -12.172318 -29.543301  21.276285\n",
       "2  -6.825572 -34.527552  32.888826\n",
       "3   1.368937 -33.237259  44.637815\n",
       "4  10.266521 -26.790192  53.492019"
      ]
     },
     "execution_count": 16,
     "metadata": {},
     "output_type": "execute_result"
    }
   ],
   "source": [
    "diff.head(5)"
   ]
  },
  {
   "cell_type": "code",
   "execution_count": 17,
   "metadata": {},
   "outputs": [
    {
     "data": {
      "text/html": [
       "<div>\n",
       "<style scoped>\n",
       "    .dataframe tbody tr th:only-of-type {\n",
       "        vertical-align: middle;\n",
       "    }\n",
       "\n",
       "    .dataframe tbody tr th {\n",
       "        vertical-align: top;\n",
       "    }\n",
       "\n",
       "    .dataframe thead th {\n",
       "        text-align: right;\n",
       "    }\n",
       "</style>\n",
       "<table border=\"1\" class=\"dataframe\">\n",
       "  <thead>\n",
       "    <tr style=\"text-align: right;\">\n",
       "      <th></th>\n",
       "      <th>x</th>\n",
       "      <th>y</th>\n",
       "      <th>z</th>\n",
       "    </tr>\n",
       "  </thead>\n",
       "  <tbody>\n",
       "    <tr>\n",
       "      <th>0</th>\n",
       "      <td>12.692409</td>\n",
       "      <td>20.441543</td>\n",
       "      <td>13.262073</td>\n",
       "    </tr>\n",
       "    <tr>\n",
       "      <th>1</th>\n",
       "      <td>12.172318</td>\n",
       "      <td>29.543301</td>\n",
       "      <td>21.276285</td>\n",
       "    </tr>\n",
       "    <tr>\n",
       "      <th>2</th>\n",
       "      <td>6.825572</td>\n",
       "      <td>34.527552</td>\n",
       "      <td>32.888826</td>\n",
       "    </tr>\n",
       "    <tr>\n",
       "      <th>3</th>\n",
       "      <td>1.368937</td>\n",
       "      <td>33.237259</td>\n",
       "      <td>44.637815</td>\n",
       "    </tr>\n",
       "    <tr>\n",
       "      <th>4</th>\n",
       "      <td>10.266521</td>\n",
       "      <td>26.790192</td>\n",
       "      <td>53.492019</td>\n",
       "    </tr>\n",
       "  </tbody>\n",
       "</table>\n",
       "</div>"
      ],
      "text/plain": [
       "           x          y          z\n",
       "0  12.692409  20.441543  13.262073\n",
       "1  12.172318  29.543301  21.276285\n",
       "2   6.825572  34.527552  32.888826\n",
       "3   1.368937  33.237259  44.637815\n",
       "4  10.266521  26.790192  53.492019"
      ]
     },
     "execution_count": 17,
     "metadata": {},
     "output_type": "execute_result"
    }
   ],
   "source": [
    "diff = np.abs(diff)\n",
    "diff.head()"
   ]
  },
  {
   "cell_type": "code",
   "execution_count": 18,
   "metadata": {},
   "outputs": [
    {
     "data": {
      "text/html": [
       "<div>\n",
       "<style scoped>\n",
       "    .dataframe tbody tr th:only-of-type {\n",
       "        vertical-align: middle;\n",
       "    }\n",
       "\n",
       "    .dataframe tbody tr th {\n",
       "        vertical-align: top;\n",
       "    }\n",
       "\n",
       "    .dataframe thead th {\n",
       "        text-align: right;\n",
       "    }\n",
       "</style>\n",
       "<table border=\"1\" class=\"dataframe\">\n",
       "  <thead>\n",
       "    <tr style=\"text-align: right;\">\n",
       "      <th></th>\n",
       "      <th>x</th>\n",
       "      <th>y</th>\n",
       "      <th>z</th>\n",
       "    </tr>\n",
       "  </thead>\n",
       "  <tbody>\n",
       "    <tr>\n",
       "      <th>953</th>\n",
       "      <td>1911.918388</td>\n",
       "      <td>15612.075013</td>\n",
       "      <td>4879.299912</td>\n",
       "    </tr>\n",
       "    <tr>\n",
       "      <th>954</th>\n",
       "      <td>3429.845937</td>\n",
       "      <td>14789.698343</td>\n",
       "      <td>8355.689969</td>\n",
       "    </tr>\n",
       "    <tr>\n",
       "      <th>955</th>\n",
       "      <td>5005.320639</td>\n",
       "      <td>13066.730924</td>\n",
       "      <td>11936.165799</td>\n",
       "    </tr>\n",
       "    <tr>\n",
       "      <th>956</th>\n",
       "      <td>6572.080659</td>\n",
       "      <td>10195.884818</td>\n",
       "      <td>15459.066758</td>\n",
       "    </tr>\n",
       "    <tr>\n",
       "      <th>957</th>\n",
       "      <td>7990.429369</td>\n",
       "      <td>5889.747366</td>\n",
       "      <td>18591.737280</td>\n",
       "    </tr>\n",
       "  </tbody>\n",
       "</table>\n",
       "</div>"
      ],
      "text/plain": [
       "               x             y             z\n",
       "953  1911.918388  15612.075013   4879.299912\n",
       "954  3429.845937  14789.698343   8355.689969\n",
       "955  5005.320639  13066.730924  11936.165799\n",
       "956  6572.080659  10195.884818  15459.066758\n",
       "957  7990.429369   5889.747366  18591.737280"
      ]
     },
     "execution_count": 18,
     "metadata": {},
     "output_type": "execute_result"
    }
   ],
   "source": [
    "diff.tail()"
   ]
  },
  {
   "cell_type": "code",
   "execution_count": 19,
   "metadata": {},
   "outputs": [
    {
     "data": {
      "text/html": [
       "<div>\n",
       "<style scoped>\n",
       "    .dataframe tbody tr th:only-of-type {\n",
       "        vertical-align: middle;\n",
       "    }\n",
       "\n",
       "    .dataframe tbody tr th {\n",
       "        vertical-align: top;\n",
       "    }\n",
       "\n",
       "    .dataframe thead th {\n",
       "        text-align: right;\n",
       "    }\n",
       "</style>\n",
       "<table border=\"1\" class=\"dataframe\">\n",
       "  <thead>\n",
       "    <tr style=\"text-align: right;\">\n",
       "      <th></th>\n",
       "      <th>x</th>\n",
       "      <th>y</th>\n",
       "      <th>z</th>\n",
       "    </tr>\n",
       "  </thead>\n",
       "  <tbody>\n",
       "    <tr>\n",
       "      <th>count</th>\n",
       "      <td>958.000000</td>\n",
       "      <td>958.000000</td>\n",
       "      <td>958.000000</td>\n",
       "    </tr>\n",
       "    <tr>\n",
       "      <th>mean</th>\n",
       "      <td>2195.813550</td>\n",
       "      <td>5436.462537</td>\n",
       "      <td>5065.499649</td>\n",
       "    </tr>\n",
       "    <tr>\n",
       "      <th>std</th>\n",
       "      <td>2120.704688</td>\n",
       "      <td>5305.448932</td>\n",
       "      <td>4900.420056</td>\n",
       "    </tr>\n",
       "    <tr>\n",
       "      <th>min</th>\n",
       "      <td>0.935108</td>\n",
       "      <td>0.019449</td>\n",
       "      <td>0.144493</td>\n",
       "    </tr>\n",
       "    <tr>\n",
       "      <th>25%</th>\n",
       "      <td>71.485954</td>\n",
       "      <td>198.433841</td>\n",
       "      <td>121.724188</td>\n",
       "    </tr>\n",
       "    <tr>\n",
       "      <th>50%</th>\n",
       "      <td>1918.363332</td>\n",
       "      <td>5037.648279</td>\n",
       "      <td>4222.863670</td>\n",
       "    </tr>\n",
       "    <tr>\n",
       "      <th>75%</th>\n",
       "      <td>3456.898622</td>\n",
       "      <td>7988.854995</td>\n",
       "      <td>8018.753990</td>\n",
       "    </tr>\n",
       "    <tr>\n",
       "      <th>max</th>\n",
       "      <td>9158.649797</td>\n",
       "      <td>24606.996844</td>\n",
       "      <td>20854.343912</td>\n",
       "    </tr>\n",
       "  </tbody>\n",
       "</table>\n",
       "</div>"
      ],
      "text/plain": [
       "                 x             y             z\n",
       "count   958.000000    958.000000    958.000000\n",
       "mean   2195.813550   5436.462537   5065.499649\n",
       "std    2120.704688   5305.448932   4900.420056\n",
       "min       0.935108      0.019449      0.144493\n",
       "25%      71.485954    198.433841    121.724188\n",
       "50%    1918.363332   5037.648279   4222.863670\n",
       "75%    3456.898622   7988.854995   8018.753990\n",
       "max    9158.649797  24606.996844  20854.343912"
      ]
     },
     "execution_count": 19,
     "metadata": {},
     "output_type": "execute_result"
    }
   ],
   "source": [
    "diff.describe()"
   ]
  },
  {
   "cell_type": "markdown",
   "metadata": {},
   "source": [
    "Если учесть, что значения координат могут варьироваться от -250000 до + 200000, то норм"
   ]
  },
  {
   "cell_type": "markdown",
   "metadata": {},
   "source": [
    "## Исправление ошибки SGP4 "
   ]
  },
  {
   "cell_type": "code",
   "execution_count": 3,
   "metadata": {},
   "outputs": [],
   "source": [
    "train = pd.read_csv(r'D:\\Загрузки\\IDAO 2020\\train.csv')\n",
    "test = pd.read_csv(r'D:\\Загрузки\\IDAO 2020\\Track 1\\test.csv')\n",
    "\n",
    "# train_real = train.loc[:, ['id', 'epoch','sat_id','x','y','z','Vx','Vy','Vz']]\n",
    "# train_sim = train.loc[:, ['id', 'epoch','sat_id','x_sim','y_sim','z_sim','Vx_sim','Vy_sim','Vz_sim']]"
   ]
  },
  {
   "cell_type": "code",
   "execution_count": 4,
   "metadata": {},
   "outputs": [
    {
     "name": "stdout",
     "output_type": "stream",
     "text": [
      "(649912, 15)\n",
      "(284071, 9)\n"
     ]
    }
   ],
   "source": [
    "print(train.shape)\n",
    "print(test.shape)\n",
    "# print(train_real.shape)\n",
    "# print(train_sim.shape)"
   ]
  },
  {
   "cell_type": "markdown",
   "metadata": {},
   "source": [
    "#### Перевод эпохи в столбцы день, час, минут, секунд"
   ]
  },
  {
   "cell_type": "markdown",
   "metadata": {},
   "source": [
    "Время наблюдений у нас только Январь 2014 года => изменения года, месяца не влияют"
   ]
  },
  {
   "cell_type": "code",
   "execution_count": 5,
   "metadata": {},
   "outputs": [
    {
     "data": {
      "text/plain": [
       "'2014-01-01T00:00:00.000'"
      ]
     },
     "execution_count": 5,
     "metadata": {},
     "output_type": "execute_result"
    }
   ],
   "source": [
    "min(train.loc[:,'epoch'])"
   ]
  },
  {
   "cell_type": "code",
   "execution_count": 6,
   "metadata": {},
   "outputs": [
    {
     "data": {
      "text/plain": [
       "'2014-01-31T23:59:59.991'"
      ]
     },
     "execution_count": 6,
     "metadata": {},
     "output_type": "execute_result"
    }
   ],
   "source": [
    "max(train.loc[:,'epoch'])"
   ]
  },
  {
   "cell_type": "code",
   "execution_count": 7,
   "metadata": {},
   "outputs": [
    {
     "data": {
      "text/plain": [
       "0    2014-01-01T00:00:00.000\n",
       "1    2014-01-01T00:46:43.000\n",
       "2    2014-01-01T01:33:26.001\n",
       "Name: epoch, dtype: object"
      ]
     },
     "execution_count": 7,
     "metadata": {},
     "output_type": "execute_result"
    }
   ],
   "source": [
    "train.loc[0:2,'epoch']"
   ]
  },
  {
   "cell_type": "code",
   "execution_count": 8,
   "metadata": {},
   "outputs": [
    {
     "name": "stdout",
     "output_type": "stream",
     "text": [
      "2014-01-01T00:00:00.000\n",
      "<class 'str'>\n"
     ]
    }
   ],
   "source": [
    "print(train.loc[0,'epoch'])\n",
    "print(type(train.loc[0,'epoch']))"
   ]
  },
  {
   "cell_type": "markdown",
   "metadata": {},
   "source": [
    "Раз это стринги, при этом все одного формата, то тупо заслайсим их"
   ]
  },
  {
   "cell_type": "code",
   "execution_count": 9,
   "metadata": {},
   "outputs": [],
   "source": [
    "train['day'] = train.loc[:,'epoch'].str.slice(start=8, stop=10).astype('int32')-1\n",
    "train['hour'] = train.loc[:,'epoch'].str.slice(start=11, stop=13).astype('int32')\n",
    "train['minute'] = train.loc[:,'epoch'].str.slice(start=14, stop=16).astype('int32')\n",
    "train['second'] = train.loc[:,'epoch'].str.slice(start=17, stop=19).astype('int32')"
   ]
  },
  {
   "cell_type": "code",
   "execution_count": 10,
   "metadata": {},
   "outputs": [],
   "source": [
    "test['day'] = test.loc[:,'epoch'].str.slice(start=8, stop=10).astype('int32')-1\n",
    "test['hour'] = test.loc[:,'epoch'].str.slice(start=11, stop=13).astype('int32')\n",
    "test['minute'] = test.loc[:,'epoch'].str.slice(start=14, stop=16).astype('int32')\n",
    "test['second'] = test.loc[:,'epoch'].str.slice(start=17, stop=19).astype('int32')"
   ]
  },
  {
   "cell_type": "code",
   "execution_count": 11,
   "metadata": {},
   "outputs": [
    {
     "data": {
      "text/html": [
       "<div>\n",
       "<style scoped>\n",
       "    .dataframe tbody tr th:only-of-type {\n",
       "        vertical-align: middle;\n",
       "    }\n",
       "\n",
       "    .dataframe tbody tr th {\n",
       "        vertical-align: top;\n",
       "    }\n",
       "\n",
       "    .dataframe thead th {\n",
       "        text-align: right;\n",
       "    }\n",
       "</style>\n",
       "<table border=\"1\" class=\"dataframe\">\n",
       "  <thead>\n",
       "    <tr style=\"text-align: right;\">\n",
       "      <th></th>\n",
       "      <th>id</th>\n",
       "      <th>epoch</th>\n",
       "      <th>sat_id</th>\n",
       "      <th>x</th>\n",
       "      <th>y</th>\n",
       "      <th>z</th>\n",
       "      <th>Vx</th>\n",
       "      <th>Vy</th>\n",
       "      <th>Vz</th>\n",
       "      <th>x_sim</th>\n",
       "      <th>y_sim</th>\n",
       "      <th>z_sim</th>\n",
       "      <th>Vx_sim</th>\n",
       "      <th>Vy_sim</th>\n",
       "      <th>Vz_sim</th>\n",
       "      <th>day</th>\n",
       "      <th>hour</th>\n",
       "      <th>minute</th>\n",
       "      <th>second</th>\n",
       "    </tr>\n",
       "  </thead>\n",
       "  <tbody>\n",
       "    <tr>\n",
       "      <th>0</th>\n",
       "      <td>0</td>\n",
       "      <td>2014-01-01T00:00:00.000</td>\n",
       "      <td>0</td>\n",
       "      <td>-8855.823863</td>\n",
       "      <td>13117.780146</td>\n",
       "      <td>-20728.353233</td>\n",
       "      <td>-0.908303</td>\n",
       "      <td>-3.808436</td>\n",
       "      <td>-2.022083</td>\n",
       "      <td>-8843.131454</td>\n",
       "      <td>13138.221690</td>\n",
       "      <td>-20741.615306</td>\n",
       "      <td>-0.907527</td>\n",
       "      <td>-3.804930</td>\n",
       "      <td>-2.024133</td>\n",
       "      <td>0</td>\n",
       "      <td>0</td>\n",
       "      <td>0</td>\n",
       "      <td>0</td>\n",
       "    </tr>\n",
       "    <tr>\n",
       "      <th>1</th>\n",
       "      <td>1</td>\n",
       "      <td>2014-01-01T00:46:43.000</td>\n",
       "      <td>0</td>\n",
       "      <td>-10567.672384</td>\n",
       "      <td>1619.746066</td>\n",
       "      <td>-24451.813271</td>\n",
       "      <td>-0.302590</td>\n",
       "      <td>-4.272617</td>\n",
       "      <td>-0.612796</td>\n",
       "      <td>-10555.500066</td>\n",
       "      <td>1649.289367</td>\n",
       "      <td>-24473.089556</td>\n",
       "      <td>-0.303704</td>\n",
       "      <td>-4.269816</td>\n",
       "      <td>-0.616468</td>\n",
       "      <td>0</td>\n",
       "      <td>0</td>\n",
       "      <td>46</td>\n",
       "      <td>43</td>\n",
       "    </tr>\n",
       "    <tr>\n",
       "      <th>2</th>\n",
       "      <td>2</td>\n",
       "      <td>2014-01-01T01:33:26.001</td>\n",
       "      <td>0</td>\n",
       "      <td>-10578.684043</td>\n",
       "      <td>-10180.467460</td>\n",
       "      <td>-24238.280949</td>\n",
       "      <td>0.277435</td>\n",
       "      <td>-4.047522</td>\n",
       "      <td>0.723155</td>\n",
       "      <td>-10571.858472</td>\n",
       "      <td>-10145.939908</td>\n",
       "      <td>-24271.169776</td>\n",
       "      <td>0.274880</td>\n",
       "      <td>-4.046788</td>\n",
       "      <td>0.718768</td>\n",
       "      <td>0</td>\n",
       "      <td>1</td>\n",
       "      <td>33</td>\n",
       "      <td>26</td>\n",
       "    </tr>\n",
       "  </tbody>\n",
       "</table>\n",
       "</div>"
      ],
      "text/plain": [
       "   id                    epoch  sat_id             x             y  \\\n",
       "0   0  2014-01-01T00:00:00.000       0  -8855.823863  13117.780146   \n",
       "1   1  2014-01-01T00:46:43.000       0 -10567.672384   1619.746066   \n",
       "2   2  2014-01-01T01:33:26.001       0 -10578.684043 -10180.467460   \n",
       "\n",
       "              z        Vx        Vy        Vz         x_sim         y_sim  \\\n",
       "0 -20728.353233 -0.908303 -3.808436 -2.022083  -8843.131454  13138.221690   \n",
       "1 -24451.813271 -0.302590 -4.272617 -0.612796 -10555.500066   1649.289367   \n",
       "2 -24238.280949  0.277435 -4.047522  0.723155 -10571.858472 -10145.939908   \n",
       "\n",
       "          z_sim    Vx_sim    Vy_sim    Vz_sim  day  hour  minute  second  \n",
       "0 -20741.615306 -0.907527 -3.804930 -2.024133    0     0       0       0  \n",
       "1 -24473.089556 -0.303704 -4.269816 -0.616468    0     0      46      43  \n",
       "2 -24271.169776  0.274880 -4.046788  0.718768    0     1      33      26  "
      ]
     },
     "execution_count": 11,
     "metadata": {},
     "output_type": "execute_result"
    }
   ],
   "source": [
    "train.head(3)"
   ]
  },
  {
   "cell_type": "markdown",
   "metadata": {},
   "source": [
    "#### Сделаем столбец кол-во секунд с начала наблюдений"
   ]
  },
  {
   "cell_type": "markdown",
   "metadata": {},
   "source": [
    "Как видно все спутники наблюдаются с 2014-01-01T00:00:00.000"
   ]
  },
  {
   "cell_type": "code",
   "execution_count": 12,
   "metadata": {},
   "outputs": [
    {
     "data": {
      "text/plain": [
       "'2014-01-01T00:00:00.000'"
      ]
     },
     "execution_count": 12,
     "metadata": {},
     "output_type": "execute_result"
    }
   ],
   "source": [
    "max(train.groupby('sat_id', as_index=False).min().loc[:,'epoch'])"
   ]
  },
  {
   "cell_type": "code",
   "execution_count": 13,
   "metadata": {},
   "outputs": [],
   "source": [
    "train['passed_seconds'] = train.loc[:,'second'] + train.loc[:,'minute']*60 + train.loc[:,'hour']*60*60 + train.loc[:,'day']*60*60*24"
   ]
  },
  {
   "cell_type": "code",
   "execution_count": 14,
   "metadata": {},
   "outputs": [],
   "source": [
    "test['passed_seconds'] = test.loc[:,'second'] + test.loc[:,'minute']*60 + test.loc[:,'hour']*60*60 + test.loc[:,'day']*60*60*24"
   ]
  },
  {
   "cell_type": "code",
   "execution_count": 15,
   "metadata": {
    "scrolled": true
   },
   "outputs": [
    {
     "data": {
      "text/html": [
       "<div>\n",
       "<style scoped>\n",
       "    .dataframe tbody tr th:only-of-type {\n",
       "        vertical-align: middle;\n",
       "    }\n",
       "\n",
       "    .dataframe tbody tr th {\n",
       "        vertical-align: top;\n",
       "    }\n",
       "\n",
       "    .dataframe thead th {\n",
       "        text-align: right;\n",
       "    }\n",
       "</style>\n",
       "<table border=\"1\" class=\"dataframe\">\n",
       "  <thead>\n",
       "    <tr style=\"text-align: right;\">\n",
       "      <th></th>\n",
       "      <th>id</th>\n",
       "      <th>epoch</th>\n",
       "      <th>sat_id</th>\n",
       "      <th>x</th>\n",
       "      <th>y</th>\n",
       "      <th>z</th>\n",
       "      <th>Vx</th>\n",
       "      <th>Vy</th>\n",
       "      <th>Vz</th>\n",
       "      <th>x_sim</th>\n",
       "      <th>y_sim</th>\n",
       "      <th>z_sim</th>\n",
       "      <th>Vx_sim</th>\n",
       "      <th>Vy_sim</th>\n",
       "      <th>Vz_sim</th>\n",
       "      <th>day</th>\n",
       "      <th>hour</th>\n",
       "      <th>minute</th>\n",
       "      <th>second</th>\n",
       "      <th>passed_seconds</th>\n",
       "    </tr>\n",
       "  </thead>\n",
       "  <tbody>\n",
       "    <tr>\n",
       "      <th>0</th>\n",
       "      <td>0</td>\n",
       "      <td>2014-01-01T00:00:00.000</td>\n",
       "      <td>0</td>\n",
       "      <td>-8855.823863</td>\n",
       "      <td>13117.780146</td>\n",
       "      <td>-20728.353233</td>\n",
       "      <td>-0.908303</td>\n",
       "      <td>-3.808436</td>\n",
       "      <td>-2.022083</td>\n",
       "      <td>-8843.131454</td>\n",
       "      <td>13138.221690</td>\n",
       "      <td>-20741.615306</td>\n",
       "      <td>-0.907527</td>\n",
       "      <td>-3.804930</td>\n",
       "      <td>-2.024133</td>\n",
       "      <td>0</td>\n",
       "      <td>0</td>\n",
       "      <td>0</td>\n",
       "      <td>0</td>\n",
       "      <td>0</td>\n",
       "    </tr>\n",
       "    <tr>\n",
       "      <th>1</th>\n",
       "      <td>1</td>\n",
       "      <td>2014-01-01T00:46:43.000</td>\n",
       "      <td>0</td>\n",
       "      <td>-10567.672384</td>\n",
       "      <td>1619.746066</td>\n",
       "      <td>-24451.813271</td>\n",
       "      <td>-0.302590</td>\n",
       "      <td>-4.272617</td>\n",
       "      <td>-0.612796</td>\n",
       "      <td>-10555.500066</td>\n",
       "      <td>1649.289367</td>\n",
       "      <td>-24473.089556</td>\n",
       "      <td>-0.303704</td>\n",
       "      <td>-4.269816</td>\n",
       "      <td>-0.616468</td>\n",
       "      <td>0</td>\n",
       "      <td>0</td>\n",
       "      <td>46</td>\n",
       "      <td>43</td>\n",
       "      <td>2803</td>\n",
       "    </tr>\n",
       "    <tr>\n",
       "      <th>2</th>\n",
       "      <td>2</td>\n",
       "      <td>2014-01-01T01:33:26.001</td>\n",
       "      <td>0</td>\n",
       "      <td>-10578.684043</td>\n",
       "      <td>-10180.467460</td>\n",
       "      <td>-24238.280949</td>\n",
       "      <td>0.277435</td>\n",
       "      <td>-4.047522</td>\n",
       "      <td>0.723155</td>\n",
       "      <td>-10571.858472</td>\n",
       "      <td>-10145.939908</td>\n",
       "      <td>-24271.169776</td>\n",
       "      <td>0.274880</td>\n",
       "      <td>-4.046788</td>\n",
       "      <td>0.718768</td>\n",
       "      <td>0</td>\n",
       "      <td>1</td>\n",
       "      <td>33</td>\n",
       "      <td>26</td>\n",
       "      <td>5606</td>\n",
       "    </tr>\n",
       "  </tbody>\n",
       "</table>\n",
       "</div>"
      ],
      "text/plain": [
       "   id                    epoch  sat_id             x             y  \\\n",
       "0   0  2014-01-01T00:00:00.000       0  -8855.823863  13117.780146   \n",
       "1   1  2014-01-01T00:46:43.000       0 -10567.672384   1619.746066   \n",
       "2   2  2014-01-01T01:33:26.001       0 -10578.684043 -10180.467460   \n",
       "\n",
       "              z        Vx        Vy        Vz         x_sim         y_sim  \\\n",
       "0 -20728.353233 -0.908303 -3.808436 -2.022083  -8843.131454  13138.221690   \n",
       "1 -24451.813271 -0.302590 -4.272617 -0.612796 -10555.500066   1649.289367   \n",
       "2 -24238.280949  0.277435 -4.047522  0.723155 -10571.858472 -10145.939908   \n",
       "\n",
       "          z_sim    Vx_sim    Vy_sim    Vz_sim  day  hour  minute  second  \\\n",
       "0 -20741.615306 -0.907527 -3.804930 -2.024133    0     0       0       0   \n",
       "1 -24473.089556 -0.303704 -4.269816 -0.616468    0     0      46      43   \n",
       "2 -24271.169776  0.274880 -4.046788  0.718768    0     1      33      26   \n",
       "\n",
       "   passed_seconds  \n",
       "0               0  \n",
       "1            2803  \n",
       "2            5606  "
      ]
     },
     "execution_count": 15,
     "metadata": {},
     "output_type": "execute_result"
    }
   ],
   "source": [
    "train.head(3)"
   ]
  },
  {
   "cell_type": "markdown",
   "metadata": {},
   "source": [
    "#### Перевод координат в точки "
   ]
  },
  {
   "cell_type": "markdown",
   "metadata": {},
   "source": [
    "Пока посчитаем пройденный путь без учета сферичности Земли (по прямой)"
   ]
  },
  {
   "cell_type": "code",
   "execution_count": 20,
   "metadata": {},
   "outputs": [],
   "source": [
    "train['path'] = np.sqrt(np.power(train.loc[:, 'x'],2) + \n",
    "                             np.power(train.loc[:, 'y'],2) + \n",
    "                             np.power(train.loc[:, 'z'],2)) "
   ]
  },
  {
   "cell_type": "code",
   "execution_count": 21,
   "metadata": {},
   "outputs": [],
   "source": [
    "train['path_sim'] = np.sqrt(np.power(train.loc[:, 'x_sim'],2) + \n",
    "                            np.power(train.loc[:, 'y_sim'],2) + \n",
    "                            np.power(train.loc[:, 'z_sim'],2)) "
   ]
  },
  {
   "cell_type": "code",
   "execution_count": 22,
   "metadata": {},
   "outputs": [],
   "source": [
    "test['path_sim'] = np.sqrt(np.power(test.loc[:, 'x_sim'],2) + \n",
    "                            np.power(test.loc[:, 'y_sim'],2) + \n",
    "                            np.power(test.loc[:, 'z_sim'],2)) "
   ]
  },
  {
   "cell_type": "code",
   "execution_count": 23,
   "metadata": {},
   "outputs": [
    {
     "data": {
      "text/html": [
       "<div>\n",
       "<style scoped>\n",
       "    .dataframe tbody tr th:only-of-type {\n",
       "        vertical-align: middle;\n",
       "    }\n",
       "\n",
       "    .dataframe tbody tr th {\n",
       "        vertical-align: top;\n",
       "    }\n",
       "\n",
       "    .dataframe thead th {\n",
       "        text-align: right;\n",
       "    }\n",
       "</style>\n",
       "<table border=\"1\" class=\"dataframe\">\n",
       "  <thead>\n",
       "    <tr style=\"text-align: right;\">\n",
       "      <th></th>\n",
       "      <th>id</th>\n",
       "      <th>epoch</th>\n",
       "      <th>sat_id</th>\n",
       "      <th>x</th>\n",
       "      <th>y</th>\n",
       "      <th>z</th>\n",
       "      <th>Vx</th>\n",
       "      <th>Vy</th>\n",
       "      <th>Vz</th>\n",
       "      <th>x_sim</th>\n",
       "      <th>...</th>\n",
       "      <th>Vx_sim</th>\n",
       "      <th>Vy_sim</th>\n",
       "      <th>Vz_sim</th>\n",
       "      <th>day</th>\n",
       "      <th>hour</th>\n",
       "      <th>minute</th>\n",
       "      <th>second</th>\n",
       "      <th>passed_seconds</th>\n",
       "      <th>path</th>\n",
       "      <th>path_sim</th>\n",
       "    </tr>\n",
       "  </thead>\n",
       "  <tbody>\n",
       "    <tr>\n",
       "      <th>0</th>\n",
       "      <td>0</td>\n",
       "      <td>2014-01-01T00:00:00.000</td>\n",
       "      <td>0</td>\n",
       "      <td>-8855.823863</td>\n",
       "      <td>13117.780146</td>\n",
       "      <td>-20728.353233</td>\n",
       "      <td>-0.908303</td>\n",
       "      <td>-3.808436</td>\n",
       "      <td>-2.022083</td>\n",
       "      <td>-8843.131454</td>\n",
       "      <td>...</td>\n",
       "      <td>-0.907527</td>\n",
       "      <td>-3.804930</td>\n",
       "      <td>-2.024133</td>\n",
       "      <td>0</td>\n",
       "      <td>0</td>\n",
       "      <td>0</td>\n",
       "      <td>0</td>\n",
       "      <td>0</td>\n",
       "      <td>26080.000000</td>\n",
       "      <td>26096.521772</td>\n",
       "    </tr>\n",
       "    <tr>\n",
       "      <th>1</th>\n",
       "      <td>1</td>\n",
       "      <td>2014-01-01T00:46:43.000</td>\n",
       "      <td>0</td>\n",
       "      <td>-10567.672384</td>\n",
       "      <td>1619.746066</td>\n",
       "      <td>-24451.813271</td>\n",
       "      <td>-0.302590</td>\n",
       "      <td>-4.272617</td>\n",
       "      <td>-0.612796</td>\n",
       "      <td>-10555.500066</td>\n",
       "      <td>...</td>\n",
       "      <td>-0.303704</td>\n",
       "      <td>-4.269816</td>\n",
       "      <td>-0.616468</td>\n",
       "      <td>0</td>\n",
       "      <td>0</td>\n",
       "      <td>46</td>\n",
       "      <td>43</td>\n",
       "      <td>2803</td>\n",
       "      <td>26686.896582</td>\n",
       "      <td>26703.386480</td>\n",
       "    </tr>\n",
       "  </tbody>\n",
       "</table>\n",
       "<p>2 rows × 22 columns</p>\n",
       "</div>"
      ],
      "text/plain": [
       "   id                    epoch  sat_id             x             y  \\\n",
       "0   0  2014-01-01T00:00:00.000       0  -8855.823863  13117.780146   \n",
       "1   1  2014-01-01T00:46:43.000       0 -10567.672384   1619.746066   \n",
       "\n",
       "              z        Vx        Vy        Vz         x_sim  ...    Vx_sim  \\\n",
       "0 -20728.353233 -0.908303 -3.808436 -2.022083  -8843.131454  ... -0.907527   \n",
       "1 -24451.813271 -0.302590 -4.272617 -0.612796 -10555.500066  ... -0.303704   \n",
       "\n",
       "     Vy_sim    Vz_sim  day  hour  minute  second  passed_seconds  \\\n",
       "0 -3.804930 -2.024133    0     0       0       0               0   \n",
       "1 -4.269816 -0.616468    0     0      46      43            2803   \n",
       "\n",
       "           path      path_sim  \n",
       "0  26080.000000  26096.521772  \n",
       "1  26686.896582  26703.386480  \n",
       "\n",
       "[2 rows x 22 columns]"
      ]
     },
     "execution_count": 23,
     "metadata": {},
     "output_type": "execute_result"
    }
   ],
   "source": [
    "train.head(2)"
   ]
  },
  {
   "cell_type": "markdown",
   "metadata": {},
   "source": [
    "Посмотрим увеличивается ли дельта между реальными и симул. данными"
   ]
  },
  {
   "cell_type": "code",
   "execution_count": 24,
   "metadata": {},
   "outputs": [],
   "source": [
    "# размер ошибки\n",
    "def plot_coord_dif(n):\n",
    "    coord_dif = train[train['sat_id'] == n].loc[:, 'path'] - train[train['sat_id'] == n].loc[:, 'path_sim']\n",
    "    coord_range = train[train['sat_id'] == n].shape[0]\n",
    "    plt.plot(list(range(0, coord_range)), np.array(coord_dif))"
   ]
  },
  {
   "cell_type": "code",
   "execution_count": 25,
   "metadata": {},
   "outputs": [
    {
     "data": {
      "image/png": "[encoded data removed]",
      "text/plain": [
       "<Figure size 432x288 with 1 Axes>"
      ]
     },
     "metadata": {},
     "output_type": "display_data"
    }
   ],
   "source": [
    "plot_coord_dif(0)"
   ]
  },
  {
   "cell_type": "code",
   "execution_count": 26,
   "metadata": {},
   "outputs": [],
   "source": [
    "# размер ошибки по дельте времени\n",
    "def plot_coord_dif_time(n):\n",
    "    coord_dif = train[train['sat_id'] == n].loc[:, 'path'] - train[train['sat_id'] == n].loc[:, 'path_sim']\n",
    "    passed_seconds = train[train['sat_id'] == n].loc[:, 'passed_seconds']\n",
    "    plt.plot(passed_seconds, np.array(coord_dif))"
   ]
  },
  {
   "cell_type": "code",
   "execution_count": 27,
   "metadata": {},
   "outputs": [
    {
     "data": {
      "image/png": "[encoded data removed]",
      "text/plain": [
       "<Figure size 432x288 with 1 Axes>"
      ]
     },
     "metadata": {},
     "output_type": "display_data"
    }
   ],
   "source": [
    "plot_coord_dif_time(0)"
   ]
  },
  {
   "cell_type": "code",
   "execution_count": 28,
   "metadata": {},
   "outputs": [
    {
     "data": {
      "image/png": "[encoded data removed]",
      "text/plain": [
       "<Figure size 432x288 with 1 Axes>"
      ]
     },
     "metadata": {},
     "output_type": "display_data"
    }
   ],
   "source": [
    "plot_coord_dif_time(333)"
   ]
  },
  {
   "cell_type": "code",
   "execution_count": 29,
   "metadata": {},
   "outputs": [
    {
     "data": {
      "image/png": "[encoded data removed]",
      "text/plain": [
       "<Figure size 432x288 with 1 Axes>"
      ]
     },
     "metadata": {},
     "output_type": "display_data"
    }
   ],
   "source": [
    "plot_coord_dif_time(444)"
   ]
  },
  {
   "cell_type": "markdown",
   "metadata": {},
   "source": [
    "#### Стабильна ли скорость во времени "
   ]
  },
  {
   "cell_type": "code",
   "execution_count": 30,
   "metadata": {},
   "outputs": [],
   "source": [
    "train['V'] = np.sqrt(np.power(train.loc[:, 'Vx'],2) + \n",
    "                     np.power(train.loc[:, 'Vy'],2) + \n",
    "                     np.power(train.loc[:, 'Vz'],2)) "
   ]
  },
  {
   "cell_type": "code",
   "execution_count": 31,
   "metadata": {},
   "outputs": [],
   "source": [
    "train['V_sim'] = np.sqrt(np.power(train.loc[:, 'Vx_sim'],2) + \n",
    "                         np.power(train.loc[:, 'Vy_sim'],2) + \n",
    "                         np.power(train.loc[:, 'Vz_sim'],2)) "
   ]
  },
  {
   "cell_type": "code",
   "execution_count": 32,
   "metadata": {},
   "outputs": [],
   "source": [
    "test['V_sim'] = np.sqrt(np.power(test.loc[:, 'Vx_sim'],2) + \n",
    "                         np.power(test.loc[:, 'Vy_sim'],2) + \n",
    "                         np.power(test.loc[:, 'Vz_sim'],2)) "
   ]
  },
  {
   "cell_type": "code",
   "execution_count": 33,
   "metadata": {},
   "outputs": [
    {
     "data": {
      "text/html": [
       "<div>\n",
       "<style scoped>\n",
       "    .dataframe tbody tr th:only-of-type {\n",
       "        vertical-align: middle;\n",
       "    }\n",
       "\n",
       "    .dataframe tbody tr th {\n",
       "        vertical-align: top;\n",
       "    }\n",
       "\n",
       "    .dataframe thead th {\n",
       "        text-align: right;\n",
       "    }\n",
       "</style>\n",
       "<table border=\"1\" class=\"dataframe\">\n",
       "  <thead>\n",
       "    <tr style=\"text-align: right;\">\n",
       "      <th></th>\n",
       "      <th>epoch</th>\n",
       "      <th>sat_id</th>\n",
       "      <th>V</th>\n",
       "    </tr>\n",
       "  </thead>\n",
       "  <tbody>\n",
       "    <tr>\n",
       "      <th>0</th>\n",
       "      <td>2014-01-01T00:00:00.000</td>\n",
       "      <td>0</td>\n",
       "      <td>4.406588</td>\n",
       "    </tr>\n",
       "    <tr>\n",
       "      <th>1</th>\n",
       "      <td>2014-01-01T00:46:43.000</td>\n",
       "      <td>0</td>\n",
       "      <td>4.326931</td>\n",
       "    </tr>\n",
       "    <tr>\n",
       "      <th>2</th>\n",
       "      <td>2014-01-01T01:33:26.001</td>\n",
       "      <td>0</td>\n",
       "      <td>4.120966</td>\n",
       "    </tr>\n",
       "    <tr>\n",
       "      <th>3</th>\n",
       "      <td>2014-01-01T02:20:09.001</td>\n",
       "      <td>0</td>\n",
       "      <td>3.854871</td>\n",
       "    </tr>\n",
       "    <tr>\n",
       "      <th>4</th>\n",
       "      <td>2014-01-01T03:06:52.002</td>\n",
       "      <td>0</td>\n",
       "      <td>3.582143</td>\n",
       "    </tr>\n",
       "    <tr>\n",
       "      <th>5</th>\n",
       "      <td>2014-01-01T03:53:35.002</td>\n",
       "      <td>0</td>\n",
       "      <td>3.331210</td>\n",
       "    </tr>\n",
       "    <tr>\n",
       "      <th>6</th>\n",
       "      <td>2014-01-01T04:40:18.003</td>\n",
       "      <td>0</td>\n",
       "      <td>3.113272</td>\n",
       "    </tr>\n",
       "    <tr>\n",
       "      <th>7</th>\n",
       "      <td>2014-01-01T05:27:01.003</td>\n",
       "      <td>0</td>\n",
       "      <td>2.931178</td>\n",
       "    </tr>\n",
       "    <tr>\n",
       "      <th>8</th>\n",
       "      <td>2014-01-01T06:13:44.004</td>\n",
       "      <td>0</td>\n",
       "      <td>2.784557</td>\n",
       "    </tr>\n",
       "    <tr>\n",
       "      <th>9</th>\n",
       "      <td>2014-01-01T07:00:27.004</td>\n",
       "      <td>0</td>\n",
       "      <td>2.672147</td>\n",
       "    </tr>\n",
       "  </tbody>\n",
       "</table>\n",
       "</div>"
      ],
      "text/plain": [
       "                     epoch  sat_id         V\n",
       "0  2014-01-01T00:00:00.000       0  4.406588\n",
       "1  2014-01-01T00:46:43.000       0  4.326931\n",
       "2  2014-01-01T01:33:26.001       0  4.120966\n",
       "3  2014-01-01T02:20:09.001       0  3.854871\n",
       "4  2014-01-01T03:06:52.002       0  3.582143\n",
       "5  2014-01-01T03:53:35.002       0  3.331210\n",
       "6  2014-01-01T04:40:18.003       0  3.113272\n",
       "7  2014-01-01T05:27:01.003       0  2.931178\n",
       "8  2014-01-01T06:13:44.004       0  2.784557\n",
       "9  2014-01-01T07:00:27.004       0  2.672147"
      ]
     },
     "execution_count": 33,
     "metadata": {},
     "output_type": "execute_result"
    }
   ],
   "source": [
    "train.loc[:, ['epoch','sat_id','V']].head(10)"
   ]
  },
  {
   "cell_type": "code",
   "execution_count": 34,
   "metadata": {},
   "outputs": [
    {
     "data": {
      "text/html": [
       "<div>\n",
       "<style scoped>\n",
       "    .dataframe tbody tr th:only-of-type {\n",
       "        vertical-align: middle;\n",
       "    }\n",
       "\n",
       "    .dataframe tbody tr th {\n",
       "        vertical-align: top;\n",
       "    }\n",
       "\n",
       "    .dataframe thead th {\n",
       "        text-align: right;\n",
       "    }\n",
       "</style>\n",
       "<table border=\"1\" class=\"dataframe\">\n",
       "  <thead>\n",
       "    <tr style=\"text-align: right;\">\n",
       "      <th></th>\n",
       "      <th>epoch</th>\n",
       "      <th>sat_id</th>\n",
       "      <th>V_sim</th>\n",
       "    </tr>\n",
       "  </thead>\n",
       "  <tbody>\n",
       "    <tr>\n",
       "      <th>0</th>\n",
       "      <td>2014-01-01T00:00:00.000</td>\n",
       "      <td>0</td>\n",
       "      <td>4.404340</td>\n",
       "    </tr>\n",
       "    <tr>\n",
       "      <th>1</th>\n",
       "      <td>2014-01-01T00:46:43.000</td>\n",
       "      <td>0</td>\n",
       "      <td>4.324766</td>\n",
       "    </tr>\n",
       "    <tr>\n",
       "      <th>2</th>\n",
       "      <td>2014-01-01T01:33:26.001</td>\n",
       "      <td>0</td>\n",
       "      <td>4.119305</td>\n",
       "    </tr>\n",
       "    <tr>\n",
       "      <th>3</th>\n",
       "      <td>2014-01-01T02:20:09.001</td>\n",
       "      <td>0</td>\n",
       "      <td>3.853846</td>\n",
       "    </tr>\n",
       "    <tr>\n",
       "      <th>4</th>\n",
       "      <td>2014-01-01T03:06:52.002</td>\n",
       "      <td>0</td>\n",
       "      <td>3.581697</td>\n",
       "    </tr>\n",
       "    <tr>\n",
       "      <th>5</th>\n",
       "      <td>2014-01-01T03:53:35.002</td>\n",
       "      <td>0</td>\n",
       "      <td>3.331236</td>\n",
       "    </tr>\n",
       "    <tr>\n",
       "      <th>6</th>\n",
       "      <td>2014-01-01T04:40:18.003</td>\n",
       "      <td>0</td>\n",
       "      <td>3.113676</td>\n",
       "    </tr>\n",
       "    <tr>\n",
       "      <th>7</th>\n",
       "      <td>2014-01-01T05:27:01.003</td>\n",
       "      <td>0</td>\n",
       "      <td>2.931893</td>\n",
       "    </tr>\n",
       "    <tr>\n",
       "      <th>8</th>\n",
       "      <td>2014-01-01T06:13:44.004</td>\n",
       "      <td>0</td>\n",
       "      <td>2.785534</td>\n",
       "    </tr>\n",
       "    <tr>\n",
       "      <th>9</th>\n",
       "      <td>2014-01-01T07:00:27.004</td>\n",
       "      <td>0</td>\n",
       "      <td>2.673353</td>\n",
       "    </tr>\n",
       "  </tbody>\n",
       "</table>\n",
       "</div>"
      ],
      "text/plain": [
       "                     epoch  sat_id     V_sim\n",
       "0  2014-01-01T00:00:00.000       0  4.404340\n",
       "1  2014-01-01T00:46:43.000       0  4.324766\n",
       "2  2014-01-01T01:33:26.001       0  4.119305\n",
       "3  2014-01-01T02:20:09.001       0  3.853846\n",
       "4  2014-01-01T03:06:52.002       0  3.581697\n",
       "5  2014-01-01T03:53:35.002       0  3.331236\n",
       "6  2014-01-01T04:40:18.003       0  3.113676\n",
       "7  2014-01-01T05:27:01.003       0  2.931893\n",
       "8  2014-01-01T06:13:44.004       0  2.785534\n",
       "9  2014-01-01T07:00:27.004       0  2.673353"
      ]
     },
     "execution_count": 34,
     "metadata": {},
     "output_type": "execute_result"
    }
   ],
   "source": [
    "train.loc[:, ['epoch','sat_id','V_sim']].head(10)"
   ]
  },
  {
   "cell_type": "code",
   "execution_count": 35,
   "metadata": {},
   "outputs": [],
   "source": [
    "def plot_V(n):\n",
    "    plt.plot(list(train[train['sat_id'] == n].index), list(train[train['sat_id'] == n].loc[:,'V']))"
   ]
  },
  {
   "cell_type": "code",
   "execution_count": 36,
   "metadata": {},
   "outputs": [
    {
     "data": {
      "image/png": "[encoded data removed]",
      "text/plain": [
       "<Figure size 432x288 with 1 Axes>"
      ]
     },
     "metadata": {},
     "output_type": "display_data"
    }
   ],
   "source": [
    "plot_V(1)"
   ]
  },
  {
   "cell_type": "code",
   "execution_count": 37,
   "metadata": {},
   "outputs": [
    {
     "data": {
      "image/png": "[encoded data removed]",
      "text/plain": [
       "<Figure size 432x288 with 1 Axes>"
      ]
     },
     "metadata": {},
     "output_type": "display_data"
    }
   ],
   "source": [
    "plot_V(100)"
   ]
  },
  {
   "cell_type": "markdown",
   "metadata": {},
   "source": [
    "#### Признаки - прирост координат от скоростей по осям (Vx^2 / (Vx^2 + Vy^2 + Vz^2 )"
   ]
  },
  {
   "cell_type": "code",
   "execution_count": 38,
   "metadata": {},
   "outputs": [],
   "source": [
    "train['Vx_gain'] = np.power(train.loc[:, 'Vx'],2) / (np.power(train.loc[:, 'Vx'],2) + np.power(train.loc[:, 'Vy'],2) + np.power(train.loc[:, 'Vz'],2))\n",
    "train['Vy_gain'] = np.power(train.loc[:, 'Vy'],2) / (np.power(train.loc[:, 'Vx'],2) + np.power(train.loc[:, 'Vy'],2) + np.power(train.loc[:, 'Vz'],2))\n",
    "train['Vz_gain'] = np.power(train.loc[:, 'Vz'],2) / (np.power(train.loc[:, 'Vx'],2) + np.power(train.loc[:, 'Vy'],2) + np.power(train.loc[:, 'Vz'],2))"
   ]
  },
  {
   "cell_type": "code",
   "execution_count": 39,
   "metadata": {},
   "outputs": [],
   "source": [
    "train['Vx_sim_gain'] = np.power(train.loc[:, 'Vx_sim'],2) / (np.power(train.loc[:, 'Vx_sim'],2) + np.power(train.loc[:, 'Vy_sim'],2) + np.power(train.loc[:, 'Vz_sim'],2))\n",
    "train['Vy_sim_gain'] = np.power(train.loc[:, 'Vy_sim'],2) / (np.power(train.loc[:, 'Vx_sim'],2) + np.power(train.loc[:, 'Vy_sim'],2) + np.power(train.loc[:, 'Vz_sim'],2))\n",
    "train['Vz_sim_gain'] = np.power(train.loc[:, 'Vz_sim'],2) / (np.power(train.loc[:, 'Vx_sim'],2) + np.power(train.loc[:, 'Vy_sim'],2) + np.power(train.loc[:, 'Vz_sim'],2))"
   ]
  },
  {
   "cell_type": "code",
   "execution_count": 40,
   "metadata": {},
   "outputs": [],
   "source": [
    "test['Vx_sim_gain'] = np.power(test.loc[:, 'Vx_sim'],2) / (np.power(test.loc[:, 'Vx_sim'],2) + np.power(test.loc[:, 'Vy_sim'],2) + np.power(test.loc[:, 'Vz_sim'],2))\n",
    "test['Vy_sim_gain'] = np.power(test.loc[:, 'Vy_sim'],2) / (np.power(test.loc[:, 'Vx_sim'],2) + np.power(test.loc[:, 'Vy_sim'],2) + np.power(test.loc[:, 'Vz_sim'],2))\n",
    "test['Vz_sim_gain'] = np.power(test.loc[:, 'Vz_sim'],2) / (np.power(test.loc[:, 'Vx_sim'],2) + np.power(test.loc[:, 'Vy_sim'],2) + np.power(test.loc[:, 'Vz_sim'],2))"
   ]
  },
  {
   "cell_type": "code",
   "execution_count": 41,
   "metadata": {
    "scrolled": true
   },
   "outputs": [
    {
     "data": {
      "text/html": [
       "<div>\n",
       "<style scoped>\n",
       "    .dataframe tbody tr th:only-of-type {\n",
       "        vertical-align: middle;\n",
       "    }\n",
       "\n",
       "    .dataframe tbody tr th {\n",
       "        vertical-align: top;\n",
       "    }\n",
       "\n",
       "    .dataframe thead th {\n",
       "        text-align: right;\n",
       "    }\n",
       "</style>\n",
       "<table border=\"1\" class=\"dataframe\">\n",
       "  <thead>\n",
       "    <tr style=\"text-align: right;\">\n",
       "      <th></th>\n",
       "      <th>Vx</th>\n",
       "      <th>Vy</th>\n",
       "      <th>Vz</th>\n",
       "      <th>Vx_gain</th>\n",
       "      <th>Vy_gain</th>\n",
       "      <th>Vz_gain</th>\n",
       "    </tr>\n",
       "  </thead>\n",
       "  <tbody>\n",
       "    <tr>\n",
       "      <th>0</th>\n",
       "      <td>-0.908303</td>\n",
       "      <td>-3.808436</td>\n",
       "      <td>-2.022083</td>\n",
       "      <td>0.042487</td>\n",
       "      <td>0.746945</td>\n",
       "      <td>0.210568</td>\n",
       "    </tr>\n",
       "    <tr>\n",
       "      <th>1</th>\n",
       "      <td>-0.302590</td>\n",
       "      <td>-4.272617</td>\n",
       "      <td>-0.612796</td>\n",
       "      <td>0.004890</td>\n",
       "      <td>0.975052</td>\n",
       "      <td>0.020057</td>\n",
       "    </tr>\n",
       "    <tr>\n",
       "      <th>2</th>\n",
       "      <td>0.277435</td>\n",
       "      <td>-4.047522</td>\n",
       "      <td>0.723155</td>\n",
       "      <td>0.004532</td>\n",
       "      <td>0.964674</td>\n",
       "      <td>0.030794</td>\n",
       "    </tr>\n",
       "    <tr>\n",
       "      <th>3</th>\n",
       "      <td>0.715600</td>\n",
       "      <td>-3.373762</td>\n",
       "      <td>1.722115</td>\n",
       "      <td>0.034460</td>\n",
       "      <td>0.765965</td>\n",
       "      <td>0.199574</td>\n",
       "    </tr>\n",
       "    <tr>\n",
       "      <th>4</th>\n",
       "      <td>0.992507</td>\n",
       "      <td>-2.519732</td>\n",
       "      <td>2.344703</td>\n",
       "      <td>0.076768</td>\n",
       "      <td>0.494792</td>\n",
       "      <td>0.428440</td>\n",
       "    </tr>\n",
       "  </tbody>\n",
       "</table>\n",
       "</div>"
      ],
      "text/plain": [
       "         Vx        Vy        Vz   Vx_gain   Vy_gain   Vz_gain\n",
       "0 -0.908303 -3.808436 -2.022083  0.042487  0.746945  0.210568\n",
       "1 -0.302590 -4.272617 -0.612796  0.004890  0.975052  0.020057\n",
       "2  0.277435 -4.047522  0.723155  0.004532  0.964674  0.030794\n",
       "3  0.715600 -3.373762  1.722115  0.034460  0.765965  0.199574\n",
       "4  0.992507 -2.519732  2.344703  0.076768  0.494792  0.428440"
      ]
     },
     "execution_count": 41,
     "metadata": {},
     "output_type": "execute_result"
    }
   ],
   "source": [
    "train.loc[:, ['Vx', 'Vy', 'Vz', 'Vx_gain', 'Vy_gain', 'Vz_gain']].head()"
   ]
  },
  {
   "cell_type": "markdown",
   "metadata": {},
   "source": [
    "#### Признаки - эллиптичность орбиты"
   ]
  },
  {
   "cell_type": "markdown",
   "metadata": {},
   "source": [
    "Эллиптичность рассчитывается как e = sqrt(pow(a,2)-pow(b,2)) / a\n",
    "\n",
    "\"a\" - большая полуось; \"b\" - малая полуось; \"е\" - эксцентриситет эллипса"
   ]
  },
  {
   "cell_type": "code",
   "execution_count": 99,
   "metadata": {},
   "outputs": [],
   "source": [
    "sat_data = pd.DataFrame(train.loc[:,'sat_id'].unique(), columns=['sat_id'])"
   ]
  },
  {
   "cell_type": "code",
   "execution_count": 101,
   "metadata": {},
   "outputs": [
    {
     "data": {
      "text/html": [
       "<div>\n",
       "<style scoped>\n",
       "    .dataframe tbody tr th:only-of-type {\n",
       "        vertical-align: middle;\n",
       "    }\n",
       "\n",
       "    .dataframe tbody tr th {\n",
       "        vertical-align: top;\n",
       "    }\n",
       "\n",
       "    .dataframe thead th {\n",
       "        text-align: right;\n",
       "    }\n",
       "</style>\n",
       "<table border=\"1\" class=\"dataframe\">\n",
       "  <thead>\n",
       "    <tr style=\"text-align: right;\">\n",
       "      <th></th>\n",
       "      <th>sat_id</th>\n",
       "    </tr>\n",
       "  </thead>\n",
       "  <tbody>\n",
       "    <tr>\n",
       "      <th>0</th>\n",
       "      <td>0</td>\n",
       "    </tr>\n",
       "    <tr>\n",
       "      <th>1</th>\n",
       "      <td>1</td>\n",
       "    </tr>\n",
       "    <tr>\n",
       "      <th>2</th>\n",
       "      <td>2</td>\n",
       "    </tr>\n",
       "  </tbody>\n",
       "</table>\n",
       "</div>"
      ],
      "text/plain": [
       "   sat_id\n",
       "0       0\n",
       "1       1\n",
       "2       2"
      ]
     },
     "execution_count": 101,
     "metadata": {},
     "output_type": "execute_result"
    }
   ],
   "source": [
    "sat_data.head(3)"
   ]
  },
  {
   "cell_type": "code",
   "execution_count": 106,
   "metadata": {},
   "outputs": [],
   "source": [
    "sat_data['x_sim_max'] = train.loc[:, ['sat_id', 'x_sim']].groupby('sat_id').max()\n",
    "sat_data['x_sim_min'] = train.loc[:, ['sat_id', 'x_sim']].groupby('sat_id').min()\n",
    "sat_data['y_sim_max'] = train.loc[:, ['sat_id', 'y_sim']].groupby('sat_id').max()\n",
    "sat_data['y_sim_min'] = train.loc[:, ['sat_id', 'y_sim']].groupby('sat_id').min()\n",
    "sat_data['z_sim_max'] = train.loc[:, ['sat_id', 'z_sim']].groupby('sat_id').max()\n",
    "sat_data['z_sim_min'] = train.loc[:, ['sat_id', 'z_sim']].groupby('sat_id').min()"
   ]
  },
  {
   "cell_type": "code",
   "execution_count": 107,
   "metadata": {},
   "outputs": [
    {
     "data": {
      "text/html": [
       "<div>\n",
       "<style scoped>\n",
       "    .dataframe tbody tr th:only-of-type {\n",
       "        vertical-align: middle;\n",
       "    }\n",
       "\n",
       "    .dataframe tbody tr th {\n",
       "        vertical-align: top;\n",
       "    }\n",
       "\n",
       "    .dataframe thead th {\n",
       "        text-align: right;\n",
       "    }\n",
       "</style>\n",
       "<table border=\"1\" class=\"dataframe\">\n",
       "  <thead>\n",
       "    <tr style=\"text-align: right;\">\n",
       "      <th></th>\n",
       "      <th>sat_id</th>\n",
       "      <th>x_sim_max</th>\n",
       "      <th>x_sim_min</th>\n",
       "      <th>y_sim_max</th>\n",
       "      <th>y_sim_min</th>\n",
       "      <th>z_sim_max</th>\n",
       "      <th>z_sim_min</th>\n",
       "    </tr>\n",
       "  </thead>\n",
       "  <tbody>\n",
       "    <tr>\n",
       "      <th>0</th>\n",
       "      <td>0</td>\n",
       "      <td>17269.627379</td>\n",
       "      <td>-10663.078739</td>\n",
       "      <td>29891.530302</td>\n",
       "      <td>-39691.962101</td>\n",
       "      <td>40044.763219</td>\n",
       "      <td>-24477.716135</td>\n",
       "    </tr>\n",
       "    <tr>\n",
       "      <th>1</th>\n",
       "      <td>1</td>\n",
       "      <td>11199.853336</td>\n",
       "      <td>-30287.447717</td>\n",
       "      <td>19114.979309</td>\n",
       "      <td>-14496.096094</td>\n",
       "      <td>7119.621702</td>\n",
       "      <td>-12220.661191</td>\n",
       "    </tr>\n",
       "    <tr>\n",
       "      <th>2</th>\n",
       "      <td>2</td>\n",
       "      <td>34479.954736</td>\n",
       "      <td>-83304.837665</td>\n",
       "      <td>57453.564201</td>\n",
       "      <td>-36319.224115</td>\n",
       "      <td>36978.913464</td>\n",
       "      <td>-35513.924909</td>\n",
       "    </tr>\n",
       "  </tbody>\n",
       "</table>\n",
       "</div>"
      ],
      "text/plain": [
       "   sat_id     x_sim_max     x_sim_min     y_sim_max     y_sim_min  \\\n",
       "0       0  17269.627379 -10663.078739  29891.530302 -39691.962101   \n",
       "1       1  11199.853336 -30287.447717  19114.979309 -14496.096094   \n",
       "2       2  34479.954736 -83304.837665  57453.564201 -36319.224115   \n",
       "\n",
       "      z_sim_max     z_sim_min  \n",
       "0  40044.763219 -24477.716135  \n",
       "1   7119.621702 -12220.661191  \n",
       "2  36978.913464 -35513.924909  "
      ]
     },
     "execution_count": 107,
     "metadata": {},
     "output_type": "execute_result"
    }
   ],
   "source": [
    "sat_data.head(3)"
   ]
  },
  {
   "cell_type": "code",
   "execution_count": 109,
   "metadata": {},
   "outputs": [],
   "source": [
    "sat_data['x_sim_varience'] = sat_data.loc[:,'x_sim_max'] - sat_data.loc[:,'x_sim_min']\n",
    "sat_data['y_sim_varience'] = sat_data.loc[:,'y_sim_max'] - sat_data.loc[:,'y_sim_min']\n",
    "sat_data['z_sim_varience'] = sat_data.loc[:,'z_sim_max'] - sat_data.loc[:,'z_sim_min']"
   ]
  },
  {
   "cell_type": "code",
   "execution_count": 110,
   "metadata": {},
   "outputs": [
    {
     "data": {
      "text/html": [
       "<div>\n",
       "<style scoped>\n",
       "    .dataframe tbody tr th:only-of-type {\n",
       "        vertical-align: middle;\n",
       "    }\n",
       "\n",
       "    .dataframe tbody tr th {\n",
       "        vertical-align: top;\n",
       "    }\n",
       "\n",
       "    .dataframe thead th {\n",
       "        text-align: right;\n",
       "    }\n",
       "</style>\n",
       "<table border=\"1\" class=\"dataframe\">\n",
       "  <thead>\n",
       "    <tr style=\"text-align: right;\">\n",
       "      <th></th>\n",
       "      <th>sat_id</th>\n",
       "      <th>x_sim_max</th>\n",
       "      <th>x_sim_min</th>\n",
       "      <th>y_sim_max</th>\n",
       "      <th>y_sim_min</th>\n",
       "      <th>z_sim_max</th>\n",
       "      <th>z_sim_min</th>\n",
       "      <th>x_sim_varience</th>\n",
       "      <th>y_sim_varience</th>\n",
       "      <th>z_sim_varience</th>\n",
       "    </tr>\n",
       "  </thead>\n",
       "  <tbody>\n",
       "    <tr>\n",
       "      <th>0</th>\n",
       "      <td>0</td>\n",
       "      <td>17269.627379</td>\n",
       "      <td>-10663.078739</td>\n",
       "      <td>29891.530302</td>\n",
       "      <td>-39691.962101</td>\n",
       "      <td>40044.763219</td>\n",
       "      <td>-24477.716135</td>\n",
       "      <td>27932.706118</td>\n",
       "      <td>69583.492403</td>\n",
       "      <td>64522.479354</td>\n",
       "    </tr>\n",
       "    <tr>\n",
       "      <th>1</th>\n",
       "      <td>1</td>\n",
       "      <td>11199.853336</td>\n",
       "      <td>-30287.447717</td>\n",
       "      <td>19114.979309</td>\n",
       "      <td>-14496.096094</td>\n",
       "      <td>7119.621702</td>\n",
       "      <td>-12220.661191</td>\n",
       "      <td>41487.301053</td>\n",
       "      <td>33611.075402</td>\n",
       "      <td>19340.282892</td>\n",
       "    </tr>\n",
       "    <tr>\n",
       "      <th>2</th>\n",
       "      <td>2</td>\n",
       "      <td>34479.954736</td>\n",
       "      <td>-83304.837665</td>\n",
       "      <td>57453.564201</td>\n",
       "      <td>-36319.224115</td>\n",
       "      <td>36978.913464</td>\n",
       "      <td>-35513.924909</td>\n",
       "      <td>117784.792401</td>\n",
       "      <td>93772.788316</td>\n",
       "      <td>72492.838373</td>\n",
       "    </tr>\n",
       "  </tbody>\n",
       "</table>\n",
       "</div>"
      ],
      "text/plain": [
       "   sat_id     x_sim_max     x_sim_min     y_sim_max     y_sim_min  \\\n",
       "0       0  17269.627379 -10663.078739  29891.530302 -39691.962101   \n",
       "1       1  11199.853336 -30287.447717  19114.979309 -14496.096094   \n",
       "2       2  34479.954736 -83304.837665  57453.564201 -36319.224115   \n",
       "\n",
       "      z_sim_max     z_sim_min  x_sim_varience  y_sim_varience  z_sim_varience  \n",
       "0  40044.763219 -24477.716135    27932.706118    69583.492403    64522.479354  \n",
       "1   7119.621702 -12220.661191    41487.301053    33611.075402    19340.282892  \n",
       "2  36978.913464 -35513.924909   117784.792401    93772.788316    72492.838373  "
      ]
     },
     "execution_count": 110,
     "metadata": {},
     "output_type": "execute_result"
    }
   ],
   "source": [
    "sat_data.head(3)"
   ]
  },
  {
   "cell_type": "code",
   "execution_count": null,
   "metadata": {},
   "outputs": [],
   "source": []
  },
  {
   "cell_type": "code",
   "execution_count": null,
   "metadata": {},
   "outputs": [],
   "source": []
  },
  {
   "cell_type": "code",
   "execution_count": null,
   "metadata": {},
   "outputs": [],
   "source": []
  },
  {
   "cell_type": "code",
   "execution_count": null,
   "metadata": {},
   "outputs": [],
   "source": []
  },
  {
   "cell_type": "code",
   "execution_count": null,
   "metadata": {},
   "outputs": [],
   "source": []
  },
  {
   "cell_type": "markdown",
   "metadata": {},
   "source": [
    "#### Ошибка по координатам от скорости"
   ]
  },
  {
   "cell_type": "code",
   "execution_count": 33,
   "metadata": {},
   "outputs": [
    {
     "data": {
      "text/html": [
       "<div>\n",
       "<style scoped>\n",
       "    .dataframe tbody tr th:only-of-type {\n",
       "        vertical-align: middle;\n",
       "    }\n",
       "\n",
       "    .dataframe tbody tr th {\n",
       "        vertical-align: top;\n",
       "    }\n",
       "\n",
       "    .dataframe thead th {\n",
       "        text-align: right;\n",
       "    }\n",
       "</style>\n",
       "<table border=\"1\" class=\"dataframe\">\n",
       "  <thead>\n",
       "    <tr style=\"text-align: right;\">\n",
       "      <th></th>\n",
       "      <th>id</th>\n",
       "      <th>epoch</th>\n",
       "      <th>sat_id</th>\n",
       "      <th>x</th>\n",
       "      <th>y</th>\n",
       "      <th>z</th>\n",
       "      <th>Vx</th>\n",
       "      <th>Vy</th>\n",
       "      <th>Vz</th>\n",
       "      <th>x_sim</th>\n",
       "      <th>...</th>\n",
       "      <th>Vy_sim</th>\n",
       "      <th>Vz_sim</th>\n",
       "      <th>day</th>\n",
       "      <th>hour</th>\n",
       "      <th>minute</th>\n",
       "      <th>second</th>\n",
       "      <th>passed_seconds</th>\n",
       "      <th>x_dif</th>\n",
       "      <th>path</th>\n",
       "      <th>path_sim</th>\n",
       "    </tr>\n",
       "  </thead>\n",
       "  <tbody>\n",
       "    <tr>\n",
       "      <th>0</th>\n",
       "      <td>0</td>\n",
       "      <td>2014-01-01T00:00:00.000</td>\n",
       "      <td>0</td>\n",
       "      <td>-8855.823863</td>\n",
       "      <td>13117.780146</td>\n",
       "      <td>-20728.353233</td>\n",
       "      <td>-0.908303</td>\n",
       "      <td>-3.808436</td>\n",
       "      <td>-2.022083</td>\n",
       "      <td>-8843.131454</td>\n",
       "      <td>...</td>\n",
       "      <td>-3.80493</td>\n",
       "      <td>-2.024133</td>\n",
       "      <td>0</td>\n",
       "      <td>0</td>\n",
       "      <td>0</td>\n",
       "      <td>0</td>\n",
       "      <td>0</td>\n",
       "      <td>-12.692409</td>\n",
       "      <td>26080.0</td>\n",
       "      <td>26096.521772</td>\n",
       "    </tr>\n",
       "  </tbody>\n",
       "</table>\n",
       "<p>1 rows × 23 columns</p>\n",
       "</div>"
      ],
      "text/plain": [
       "   id                    epoch  sat_id            x             y  \\\n",
       "0   0  2014-01-01T00:00:00.000       0 -8855.823863  13117.780146   \n",
       "\n",
       "              z        Vx        Vy        Vz        x_sim  ...   Vy_sim  \\\n",
       "0 -20728.353233 -0.908303 -3.808436 -2.022083 -8843.131454  ... -3.80493   \n",
       "\n",
       "     Vz_sim  day  hour  minute  second  passed_seconds      x_dif     path  \\\n",
       "0 -2.024133    0     0       0       0               0 -12.692409  26080.0   \n",
       "\n",
       "       path_sim  \n",
       "0  26096.521772  \n",
       "\n",
       "[1 rows x 23 columns]"
      ]
     },
     "execution_count": 33,
     "metadata": {},
     "output_type": "execute_result"
    }
   ],
   "source": [
    "train.head(1)"
   ]
  },
  {
   "cell_type": "code",
   "execution_count": 35,
   "metadata": {},
   "outputs": [
    {
     "data": {
      "text/html": [
       "<div>\n",
       "<style scoped>\n",
       "    .dataframe tbody tr th:only-of-type {\n",
       "        vertical-align: middle;\n",
       "    }\n",
       "\n",
       "    .dataframe tbody tr th {\n",
       "        vertical-align: top;\n",
       "    }\n",
       "\n",
       "    .dataframe thead th {\n",
       "        text-align: right;\n",
       "    }\n",
       "</style>\n",
       "<table border=\"1\" class=\"dataframe\">\n",
       "  <thead>\n",
       "    <tr style=\"text-align: right;\">\n",
       "      <th></th>\n",
       "      <th>id</th>\n",
       "      <th>epoch</th>\n",
       "      <th>sat_id</th>\n",
       "      <th>x</th>\n",
       "      <th>y</th>\n",
       "      <th>z</th>\n",
       "      <th>Vx</th>\n",
       "      <th>Vy</th>\n",
       "      <th>Vz</th>\n",
       "      <th>x_sim</th>\n",
       "      <th>...</th>\n",
       "      <th>second</th>\n",
       "      <th>passed_seconds</th>\n",
       "      <th>path</th>\n",
       "      <th>path_sim</th>\n",
       "      <th>x_dif</th>\n",
       "      <th>y_dif</th>\n",
       "      <th>z_dif</th>\n",
       "      <th>Vx_dif</th>\n",
       "      <th>Vy_dif</th>\n",
       "      <th>Vz_dif</th>\n",
       "    </tr>\n",
       "  </thead>\n",
       "  <tbody>\n",
       "    <tr>\n",
       "      <th>0</th>\n",
       "      <td>0</td>\n",
       "      <td>2014-01-01T00:00:00.000</td>\n",
       "      <td>0</td>\n",
       "      <td>-8855.823863</td>\n",
       "      <td>13117.780146</td>\n",
       "      <td>-20728.353233</td>\n",
       "      <td>-0.908303</td>\n",
       "      <td>-3.808436</td>\n",
       "      <td>-2.022083</td>\n",
       "      <td>-8843.131454</td>\n",
       "      <td>...</td>\n",
       "      <td>0</td>\n",
       "      <td>0</td>\n",
       "      <td>26080.0</td>\n",
       "      <td>26096.521772</td>\n",
       "      <td>-12.692409</td>\n",
       "      <td>-20.441543</td>\n",
       "      <td>13.262073</td>\n",
       "      <td>-0.000776</td>\n",
       "      <td>-0.003506</td>\n",
       "      <td>0.00205</td>\n",
       "    </tr>\n",
       "  </tbody>\n",
       "</table>\n",
       "<p>1 rows × 28 columns</p>\n",
       "</div>"
      ],
      "text/plain": [
       "   id                    epoch  sat_id            x             y  \\\n",
       "0   0  2014-01-01T00:00:00.000       0 -8855.823863  13117.780146   \n",
       "\n",
       "              z        Vx        Vy        Vz        x_sim  ...  second  \\\n",
       "0 -20728.353233 -0.908303 -3.808436 -2.022083 -8843.131454  ...       0   \n",
       "\n",
       "   passed_seconds     path      path_sim      x_dif      y_dif      z_dif  \\\n",
       "0               0  26080.0  26096.521772 -12.692409 -20.441543  13.262073   \n",
       "\n",
       "     Vx_dif    Vy_dif   Vz_dif  \n",
       "0 -0.000776 -0.003506  0.00205  \n",
       "\n",
       "[1 rows x 28 columns]"
      ]
     },
     "execution_count": 35,
     "metadata": {},
     "output_type": "execute_result"
    }
   ],
   "source": [
    "train['x_dif'] = train.loc[:, 'x'] - train.loc[:, 'x_sim']\n",
    "train['y_dif'] = train.loc[:, 'y'] - train.loc[:, 'y_sim']\n",
    "train['z_dif'] = train.loc[:, 'z'] - train.loc[:, 'z_sim']\n",
    "\n",
    "train['Vx_dif'] = train.loc[:, 'Vx'] - train.loc[:, 'Vx_sim']\n",
    "train['Vy_dif'] = train.loc[:, 'Vy'] - train.loc[:, 'Vy_sim']\n",
    "train['Vz_dif'] = train.loc[:, 'Vz'] - train.loc[:, 'Vz_sim']\n",
    "\n",
    "train.head(1)"
   ]
  },
  {
   "cell_type": "code",
   "execution_count": null,
   "metadata": {},
   "outputs": [],
   "source": []
  },
  {
   "cell_type": "code",
   "execution_count": 39,
   "metadata": {},
   "outputs": [
    {
     "data": {
      "text/plain": [
       "[<matplotlib.lines.Line2D at 0x555edd8>]"
      ]
     },
     "execution_count": 39,
     "metadata": {},
     "output_type": "execute_result"
    },
    {
     "data": {
      "image/png": "[encoded data removed]",
      "text/plain": [
       "<Figure size 432x288 with 1 Axes>"
      ]
     },
     "metadata": {},
     "output_type": "display_data"
    }
   ],
   "source": [
    "plt.plot(np.abs(train[train['sat_id']==0].loc[:, 'Vx']), np.abs(train[train['sat_id']==0].loc[:, 'x_dif']))"
   ]
  },
  {
   "cell_type": "code",
   "execution_count": 41,
   "metadata": {},
   "outputs": [
    {
     "data": {
      "text/plain": [
       "[<matplotlib.lines.Line2D at 0x132ffb00>]"
      ]
     },
     "execution_count": 41,
     "metadata": {},
     "output_type": "execute_result"
    },
    {
     "data": {
      "image/png": "[encoded data removed]",
      "text/plain": [
       "<Figure size 432x288 with 1 Axes>"
      ]
     },
     "metadata": {},
     "output_type": "display_data"
    }
   ],
   "source": [
    "plt.plot(np.abs(train[train['sat_id']==111].loc[:, 'Vx']), np.abs(train[train['sat_id']==111].loc[:, 'x_dif']))"
   ]
  },
  {
   "cell_type": "code",
   "execution_count": 42,
   "metadata": {},
   "outputs": [
    {
     "data": {
      "text/plain": [
       "[<matplotlib.lines.Line2D at 0x135c9358>]"
      ]
     },
     "execution_count": 42,
     "metadata": {},
     "output_type": "execute_result"
    },
    {
     "data": {
      "image/png": "[encoded data removed]",
      "text/plain": [
       "<Figure size 432x288 with 1 Axes>"
      ]
     },
     "metadata": {},
     "output_type": "display_data"
    }
   ],
   "source": [
    "plt.plot(np.abs(train[train['sat_id']==333].loc[:, 'Vx']), np.abs(train[train['sat_id']==333].loc[:, 'x_dif']))"
   ]
  },
  {
   "cell_type": "code",
   "execution_count": 43,
   "metadata": {},
   "outputs": [
    {
     "data": {
      "text/plain": [
       "[<matplotlib.lines.Line2D at 0x13630dd8>]"
      ]
     },
     "execution_count": 43,
     "metadata": {},
     "output_type": "execute_result"
    },
    {
     "data": {
      "image/png": "[encoded data removed]",
      "text/plain": [
       "<Figure size 432x288 with 1 Axes>"
      ]
     },
     "metadata": {},
     "output_type": "display_data"
    }
   ],
   "source": [
    "plt.plot(np.abs(train[train['sat_id']==444].loc[:, 'Vx']), np.abs(train[train['sat_id']==444].loc[:, 'x_dif']))"
   ]
  },
  {
   "cell_type": "code",
   "execution_count": 44,
   "metadata": {},
   "outputs": [],
   "source": [
    "linear = range(10)\n",
    "nonlinear = [x ** 2 for x in range(10)]"
   ]
  },
  {
   "cell_type": "code",
   "execution_count": 64,
   "metadata": {
    "scrolled": true
   },
   "outputs": [
    {
     "data": {
      "text/plain": [
       "[<matplotlib.lines.Line2D at 0x227326d8>]"
      ]
     },
     "execution_count": 64,
     "metadata": {},
     "output_type": "execute_result"
    },
    {
     "data": {
      "image/png": "[encoded data removed]",
      "text/plain": [
       "<Figure size 864x288 with 3 Axes>"
      ]
     },
     "metadata": {},
     "output_type": "display_data"
    }
   ],
   "source": [
    "# plot example\n",
    "plt.figure(figsize=(12, 4))\n",
    "\n",
    "ax1 = plt.subplot(131)\n",
    "plt.grid()\n",
    "plt.plot(linear, 'b-')\n",
    "\n",
    "ax2 = plt.subplot(132, sharex=ax1, sharey=ax1)\n",
    "plt.grid()\n",
    "plt.plot(nonlinear, 'g-')\n",
    "\n",
    "ax3 = plt.subplot(133, sharex=ax1, sharey=ax1)\n",
    "plt.grid()\n",
    "plt.plot(nonlinear, 'g-')"
   ]
  },
  {
   "cell_type": "markdown",
   "metadata": {},
   "source": [
    "## Если дороги ваши нервы, то дальше лучше не смотреть "
   ]
  },
  {
   "cell_type": "markdown",
   "metadata": {},
   "source": [
    "### Линейная модель "
   ]
  },
  {
   "cell_type": "code",
   "execution_count": 23,
   "metadata": {},
   "outputs": [],
   "source": [
    "y_train, y_test, X_train, X_test  = train_test_split(train_real.drop([ 'epoch', 'sat_id'], axis=1), \n",
    "                                                    train_sim.drop([ 'epoch', 'sat_id'], axis=1),\n",
    "                                                    train_size=0.7, test_size=0.3, random_state=1, shuffle=True)"
   ]
  },
  {
   "cell_type": "markdown",
   "metadata": {},
   "source": [
    "переставлены y, Х, чтобы в у были реальные значения"
   ]
  },
  {
   "cell_type": "code",
   "execution_count": 24,
   "metadata": {},
   "outputs": [
    {
     "name": "stdout",
     "output_type": "stream",
     "text": [
      "(454938, 7)\n",
      "(454938, 12)\n",
      "(194974, 7)\n",
      "(194974, 12)\n"
     ]
    }
   ],
   "source": [
    "print(X_train.shape)\n",
    "print(y_train.shape)\n",
    "print(X_test.shape)\n",
    "print(y_test.shape)"
   ]
  },
  {
   "cell_type": "code",
   "execution_count": 23,
   "metadata": {},
   "outputs": [
    {
     "name": "stdout",
     "output_type": "stream",
     "text": [
      "MAE pred train: 3365.99976533023\n",
      "MAE pred: 3332.031462084599\n",
      "MAE sim: 3089.196364769518\n"
     ]
    }
   ],
   "source": [
    "model_lin = LinearRegression()\n",
    "\n",
    "model_lin.fit(np.array(X_train.loc[:,'x_sim']).reshape(-1, 1), np.array(y_train.loc[:,'x']))\n",
    "\n",
    "pred_lin_train =  model_lin.predict(np.array(X_train.loc[:,'x_sim']).reshape(-1, 1))\n",
    "pred_lin = model_lin.predict(np.array(X_test.loc[:,'x_sim']).reshape(-1, 1))\n",
    "\n",
    "print('MAE pred train:', mean_absolute_error(np.array(y_train.loc[:,'x']), pred_lin_train))\n",
    "print('MAE pred:', mean_absolute_error(np.array(y_test.loc[:,'x']), pred_lin))\n",
    "print('MAE sim:', mean_absolute_error(np.array(y_test.loc[:,'x']), np.array(X_test.loc[:,'x_sim']).reshape(-1, 1)))"
   ]
  },
  {
   "cell_type": "markdown",
   "metadata": {},
   "source": [
    "Вышло хуже симуляции, попробуем по-фану докинуть координаты другие и спиды :))) по осям"
   ]
  },
  {
   "cell_type": "code",
   "execution_count": 27,
   "metadata": {},
   "outputs": [
    {
     "name": "stdout",
     "output_type": "stream",
     "text": [
      "MAE pred: 3389.831680769296\n",
      "MAE sim: 3089.196364769518\n"
     ]
    }
   ],
   "source": [
    "model_lin = LinearRegression()\n",
    "\n",
    "model_lin.fit(X_train.loc[:,['x_sim','Vx_sim']], np.array(y_train.loc[:,'x']))\n",
    "pred_lin = model_lin.predict(X_test.loc[:,['x_sim','Vx_sim']])\n",
    "\n",
    "print('MAE pred:', mean_absolute_error(np.array(y_test.loc[:,'x']), pred_lin))\n",
    "print('MAE sim:', mean_absolute_error(np.array(y_test.loc[:,'x']), np.array(X_test.loc[:,'x_sim']).reshape(-1, 1)))"
   ]
  },
  {
   "cell_type": "markdown",
   "metadata": {},
   "source": [
    "Еще хуже"
   ]
  },
  {
   "cell_type": "markdown",
   "metadata": {},
   "source": [
    "Соберем сабамит из линейных моделей, чтобы сравнить с sample submission"
   ]
  },
  {
   "cell_type": "code",
   "execution_count": 60,
   "metadata": {},
   "outputs": [],
   "source": [
    "# train_real = train_real.drop([ 'epoch', 'sat_id'], axis=1) \n",
    "# train_sim = train_sim.drop([ 'epoch', 'sat_id'], axis=1)"
   ]
  },
  {
   "cell_type": "code",
   "execution_count": 61,
   "metadata": {},
   "outputs": [],
   "source": [
    "# model_lin = LinearRegression()\n",
    "\n",
    "# model_lin.fit(np.array(train_sim.loc[:, 'x_sim']).reshape(-1, 1), np.array(train_real.loc[:, 'x']))\n",
    "# pred_x = model_lin.predict(np.array(test.loc[:, 'x_sim']).reshape(-1, 1))               "
   ]
  },
  {
   "cell_type": "code",
   "execution_count": 62,
   "metadata": {},
   "outputs": [],
   "source": [
    "# model_lin.fit(np.array(train_sim.loc[:, 'y_sim']).reshape(-1, 1), np.array(train_real.loc[:, 'y']))\n",
    "# pred_y = model_lin.predict(np.array(test.loc[:, 'y_sim']).reshape(-1, 1))     "
   ]
  },
  {
   "cell_type": "code",
   "execution_count": 63,
   "metadata": {},
   "outputs": [],
   "source": [
    "# model_lin.fit(np.array(train_sim.loc[:, 'z_sim']).reshape(-1, 1), np.array(train_real.loc[:, 'z']))\n",
    "# pred_z = model_lin.predict(np.array(test.loc[:, 'z_sim']).reshape(-1, 1))    "
   ]
  },
  {
   "cell_type": "code",
   "execution_count": 64,
   "metadata": {},
   "outputs": [],
   "source": [
    "# model_lin.fit(np.array(train_sim.loc[:, 'Vx_sim']).reshape(-1, 1), np.array(train_real.loc[:, 'Vx']))\n",
    "# pred_Vx = model_lin.predict(np.array(test.loc[:, 'Vx_sim']).reshape(-1, 1))    "
   ]
  },
  {
   "cell_type": "code",
   "execution_count": 65,
   "metadata": {},
   "outputs": [],
   "source": [
    "# model_lin.fit(np.array(train_sim.loc[:, 'Vy_sim']).reshape(-1, 1), np.array(train_real.loc[:, 'Vy']))\n",
    "# pred_Vy = model_lin.predict(np.array(test.loc[:, 'Vy_sim']).reshape(-1, 1))     "
   ]
  },
  {
   "cell_type": "code",
   "execution_count": 66,
   "metadata": {},
   "outputs": [],
   "source": [
    "# model_lin.fit(np.array(train_sim.loc[:, 'Vz_sim']).reshape(-1, 1), np.array(train_real.loc[:, 'Vz']))\n",
    "# pred_Vz = model_lin.predict(np.array(test.loc[:, 'Vz_sim']).reshape(-1, 1))    "
   ]
  },
  {
   "cell_type": "code",
   "execution_count": 67,
   "metadata": {},
   "outputs": [],
   "source": [
    "# submission_linear = pd.DataFrame({'id':test.loc[:,'id'], 'x':pred_x, 'y':pred_y, 'z':pred_z, 'Vx':pred_Vx, 'Vy':pred_Vy, 'Vz':pred_Vz})"
   ]
  },
  {
   "cell_type": "code",
   "execution_count": 68,
   "metadata": {},
   "outputs": [],
   "source": [
    "# submission_linear.to_csv(r'D:\\Загрузки\\IDAO 2020\\Track 1\\submission_linear.csv', index=False)"
   ]
  },
  {
   "cell_type": "markdown",
   "metadata": {},
   "source": [
    "Score :65.1 (baseline: 66.24)"
   ]
  },
  {
   "cell_type": "code",
   "execution_count": 109,
   "metadata": {},
   "outputs": [],
   "source": [
    "model_lin.fit(train.loc[:,['x_sim', 'passed_seconds', 'Vx_sim_gain']], train.loc[:,'x'])\n",
    "pred_x = model_lin.predict(test.loc[:,['x_sim', 'passed_seconds', 'Vx_sim_gain']])"
   ]
  },
  {
   "cell_type": "code",
   "execution_count": 110,
   "metadata": {},
   "outputs": [],
   "source": [
    "model_lin.fit(train.loc[:,['y_sim', 'passed_seconds', 'Vy_sim_gain']], train.loc[:,'y'])\n",
    "pred_y = model_lin.predict(test.loc[:,['y_sim', 'passed_seconds', 'Vy_sim_gain']])"
   ]
  },
  {
   "cell_type": "code",
   "execution_count": 111,
   "metadata": {},
   "outputs": [],
   "source": [
    "model_lin.fit(train.loc[:,['z_sim', 'passed_seconds', 'Vz_sim_gain']], train.loc[:,'z'])\n",
    "pred_z = model_lin.predict(test.loc[:,['z_sim', 'passed_seconds', 'Vz_sim_gain']])"
   ]
  },
  {
   "cell_type": "code",
   "execution_count": 112,
   "metadata": {},
   "outputs": [],
   "source": [
    "model_lin.fit(train.loc[:,['Vx_sim', 'passed_seconds', 'Vx_sim_gain']], train.loc[:,'Vx'])\n",
    "pred_Vx = model_lin.predict(test.loc[:,['Vx_sim', 'passed_seconds', 'Vx_sim_gain']])"
   ]
  },
  {
   "cell_type": "code",
   "execution_count": 113,
   "metadata": {},
   "outputs": [],
   "source": [
    "model_lin.fit(train.loc[:,['Vy_sim', 'passed_seconds', 'Vy_sim_gain']], train.loc[:,'Vy'])\n",
    "pred_Vy = model_lin.predict(test.loc[:,['Vy_sim', 'passed_seconds', 'Vy_sim_gain']])"
   ]
  },
  {
   "cell_type": "code",
   "execution_count": 114,
   "metadata": {},
   "outputs": [],
   "source": [
    "model_lin.fit(train.loc[:,['Vz_sim', 'passed_seconds', 'Vz_sim_gain']], train.loc[:,'Vz'])\n",
    "pred_Vz = model_lin.predict(test.loc[:,['Vz_sim', 'passed_seconds', 'Vz_sim_gain']])"
   ]
  },
  {
   "cell_type": "code",
   "execution_count": 115,
   "metadata": {},
   "outputs": [],
   "source": [
    "submission_linear = pd.DataFrame({'id':test.loc[:,'id'], 'x':pred_x, 'y':pred_y, 'z':pred_z, 'Vx':pred_Vx, 'Vy':pred_Vy, 'Vz':pred_Vz})"
   ]
  },
  {
   "cell_type": "code",
   "execution_count": 116,
   "metadata": {},
   "outputs": [],
   "source": [
    "submission_linear.to_csv(r'D:\\Загрузки\\IDAO 2020\\Track 1\\submission_linear_shuffle_by_id.csv', index=False)"
   ]
  },
  {
   "cell_type": "markdown",
   "metadata": {},
   "source": [
    "Score :65.1 (baseline: 66.24)"
   ]
  },
  {
   "cell_type": "markdown",
   "metadata": {},
   "source": [
    "### XGBRegression "
   ]
  },
  {
   "cell_type": "code",
   "execution_count": 73,
   "metadata": {},
   "outputs": [],
   "source": [
    "# model = xgb.XGBRegressor(booster='gblinear',\n",
    "#                  colsample_bytree=0.4,\n",
    "#                  gamma=0,                 \n",
    "#                  learning_rate=0.07,\n",
    "#                  max_depth=3,\n",
    "#                  n_estimators=10000,                                                                    \n",
    "#                  reg_alpha=0.75,\n",
    "#                  reg_lambda=0.45,\n",
    "#                  seed=1)"
   ]
  },
  {
   "cell_type": "code",
   "execution_count": 79,
   "metadata": {},
   "outputs": [
    {
     "name": "stdout",
     "output_type": "stream",
     "text": [
      "[18:10:21] WARNING: C:/Jenkins/workspace/xgboost-win64_release_0.90/src/objective/regression_obj.cu:152: reg:linear is now deprecated in favor of reg:squarederror.\n",
      "MAE pred train: 3366.2250638530472\n",
      "MAE pred: 3332.2582908570134\n",
      "MAE sim: 3089.196364769518\n"
     ]
    }
   ],
   "source": [
    "model = xgb.XGBRegressor(booster='gblinear')\n",
    "\n",
    "model.fit(np.array(X_train.loc[:,'x_sim']).reshape(-1, 1), np.array(y_train.loc[:,'x']))\n",
    "\n",
    "pred_xgb = model.predict(np.array(X_test.loc[:,'x_sim']).reshape(-1, 1))\n",
    "pred_xgb_train = model.predict(np.array(X_train.loc[:,'x_sim']).reshape(-1, 1))\n",
    "\n",
    "print('MAE pred train:', mean_absolute_error(np.array(y_train.loc[:,'x']), pred_xgb_train))\n",
    "print('MAE pred:', mean_absolute_error(np.array(y_test.loc[:,'x']), pred_xgb))\n",
    "print('MAE sim:', mean_absolute_error(np.array(y_test.loc[:,'x']), np.array(X_test.loc[:,'x_sim']).reshape(-1, 1)))"
   ]
  },
  {
   "cell_type": "markdown",
   "metadata": {},
   "source": [
    "Почти то же самое, что и LinearRegression"
   ]
  },
  {
   "cell_type": "markdown",
   "metadata": {},
   "source": [
    "#### Попробуем теперь линейную модель"
   ]
  },
  {
   "cell_type": "code",
   "execution_count": 16,
   "metadata": {},
   "outputs": [
    {
     "name": "stdout",
     "output_type": "stream",
     "text": [
      "(454938, 7)\n",
      "(454938, 6)\n",
      "(194974, 7)\n",
      "(194974, 6)\n"
     ]
    }
   ],
   "source": [
    "y_train, y_test, X_train, X_test  = train_test_split(train.loc[:,['x','y','z','Vx','Vy','Vz']], \n",
    "                                                    train.loc[:,['x_sim','y_sim','z_sim','Vx_sim','Vy_sim','Vz_sim','passed_seconds']],\n",
    "                                                    train_size=0.7, test_size=0.3, random_state=1, shuffle=True)\n",
    "\n",
    "print(X_train.shape)\n",
    "print(y_train.shape)\n",
    "print(X_test.shape)\n",
    "print(y_test.shape)"
   ]
  },
  {
   "cell_type": "code",
   "execution_count": 17,
   "metadata": {},
   "outputs": [
    {
     "data": {
      "text/html": [
       "<div>\n",
       "<style scoped>\n",
       "    .dataframe tbody tr th:only-of-type {\n",
       "        vertical-align: middle;\n",
       "    }\n",
       "\n",
       "    .dataframe tbody tr th {\n",
       "        vertical-align: top;\n",
       "    }\n",
       "\n",
       "    .dataframe thead th {\n",
       "        text-align: right;\n",
       "    }\n",
       "</style>\n",
       "<table border=\"1\" class=\"dataframe\">\n",
       "  <thead>\n",
       "    <tr style=\"text-align: right;\">\n",
       "      <th></th>\n",
       "      <th>id</th>\n",
       "      <th>epoch</th>\n",
       "      <th>sat_id</th>\n",
       "      <th>x</th>\n",
       "      <th>y</th>\n",
       "      <th>z</th>\n",
       "      <th>Vx</th>\n",
       "      <th>Vy</th>\n",
       "      <th>Vz</th>\n",
       "      <th>x_sim</th>\n",
       "      <th>y_sim</th>\n",
       "      <th>z_sim</th>\n",
       "      <th>Vx_sim</th>\n",
       "      <th>Vy_sim</th>\n",
       "      <th>Vz_sim</th>\n",
       "      <th>day</th>\n",
       "      <th>hour</th>\n",
       "      <th>minute</th>\n",
       "      <th>second</th>\n",
       "      <th>passed_seconds</th>\n",
       "    </tr>\n",
       "  </thead>\n",
       "  <tbody>\n",
       "    <tr>\n",
       "      <th>0</th>\n",
       "      <td>0</td>\n",
       "      <td>2014-01-01T00:00:00.000</td>\n",
       "      <td>0</td>\n",
       "      <td>-8855.823863</td>\n",
       "      <td>13117.780146</td>\n",
       "      <td>-20728.353233</td>\n",
       "      <td>-0.908303</td>\n",
       "      <td>-3.808436</td>\n",
       "      <td>-2.022083</td>\n",
       "      <td>-8843.131454</td>\n",
       "      <td>13138.22169</td>\n",
       "      <td>-20741.615306</td>\n",
       "      <td>-0.907527</td>\n",
       "      <td>-3.80493</td>\n",
       "      <td>-2.024133</td>\n",
       "      <td>0</td>\n",
       "      <td>0</td>\n",
       "      <td>0</td>\n",
       "      <td>0</td>\n",
       "      <td>0</td>\n",
       "    </tr>\n",
       "  </tbody>\n",
       "</table>\n",
       "</div>"
      ],
      "text/plain": [
       "   id                    epoch  sat_id            x             y  \\\n",
       "0   0  2014-01-01T00:00:00.000       0 -8855.823863  13117.780146   \n",
       "\n",
       "              z        Vx        Vy        Vz        x_sim        y_sim  \\\n",
       "0 -20728.353233 -0.908303 -3.808436 -2.022083 -8843.131454  13138.22169   \n",
       "\n",
       "          z_sim    Vx_sim   Vy_sim    Vz_sim  day  hour  minute  second  \\\n",
       "0 -20741.615306 -0.907527 -3.80493 -2.024133    0     0       0       0   \n",
       "\n",
       "   passed_seconds  \n",
       "0               0  "
      ]
     },
     "execution_count": 17,
     "metadata": {},
     "output_type": "execute_result"
    }
   ],
   "source": [
    "train.head(1)"
   ]
  },
  {
   "cell_type": "code",
   "execution_count": 18,
   "metadata": {},
   "outputs": [
    {
     "name": "stdout",
     "output_type": "stream",
     "text": [
      "MAE pred train: 3365.7655160420095\n",
      "MAE pred: 3331.52467359851\n",
      "MAE sim: 3089.196364769518\n"
     ]
    }
   ],
   "source": [
    "model_lin = LinearRegression()\n",
    "\n",
    "model_lin.fit(X_train.loc[:,['x_sim', 'passed_seconds']], y_train.loc[:,'x'])\n",
    "\n",
    "pred_lin_train =  model_lin.predict(X_train.loc[:,['x_sim', 'passed_seconds']])\n",
    "pred_lin = model_lin.predict(X_test.loc[:,['x_sim', 'passed_seconds']])\n",
    "\n",
    "print('MAE pred train:', mean_absolute_error(np.array(y_train.loc[:,'x']), pred_lin_train))\n",
    "print('MAE pred:', mean_absolute_error(np.array(y_test.loc[:,'x']), pred_lin))\n",
    "print('MAE sim:', mean_absolute_error(np.array(y_test.loc[:,'x']), np.array(X_test.loc[:,'x_sim'])))"
   ]
  },
  {
   "cell_type": "markdown",
   "metadata": {},
   "source": [
    "ШтоШ, ничто не маешает затестить и свой монструозный ГБ"
   ]
  },
  {
   "cell_type": "code",
   "execution_count": 19,
   "metadata": {},
   "outputs": [
    {
     "name": "stdout",
     "output_type": "stream",
     "text": [
      "MAE pred train: 3330.1349003570654\n",
      "MAE pred: 3374.185611458891\n",
      "MAE sim: 3089.196364769518\n"
     ]
    }
   ],
   "source": [
    "model_lin = GradientBoostingRegressor(learning_rate=0.3, n_estimators=500)\n",
    "\n",
    "model_lin.fit(X_train.loc[:,['x_sim', 'passed_seconds']], y_train.loc[:,'x'])\n",
    "\n",
    "pred_lin_train =  model_lin.predict(X_train.loc[:,['x_sim', 'passed_seconds']])\n",
    "pred_lin = model_lin.predict(X_test.loc[:,['x_sim', 'passed_seconds']])\n",
    "\n",
    "print('MAE pred train:', mean_absolute_error(np.array(y_train.loc[:,'x']), pred_lin_train))\n",
    "print('MAE pred:', mean_absolute_error(np.array(y_test.loc[:,'x']), pred_lin))\n",
    "print('MAE sim:', mean_absolute_error(np.array(y_test.loc[:,'x']), np.array(X_test.loc[:,'x_sim'])))"
   ]
  },
  {
   "cell_type": "markdown",
   "metadata": {},
   "source": [
    "Ничего не изменилось"
   ]
  },
  {
   "cell_type": "markdown",
   "metadata": {},
   "source": [
    "Опять посмотрим на результат"
   ]
  },
  {
   "cell_type": "code",
   "execution_count": 42,
   "metadata": {},
   "outputs": [
    {
     "data": {
      "text/plain": [
       "Index(['id', 'epoch', 'sat_id', 'x', 'y', 'z', 'Vx', 'Vy', 'Vz', 'x_sim',\n",
       "       'y_sim', 'z_sim', 'Vx_sim', 'Vy_sim', 'Vz_sim', 'day', 'hour', 'minute',\n",
       "       'second', 'passed_seconds', 'path', 'path_sim', 'V', 'V_sim', 'Vx_gain',\n",
       "       'Vy_gain', 'Vz_gain', 'Vx_sim_gain', 'Vy_sim_gain', 'Vz_sim_gain'],\n",
       "      dtype='object')"
      ]
     },
     "execution_count": 42,
     "metadata": {},
     "output_type": "execute_result"
    }
   ],
   "source": [
    "train.columns"
   ]
  },
  {
   "cell_type": "code",
   "execution_count": 43,
   "metadata": {},
   "outputs": [
    {
     "name": "stdout",
     "output_type": "stream",
     "text": [
      "(454938, 10)\n",
      "(454938, 9)\n",
      "(194974, 10)\n",
      "(194974, 9)\n",
      "MAE pred train: 3365.7952404783846\n",
      "MAE pred: 3331.537047490868\n",
      "MAE sim: 3089.196364769518\n"
     ]
    }
   ],
   "source": [
    "y_train, y_test, X_train, X_test  = train_test_split(train.loc[:,['x','y','z','Vx','Vy','Vz', 'Vx_gain', 'Vy_gain', 'Vz_gain']], \n",
    "                                                    train.loc[:,['x_sim','y_sim','z_sim','Vx_sim','Vy_sim','Vz_sim','passed_seconds', 'Vx_sim_gain', 'Vy_sim_gain', 'Vz_sim_gain']],\n",
    "                                                    train_size=0.7, test_size=0.3, random_state=1, shuffle=True)\n",
    "\n",
    "print(X_train.shape)\n",
    "print(y_train.shape)\n",
    "print(X_test.shape)\n",
    "print(y_test.shape)\n",
    "\n",
    "model_lin = LinearRegression()\n",
    "\n",
    "model_lin.fit(X_train.loc[:,['x_sim', 'passed_seconds', 'Vx_sim_gain']], y_train.loc[:,'x'])\n",
    "\n",
    "pred_lin_train =  model_lin.predict(X_train.loc[:,['x_sim', 'passed_seconds', 'Vx_sim_gain']])\n",
    "pred_lin = model_lin.predict(X_test.loc[:,['x_sim', 'passed_seconds', 'Vx_sim_gain']])\n",
    "\n",
    "print('MAE pred train:', mean_absolute_error(np.array(y_train.loc[:,'x']), pred_lin_train))\n",
    "print('MAE pred:', mean_absolute_error(np.array(y_test.loc[:,'x']), pred_lin))\n",
    "print('MAE sim:', mean_absolute_error(np.array(y_test.loc[:,'x']), np.array(X_test.loc[:,'x_sim'])))"
   ]
  },
  {
   "cell_type": "markdown",
   "metadata": {},
   "source": [
    "Попробуем разбить без шаффла на отдельные спутники"
   ]
  },
  {
   "cell_type": "code",
   "execution_count": 90,
   "metadata": {},
   "outputs": [
    {
     "name": "stdout",
     "output_type": "stream",
     "text": [
      "(541958, 10)\n",
      "(541958, 6)\n",
      "(107954, 10)\n",
      "(107954, 6)\n",
      "MAE pred train: 3274.6376721943166\n",
      "MAE pred: 3568.3772117428703\n",
      "MAE sim: 3359.827842431769\n"
     ]
    }
   ],
   "source": [
    "ids = np.arange(0,600,1)\n",
    "np.random.seed(1)\n",
    "np.random.shuffle(ids)\n",
    "train_ids, test_ids = ids[:500], ids[500:601]\n",
    "\n",
    "y_train = train[train.loc[:,'sat_id'].isin(train_ids)].loc[:,['x','y','z','Vx','Vy','Vz']]\n",
    "y_test =  train[train.loc[:,'sat_id'].isin(test_ids)].loc[:,['x','y','z','Vx','Vy','Vz']] \n",
    "X_train = train[train.loc[:,'sat_id'].isin(train_ids)].loc[:,['x_sim','y_sim','z_sim','Vx_sim','Vy_sim','Vz_sim','passed_seconds', 'Vx_sim_gain', 'Vy_sim_gain', 'Vz_sim_gain']]\n",
    "X_test =  train[train.loc[:,'sat_id'].isin(test_ids)].loc[:,['x_sim','y_sim','z_sim','Vx_sim','Vy_sim','Vz_sim','passed_seconds', 'Vx_sim_gain', 'Vy_sim_gain', 'Vz_sim_gain']]\n",
    "\n",
    "print(X_train.shape)\n",
    "print(y_train.shape)\n",
    "print(X_test.shape)\n",
    "print(y_test.shape)\n",
    "\n",
    "model_lin = LinearRegression()\n",
    "\n",
    "model_lin.fit(X_train.loc[:,['x_sim', 'passed_seconds', 'Vx_sim_gain']], y_train.loc[:,'x'])\n",
    "\n",
    "pred_lin_train =  model_lin.predict(X_train.loc[:,['x_sim', 'passed_seconds', 'Vx_sim_gain']])\n",
    "pred_lin = model_lin.predict(X_test.loc[:,['x_sim', 'passed_seconds', 'Vx_sim_gain']])\n",
    "\n",
    "print('MAE pred train:', mean_absolute_error(np.array(y_train.loc[:,'x']), pred_lin_train))\n",
    "print('MAE pred:', mean_absolute_error(np.array(y_test.loc[:,'x']), pred_lin))\n",
    "print('MAE sim:', mean_absolute_error(np.array(y_test.loc[:,'x']), np.array(X_test.loc[:,'x_sim'])))"
   ]
  },
  {
   "cell_type": "markdown",
   "metadata": {},
   "source": [
    "СВМ SVR - плохой результат"
   ]
  },
  {
   "cell_type": "raw",
   "metadata": {},
   "source": [
    "kernel='linear', gamma='scale', verbose=True, max_iter=1000 ====== MAE pred train: 2.07931299757 MAE pred: 2.1285226667981485\n",
    "kernel='poly', gamma='scale', verbose=True, max_iter=1000   ====== MAE pred train: 0.56712471288 MAE pred: 0.5796929359400004\n",
    "kernel='rbf', gamma='scale', verbose=True, max_iter=1000    ====== MAE pred train: 1.34270712374 MAE pred: 1.40553742763163\n",
    "kernel='sigmoid', gamma='scale',verbose=True, max_iter=1000 ====== MAE pred train: 336.023112980 MAE pred: 335.18275627885834"
   ]
  },
  {
   "cell_type": "code",
   "execution_count": 66,
   "metadata": {},
   "outputs": [
    {
     "name": "stdout",
     "output_type": "stream",
     "text": [
      "(541958, 10)\n",
      "(541958, 6)\n",
      "(107954, 10)\n",
      "(107954, 6)\n",
      "MAE pred train: 0.12067941721025789\n",
      "MAE pred: 0.13234090403423662\n",
      "MAE sim: 0.1330100814888459\n"
     ]
    },
    {
     "name": "stderr",
     "output_type": "stream",
     "text": [
      "C:\\Program Files (x86)\\Microsoft Visual Studio\\Shared\\Anaconda3_64\\lib\\site-packages\\sklearn\\svm\\base.py:929: ConvergenceWarning: Liblinear failed to converge, increase the number of iterations.\n",
      "  \"the number of iterations.\", ConvergenceWarning)\n"
     ]
    }
   ],
   "source": [
    "scaler = preprocessing.StandardScaler()\n",
    "train_tmp = train.drop(['id', 'epoch', 'sat_id'], axis=1)\n",
    "test_tmp = test.drop(['id', 'epoch', 'sat_id'], axis=1)\n",
    "train_tmp = pd.DataFrame(scaler.fit_transform(train_tmp), columns = train_tmp.columns)\n",
    "test_tmp = pd.DataFrame(scaler.fit_transform(test_tmp),  columns = test_tmp.columns)\n",
    "\n",
    "train_tmp = pd.concat([train.loc[:,'sat_id'], train_tmp], axis=1)\n",
    "test_tmp =  pd.concat([test.loc[:,'sat_id'], test_tmp], axis=1)\n",
    "\n",
    "ids = np.arange(0,600,1)\n",
    "np.random.seed(1)\n",
    "np.random.shuffle(ids)\n",
    "train_ids, test_ids = ids[:500], ids[500:601]\n",
    "\n",
    "y_train = train_tmp[train_tmp.loc[:,'sat_id'].isin(train_ids)].loc[:,['x','y','z','Vx','Vy','Vz']]\n",
    "y_test =  train_tmp[train_tmp.loc[:,'sat_id'].isin(test_ids)].loc[:,['x','y','z','Vx','Vy','Vz']] \n",
    "X_train = train_tmp[train_tmp.loc[:,'sat_id'].isin(train_ids)].loc[:,['x_sim','y_sim','z_sim','Vx_sim','Vy_sim','Vz_sim','passed_seconds', 'Vx_sim_gain', 'Vy_sim_gain', 'Vz_sim_gain']]\n",
    "X_test =  train_tmp[train_tmp.loc[:,'sat_id'].isin(test_ids)].loc[:,['x_sim','y_sim','z_sim','Vx_sim','Vy_sim','Vz_sim','passed_seconds', 'Vx_sim_gain', 'Vy_sim_gain', 'Vz_sim_gain']]\n",
    "\n",
    "print(X_train.shape)\n",
    "print(y_train.shape)\n",
    "print(X_test.shape)\n",
    "print(y_test.shape)\n",
    "\n",
    "model_lin = LinearSVR(random_state=1, max_iter=2000)\n",
    "\n",
    "model_lin.fit(X_train.loc[:,['x_sim', 'passed_seconds', 'Vx_sim_gain']], y_train.loc[:,'x'])\n",
    "\n",
    "pred_lin_train =  model_lin.predict(X_train.loc[:,['x_sim', 'passed_seconds', 'Vx_sim_gain']])\n",
    "pred_lin = model_lin.predict(X_test.loc[:,['x_sim', 'passed_seconds', 'Vx_sim_gain']])\n",
    "\n",
    "print('MAE pred train:', mean_absolute_error(np.array(y_train.loc[:,'x']), pred_lin_train))\n",
    "print('MAE pred:', mean_absolute_error(np.array(y_test.loc[:,'x']), pred_lin))\n",
    "print('MAE sim:', mean_absolute_error(np.array(y_test.loc[:,'x']), np.array(X_test.loc[:,'x_sim'])))"
   ]
  },
  {
   "cell_type": "code",
   "execution_count": 64,
   "metadata": {},
   "outputs": [
    {
     "data": {
      "text/plain": [
       "8996      24439.156915\n",
       "8997      36903.361280\n",
       "8998      25330.707700\n",
       "8999       7902.859437\n",
       "9000     -10461.647376\n",
       "              ...     \n",
       "645009    -3321.024652\n",
       "645010   -10325.340908\n",
       "645011   -16807.962442\n",
       "645012   -22523.061314\n",
       "645013   -27288.711363\n",
       "Name: x, Length: 107954, dtype: float64"
      ]
     },
     "execution_count": 64,
     "metadata": {},
     "output_type": "execute_result"
    }
   ],
   "source": [
    "train[train.loc[:,'sat_id'].isin(test_ids)].loc[:,'x']"
   ]
  },
  {
   "cell_type": "code",
   "execution_count": 72,
   "metadata": {},
   "outputs": [
    {
     "data": {
      "text/plain": [
       "array([[ 0.97525236],\n",
       "       [ 1.46021104],\n",
       "       [ 1.00994092],\n",
       "       ...,\n",
       "       [-0.62959526],\n",
       "       [-0.85195897],\n",
       "       [-1.03738143]])"
      ]
     },
     "execution_count": 72,
     "metadata": {},
     "output_type": "execute_result"
    }
   ],
   "source": [
    "scaler.fit_transform(np.array(train[train.loc[:,'sat_id'].isin(test_ids)].loc[:,'x']).reshape(-1, 1))"
   ]
  },
  {
   "cell_type": "code",
   "execution_count": 80,
   "metadata": {},
   "outputs": [
    {
     "data": {
      "text/plain": [
       "array([ 1.10527158,  1.47338138,  0.99192614,  0.30860355, -0.40581497])"
      ]
     },
     "execution_count": 80,
     "metadata": {},
     "output_type": "execute_result"
    }
   ],
   "source": [
    "pred_lin[:5]"
   ]
  },
  {
   "cell_type": "code",
   "execution_count": 83,
   "metadata": {},
   "outputs": [
    {
     "data": {
      "text/plain": [
       "array([ 27780.85638319,  37241.85978655,  24867.69947107,   7305.22920038,\n",
       "       -11056.45547719])"
      ]
     },
     "execution_count": 83,
     "metadata": {},
     "output_type": "execute_result"
    }
   ],
   "source": [
    "pred_lin_unscaled = scaler.inverse_transform(pred_lin)\n",
    "pred_lin_unscaled[:5]"
   ]
  },
  {
   "cell_type": "code",
   "execution_count": 91,
   "metadata": {},
   "outputs": [
    {
     "data": {
      "text/plain": [
       "0         27780.856383\n",
       "1         37241.859787\n",
       "2         24867.699471\n",
       "3          7305.229200\n",
       "4        -11056.455477\n",
       "              ...     \n",
       "107949    -1970.782980\n",
       "107950    -9101.505301\n",
       "107951   -15752.932606\n",
       "107952   -21665.722426\n",
       "107953   -26649.566613\n",
       "Length: 107954, dtype: float64"
      ]
     },
     "execution_count": 91,
     "metadata": {},
     "output_type": "execute_result"
    }
   ],
   "source": [
    "pd.Series(pred_lin_unscaled)"
   ]
  },
  {
   "cell_type": "code",
   "execution_count": 88,
   "metadata": {},
   "outputs": [
    {
     "name": "stdout",
     "output_type": "stream",
     "text": [
      "MAE pred: 3433.9626889392957\n",
      "MAE pred: 3359.827842431769\n"
     ]
    }
   ],
   "source": [
    "print('MAE pred:', mean_absolute_error(np.array(train[train.loc[:,'sat_id'].isin(test_ids)].loc[:,'x']), pred_lin_unscaled))\n",
    "print('MAE pred:', mean_absolute_error(np.array(train[train.loc[:,'sat_id'].isin(test_ids)].loc[:,'x']), np.array(train[train.loc[:,'sat_id'].isin(test_ids)].loc[:,'x_sim'])))"
   ]
  },
  {
   "cell_type": "code",
   "execution_count": 89,
   "metadata": {},
   "outputs": [
    {
     "name": "stdout",
     "output_type": "stream",
     "text": [
      "MAE pred: 3113.873308007775\n"
     ]
    }
   ],
   "source": [
    "print('MAE pred:', mean_absolute_error(np.array(train.loc[:,'x']), np.array(train.loc[:,'x_sim'])))"
   ]
  },
  {
   "cell_type": "code",
   "execution_count": 95,
   "metadata": {},
   "outputs": [
    {
     "data": {
      "text/plain": [
       "8996      24439.156915\n",
       "8997      36903.361280\n",
       "8998      25330.707700\n",
       "8999       7902.859437\n",
       "9000     -10461.647376\n",
       "              ...     \n",
       "645009    -3321.024652\n",
       "645010   -10325.340908\n",
       "645011   -16807.962442\n",
       "645012   -22523.061314\n",
       "645013   -27288.711363\n",
       "Name: x, Length: 107954, dtype: float64"
      ]
     },
     "execution_count": 95,
     "metadata": {},
     "output_type": "execute_result"
    }
   ],
   "source": [
    "train[train.loc[:,'sat_id'].isin(test_ids)].loc[:,'x']"
   ]
  },
  {
   "cell_type": "code",
   "execution_count": 96,
   "metadata": {},
   "outputs": [
    {
     "data": {
      "text/plain": [
       "8996      27274.647776\n",
       "8997      36625.418859\n",
       "8998      24388.765323\n",
       "8999       7017.252693\n",
       "9000     -11147.186870\n",
       "              ...     \n",
       "645009    -2097.226576\n",
       "645010    -9154.093490\n",
       "645011   -15741.136438\n",
       "645012   -21600.522604\n",
       "645013   -26542.296616\n",
       "Name: x_sim, Length: 107954, dtype: float64"
      ]
     },
     "execution_count": 96,
     "metadata": {},
     "output_type": "execute_result"
    }
   ],
   "source": [
    "train[train.loc[:,'sat_id'].isin(test_ids)].loc[:,'x_sim']"
   ]
  },
  {
   "cell_type": "code",
   "execution_count": 94,
   "metadata": {},
   "outputs": [
    {
     "data": {
      "text/plain": [
       "0         27780.856383\n",
       "1         37241.859787\n",
       "2         24867.699471\n",
       "3          7305.229200\n",
       "4        -11056.455477\n",
       "              ...     \n",
       "107949    -1970.782980\n",
       "107950    -9101.505301\n",
       "107951   -15752.932606\n",
       "107952   -21665.722426\n",
       "107953   -26649.566613\n",
       "Length: 107954, dtype: float64"
      ]
     },
     "execution_count": 94,
     "metadata": {},
     "output_type": "execute_result"
    }
   ],
   "source": [
    "pd.Series(pred_lin_unscaled)"
   ]
  },
  {
   "cell_type": "code",
   "execution_count": 97,
   "metadata": {},
   "outputs": [
    {
     "data": {
      "text/plain": [
       "362706854.9018792"
      ]
     },
     "execution_count": 97,
     "metadata": {},
     "output_type": "execute_result"
    }
   ],
   "source": [
    "np.sum(np.abs(train[train.loc[:,'sat_id'].isin(test_ids)].loc[:,'x'] - train[train.loc[:,'sat_id'].isin(test_ids)].loc[:,'x_sim']))"
   ]
  },
  {
   "cell_type": "code",
   "execution_count": 98,
   "metadata": {},
   "outputs": [
    {
     "data": {
      "text/plain": [
       "343276926.0496332"
      ]
     },
     "execution_count": 98,
     "metadata": {},
     "output_type": "execute_result"
    }
   ],
   "source": [
    "np.sum(np.abs(train[train.loc[:,'sat_id'].isin(test_ids)].loc[:,'x'] - pd.Series(pred_lin_unscaled)))"
   ]
  }
 ],
 "metadata": {
  "kernelspec": {
   "display_name": "Python 3",
   "language": "python",
   "name": "python3"
  },
  "language_info": {
   "codemirror_mode": {
    "name": "ipython",
    "version": 3
   },
   "file_extension": ".py",
   "mimetype": "text/x-python",
   "name": "python",
   "nbconvert_exporter": "python",
   "pygments_lexer": "ipython3",
   "version": "3.6.5"
  }
 },
 "nbformat": 4,
 "nbformat_minor": 2
}
