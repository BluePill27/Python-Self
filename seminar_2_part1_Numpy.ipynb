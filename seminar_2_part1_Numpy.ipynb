{
 "cells": [
  {
   "cell_type": "markdown",
   "metadata": {},
   "source": [
    "# Numpy"
   ]
  },
  {
   "cell_type": "markdown",
   "metadata": {},
   "source": [
    "В Python есть встроенные:\n",
    "    1. списки и словари\n",
    "    2. числовые объекты (целые числа, числа с плавующей точкой)\n",
    "\n",
    "Numpy это дополнительный модуль для Python для многомерных массивов и эффективных вычислений над числами.\n",
    "Эта библиотека ближе к hardware (использует типы из C, которые существенно быстрее чем Python типы), за счёт чего более эффективна при вычислениях."
   ]
  },
  {
   "cell_type": "code",
   "execution_count": 26,
   "metadata": {
    "ExecuteTime": {
     "end_time": "2019-09-27T09:02:08.015536Z",
     "start_time": "2019-09-27T09:02:07.898977Z"
    }
   },
   "outputs": [],
   "source": [
    "import numpy as np"
   ]
  },
  {
   "cell_type": "markdown",
   "metadata": {},
   "source": [
    "## Основные типы данных"
   ]
  },
  {
   "cell_type": "markdown",
   "metadata": {},
   "source": [
    "В Python есть типы: bool, int, float, complex\n",
    "\n",
    "В numpy имеются эти типы, а также обёртки над этими типами, которые используют реализацию типов на C, например, int8, int16, int32, int64.\n",
    "\n",
    "Число означает сколько бит используется для хранения числа.\n",
    "\n",
    "За счёт того, что используются типы данных из C, numpy получает ускорение операций."
   ]
  },
  {
   "cell_type": "code",
   "execution_count": 2,
   "metadata": {
    "ExecuteTime": {
     "end_time": "2019-09-27T09:02:09.376192Z",
     "start_time": "2019-09-27T09:02:09.372555Z"
    }
   },
   "outputs": [
    {
     "data": {
      "text/plain": [
       "type"
      ]
     },
     "execution_count": 2,
     "metadata": {},
     "output_type": "execute_result"
    }
   ],
   "source": [
    "type(np.bool)"
   ]
  },
  {
   "cell_type": "code",
   "execution_count": 3,
   "metadata": {
    "ExecuteTime": {
     "end_time": "2019-09-27T09:02:11.923740Z",
     "start_time": "2019-09-27T09:02:11.920425Z"
    }
   },
   "outputs": [
    {
     "data": {
      "text/plain": [
       "False"
      ]
     },
     "execution_count": 3,
     "metadata": {},
     "output_type": "execute_result"
    }
   ],
   "source": [
    "np.bool()"
   ]
  },
  {
   "cell_type": "markdown",
   "metadata": {},
   "source": [
    "np.int - тип из Python\n",
    "\n",
    "np.int32 и np.int64 - типы из C 32-битный и 64-битный"
   ]
  },
  {
   "cell_type": "code",
   "execution_count": 4,
   "metadata": {
    "ExecuteTime": {
     "end_time": "2019-09-27T09:02:24.269430Z",
     "start_time": "2019-09-27T09:02:24.265469Z"
    }
   },
   "outputs": [
    {
     "data": {
      "text/plain": [
       "(type, type, type)"
      ]
     },
     "execution_count": 4,
     "metadata": {},
     "output_type": "execute_result"
    }
   ],
   "source": [
    "type(np.int), type(np.int32), type(np.int64)"
   ]
  },
  {
   "cell_type": "code",
   "execution_count": 5,
   "metadata": {
    "ExecuteTime": {
     "end_time": "2019-09-27T09:02:26.112356Z",
     "start_time": "2019-09-27T09:02:26.108368Z"
    }
   },
   "outputs": [
    {
     "data": {
      "text/plain": [
       "(0, 0, 0)"
      ]
     },
     "execution_count": 5,
     "metadata": {},
     "output_type": "execute_result"
    }
   ],
   "source": [
    "np.int(), np.int32(), np.int64()"
   ]
  },
  {
   "cell_type": "code",
   "execution_count": 6,
   "metadata": {
    "ExecuteTime": {
     "end_time": "2019-09-27T09:02:28.278611Z",
     "start_time": "2019-09-27T09:02:28.274723Z"
    }
   },
   "outputs": [
    {
     "data": {
      "text/plain": [
       "(int, numpy.int32, numpy.int64)"
      ]
     },
     "execution_count": 6,
     "metadata": {},
     "output_type": "execute_result"
    }
   ],
   "source": [
    "type(np.int()), type(np.int32()), type(np.int64())"
   ]
  },
  {
   "cell_type": "markdown",
   "metadata": {},
   "source": [
    "В Python есть длинная арифметика, поэтому можно любые числа хранить"
   ]
  },
  {
   "cell_type": "code",
   "execution_count": 7,
   "metadata": {
    "ExecuteTime": {
     "end_time": "2019-09-27T09:02:32.617301Z",
     "start_time": "2019-09-27T09:02:32.614003Z"
    }
   },
   "outputs": [
    {
     "name": "stdout",
     "output_type": "stream",
     "text": [
      "1000000000000000000\n"
     ]
    }
   ],
   "source": [
    "print(np.int(1e18)) # обёртка питоновского типа"
   ]
  },
  {
   "cell_type": "markdown",
   "metadata": {},
   "source": [
    "32-битный int в C хранит числа от −2147483648 до 2147483647 на $10^{18}$ не хватит, чтобы хранить"
   ]
  },
  {
   "cell_type": "code",
   "execution_count": 8,
   "metadata": {
    "ExecuteTime": {
     "end_time": "2019-09-27T09:02:37.148932Z",
     "start_time": "2019-09-27T09:02:37.146146Z"
    }
   },
   "outputs": [
    {
     "ename": "OverflowError",
     "evalue": "Python int too large to convert to C long",
     "output_type": "error",
     "traceback": [
      "\u001b[1;31m---------------------------------------------------------------------------\u001b[0m",
      "\u001b[1;31mOverflowError\u001b[0m                             Traceback (most recent call last)",
      "\u001b[1;32m<ipython-input-8-63aa31d74a1c>\u001b[0m in \u001b[0;36m<module>\u001b[1;34m()\u001b[0m\n\u001b[1;32m----> 1\u001b[1;33m \u001b[0mprint\u001b[0m\u001b[1;33m(\u001b[0m\u001b[0mnp\u001b[0m\u001b[1;33m.\u001b[0m\u001b[0mint32\u001b[0m\u001b[1;33m(\u001b[0m\u001b[1;36m1e18\u001b[0m\u001b[1;33m)\u001b[0m\u001b[1;33m)\u001b[0m\u001b[1;33m\u001b[0m\u001b[0m\n\u001b[0m",
      "\u001b[1;31mOverflowError\u001b[0m: Python int too large to convert to C long"
     ]
    }
   ],
   "source": [
    "print(np.int32(1e18))"
   ]
  },
  {
   "cell_type": "markdown",
   "metadata": {},
   "source": [
    "64-битный int в С хранит числа от -9223372036854775808 до 9223372036854775807 на $10^{18}$ уже хватает"
   ]
  },
  {
   "cell_type": "code",
   "execution_count": 9,
   "metadata": {
    "ExecuteTime": {
     "end_time": "2019-09-27T09:02:46.713099Z",
     "start_time": "2019-09-27T09:02:46.710037Z"
    }
   },
   "outputs": [
    {
     "name": "stdout",
     "output_type": "stream",
     "text": [
      "1000000000000000000\n"
     ]
    }
   ],
   "source": [
    "print(np.int64(1e18))"
   ]
  },
  {
   "cell_type": "code",
   "execution_count": null,
   "metadata": {},
   "outputs": [],
   "source": []
  },
  {
   "cell_type": "markdown",
   "metadata": {},
   "source": [
    "аналогичная градация и для float\n",
    "\n",
    "float - обёртка питоновского типа\n",
    "float32 и float64 - обёртки чисел соответствующей битности (в стиле С)"
   ]
  },
  {
   "cell_type": "code",
   "execution_count": 10,
   "metadata": {
    "ExecuteTime": {
     "end_time": "2019-09-27T09:02:54.918856Z",
     "start_time": "2019-09-27T09:02:54.914852Z"
    }
   },
   "outputs": [
    {
     "data": {
      "text/plain": [
       "(type, type, type)"
      ]
     },
     "execution_count": 10,
     "metadata": {},
     "output_type": "execute_result"
    }
   ],
   "source": [
    "type(np.float), type(np.float32), type(np.float64)"
   ]
  },
  {
   "cell_type": "code",
   "execution_count": 11,
   "metadata": {
    "ExecuteTime": {
     "end_time": "2019-09-27T09:02:55.409114Z",
     "start_time": "2019-09-27T09:02:55.405270Z"
    }
   },
   "outputs": [
    {
     "data": {
      "text/plain": [
       "(0.0, 0.0, 0.0)"
      ]
     },
     "execution_count": 11,
     "metadata": {},
     "output_type": "execute_result"
    }
   ],
   "source": [
    "np.float(), np.float32(), np.float64()"
   ]
  },
  {
   "cell_type": "code",
   "execution_count": 12,
   "metadata": {
    "ExecuteTime": {
     "end_time": "2019-09-27T00:39:46.861532Z",
     "start_time": "2019-09-27T00:39:46.856717Z"
    }
   },
   "outputs": [
    {
     "data": {
      "text/plain": [
       "(float, numpy.float32, numpy.float64)"
      ]
     },
     "execution_count": 12,
     "metadata": {},
     "output_type": "execute_result"
    }
   ],
   "source": [
    "type(np.float()), type(np.float32()), type(np.float64())"
   ]
  },
  {
   "cell_type": "code",
   "execution_count": 13,
   "metadata": {
    "ExecuteTime": {
     "end_time": "2019-09-27T09:03:18.118378Z",
     "start_time": "2019-09-27T09:03:18.114184Z"
    }
   },
   "outputs": [
    {
     "data": {
      "text/plain": [
       "numpy.float64"
      ]
     },
     "execution_count": 13,
     "metadata": {},
     "output_type": "execute_result"
    }
   ],
   "source": [
    "type(np.sqrt(np.float(2))) # np.sqrt  возвращает максимально близкий тип, для питоновского float это float64"
   ]
  },
  {
   "cell_type": "code",
   "execution_count": 14,
   "metadata": {
    "ExecuteTime": {
     "end_time": "2019-09-27T09:03:46.930915Z",
     "start_time": "2019-09-27T09:03:46.927140Z"
    },
    "scrolled": true
   },
   "outputs": [
    {
     "data": {
      "text/plain": [
       "numpy.float32"
      ]
     },
     "execution_count": 14,
     "metadata": {},
     "output_type": "execute_result"
    }
   ],
   "source": [
    "type(np.sqrt(np.float32(2)))"
   ]
  },
  {
   "cell_type": "code",
   "execution_count": 15,
   "metadata": {
    "ExecuteTime": {
     "end_time": "2019-09-27T09:03:47.213546Z",
     "start_time": "2019-09-27T09:03:47.209830Z"
    }
   },
   "outputs": [
    {
     "data": {
      "text/plain": [
       "numpy.float64"
      ]
     },
     "execution_count": 15,
     "metadata": {},
     "output_type": "execute_result"
    }
   ],
   "source": [
    "type(np.sqrt(np.float64(2)))"
   ]
  },
  {
   "cell_type": "code",
   "execution_count": null,
   "metadata": {},
   "outputs": [],
   "source": []
  },
  {
   "cell_type": "markdown",
   "metadata": {},
   "source": [
    "специальные классы для хранения комплексных чисел - по сути это два float-а"
   ]
  },
  {
   "cell_type": "code",
   "execution_count": 16,
   "metadata": {
    "ExecuteTime": {
     "end_time": "2019-09-27T00:40:00.820807Z",
     "start_time": "2019-09-27T00:40:00.816772Z"
    }
   },
   "outputs": [
    {
     "data": {
      "text/plain": [
       "(type, type, type)"
      ]
     },
     "execution_count": 16,
     "metadata": {},
     "output_type": "execute_result"
    }
   ],
   "source": [
    "type(np.complex), type(np.complex64), type(np.complex128)"
   ]
  },
  {
   "cell_type": "code",
   "execution_count": 17,
   "metadata": {
    "ExecuteTime": {
     "end_time": "2019-09-27T00:40:00.986107Z",
     "start_time": "2019-09-27T00:40:00.981778Z"
    }
   },
   "outputs": [
    {
     "data": {
      "text/plain": [
       "(0j, 0j, 0j)"
      ]
     },
     "execution_count": 17,
     "metadata": {},
     "output_type": "execute_result"
    }
   ],
   "source": [
    "np.complex(), np.complex64(), np.complex128()"
   ]
  },
  {
   "cell_type": "code",
   "execution_count": 18,
   "metadata": {
    "ExecuteTime": {
     "end_time": "2019-09-27T00:40:01.163980Z",
     "start_time": "2019-09-27T00:40:01.159462Z"
    }
   },
   "outputs": [
    {
     "data": {
      "text/plain": [
       "(complex, numpy.complex64, numpy.complex128)"
      ]
     },
     "execution_count": 18,
     "metadata": {},
     "output_type": "execute_result"
    }
   ],
   "source": [
    "type(np.complex()), type(np.complex64()), type(np.complex128())"
   ]
  },
  {
   "cell_type": "code",
   "execution_count": null,
   "metadata": {},
   "outputs": [],
   "source": []
  },
  {
   "cell_type": "markdown",
   "metadata": {},
   "source": [
    "по умолчанию корень из -1 не получится взять"
   ]
  },
  {
   "cell_type": "code",
   "execution_count": 19,
   "metadata": {
    "ExecuteTime": {
     "end_time": "2019-09-27T09:03:57.635812Z",
     "start_time": "2019-09-27T09:03:57.629193Z"
    }
   },
   "outputs": [
    {
     "name": "stderr",
     "output_type": "stream",
     "text": [
      "C:\\Program Files (x86)\\Microsoft Visual Studio\\Shared\\Anaconda3_64\\lib\\site-packages\\ipykernel_launcher.py:1: RuntimeWarning: invalid value encountered in sqrt\n",
      "  \"\"\"Entry point for launching an IPython kernel.\n"
     ]
    },
    {
     "data": {
      "text/plain": [
       "nan"
      ]
     },
     "execution_count": 19,
     "metadata": {},
     "output_type": "execute_result"
    }
   ],
   "source": [
    "np.sqrt(-1.)"
   ]
  },
  {
   "cell_type": "markdown",
   "metadata": {},
   "source": [
    "но если указать, что тип данных complex, то всё сработает"
   ]
  },
  {
   "cell_type": "code",
   "execution_count": 20,
   "metadata": {
    "ExecuteTime": {
     "end_time": "2019-09-27T00:40:09.480443Z",
     "start_time": "2019-09-27T00:40:09.476220Z"
    }
   },
   "outputs": [
    {
     "data": {
      "text/plain": [
       "1j"
      ]
     },
     "execution_count": 20,
     "metadata": {},
     "output_type": "execute_result"
    }
   ],
   "source": [
    "np.sqrt(-1 + 0j)"
   ]
  },
  {
   "cell_type": "code",
   "execution_count": null,
   "metadata": {},
   "outputs": [],
   "source": []
  },
  {
   "cell_type": "markdown",
   "metadata": {
    "collapsed": true
   },
   "source": [
    "### Вывод:\n",
    "\n",
    "В numpy присутсвуют обёртки всех типов из C, а также перенесены типы из Python"
   ]
  },
  {
   "cell_type": "code",
   "execution_count": null,
   "metadata": {},
   "outputs": [],
   "source": []
  },
  {
   "cell_type": "markdown",
   "metadata": {},
   "source": [
    "## Основные численные функции"
   ]
  },
  {
   "cell_type": "markdown",
   "metadata": {},
   "source": [
    "numpy предоставляет широкий спектр математических функций\n",
    "\n",
    "опишем основные их виды"
   ]
  },
  {
   "cell_type": "markdown",
   "metadata": {},
   "source": [
    "##### Округления чисел"
   ]
  },
  {
   "cell_type": "markdown",
   "metadata": {},
   "source": [
    "np.round - математическое округление\n",
    "\n",
    "np.floor - округление вниз\n",
    "\n",
    "np.ceil - округление вверх\n",
    "\n",
    "np.int - округление к нулю"
   ]
  },
  {
   "cell_type": "code",
   "execution_count": 25,
   "metadata": {
    "ExecuteTime": {
     "end_time": "2019-09-27T09:05:49.408923Z",
     "start_time": "2019-09-27T09:05:49.404556Z"
    }
   },
   "outputs": [
    {
     "data": {
      "text/plain": [
       "(4.0, 4.0, 5.0, 4)"
      ]
     },
     "execution_count": 25,
     "metadata": {},
     "output_type": "execute_result"
    }
   ],
   "source": [
    "np.round(4.1), np.floor(4.1), np.ceil(4.1), np.int(4.1)"
   ]
  },
  {
   "cell_type": "code",
   "execution_count": 26,
   "metadata": {
    "ExecuteTime": {
     "end_time": "2019-09-27T09:05:54.063799Z",
     "start_time": "2019-09-27T09:05:54.059432Z"
    }
   },
   "outputs": [
    {
     "data": {
      "text/plain": [
       "(-4.0, -5.0, -4.0, -4)"
      ]
     },
     "execution_count": 26,
     "metadata": {},
     "output_type": "execute_result"
    }
   ],
   "source": [
    "np.round(-4.1), np.floor(-4.1), np.ceil(-4.1), np.int(-4.1)"
   ]
  },
  {
   "cell_type": "code",
   "execution_count": null,
   "metadata": {},
   "outputs": [],
   "source": []
  },
  {
   "cell_type": "code",
   "execution_count": 27,
   "metadata": {
    "ExecuteTime": {
     "end_time": "2019-09-27T09:06:14.092837Z",
     "start_time": "2019-09-27T09:06:14.088933Z"
    }
   },
   "outputs": [
    {
     "data": {
      "text/plain": [
       "(5.0, 4.0, 5.0, 4)"
      ]
     },
     "execution_count": 27,
     "metadata": {},
     "output_type": "execute_result"
    }
   ],
   "source": [
    "np.round(4.51), np.floor(4.5), np.ceil(4.5), np.int(4.8)"
   ]
  },
  {
   "cell_type": "code",
   "execution_count": 28,
   "metadata": {
    "ExecuteTime": {
     "end_time": "2019-09-27T00:40:31.110014Z",
     "start_time": "2019-09-27T00:40:31.105576Z"
    }
   },
   "outputs": [
    {
     "data": {
      "text/plain": [
       "(-4.0, -5.0, -4.0, -4)"
      ]
     },
     "execution_count": 28,
     "metadata": {},
     "output_type": "execute_result"
    }
   ],
   "source": [
    "np.round(-4.5), np.floor(-4.5), np.ceil(-4.5), np.int(-4.5)"
   ]
  },
  {
   "cell_type": "code",
   "execution_count": null,
   "metadata": {},
   "outputs": [],
   "source": []
  },
  {
   "cell_type": "markdown",
   "metadata": {},
   "source": [
    "##### Математические операции"
   ]
  },
  {
   "cell_type": "markdown",
   "metadata": {},
   "source": [
    "Есть специальные функции для двоичного, десятичного и натурального логарифмов"
   ]
  },
  {
   "cell_type": "code",
   "execution_count": 47,
   "metadata": {},
   "outputs": [
    {
     "name": "stdout",
     "output_type": "stream",
     "text": [
      "2.302585092994046\n",
      "4.605170185988092\n",
      "230.25850929940458\n",
      "inf\n"
     ]
    }
   ],
   "source": [
    "print(np.log(10))\n",
    "print(np.log(100))\n",
    "print(np.log(1e100))\n",
    "print(np.log(1e1000))"
   ]
  },
  {
   "cell_type": "code",
   "execution_count": 9,
   "metadata": {
    "ExecuteTime": {
     "end_time": "2019-09-27T00:40:43.197607Z",
     "start_time": "2019-09-27T00:40:43.192361Z"
    }
   },
   "outputs": [
    {
     "name": "stdout",
     "output_type": "stream",
     "text": [
      "1.0\n",
      "2.0\n",
      "100.0\n",
      "inf\n"
     ]
    }
   ],
   "source": [
    "print(np.log10(10))\n",
    "print(np.log10(100))\n",
    "print(np.log10(1e100))\n",
    "print(np.log10(1e1000))"
   ]
  },
  {
   "cell_type": "markdown",
   "metadata": {},
   "source": [
    "у больших int-ов уже не получается взять логарифм, так как np.log2 приводит к сишному типу"
   ]
  },
  {
   "cell_type": "code",
   "execution_count": 10,
   "metadata": {
    "ExecuteTime": {
     "end_time": "2019-09-27T00:40:44.433522Z",
     "start_time": "2019-09-27T00:40:44.338268Z"
    }
   },
   "outputs": [
    {
     "name": "stdout",
     "output_type": "stream",
     "text": [
      "1.0\n",
      "2.0\n",
      "8.0\n"
     ]
    },
    {
     "ename": "AttributeError",
     "evalue": "'int' object has no attribute 'log2'",
     "output_type": "error",
     "traceback": [
      "\u001b[1;31m---------------------------------------------------------------------------\u001b[0m",
      "\u001b[1;31mAttributeError\u001b[0m                            Traceback (most recent call last)",
      "\u001b[1;32m<ipython-input-10-603f71207a30>\u001b[0m in \u001b[0;36m<module>\u001b[1;34m()\u001b[0m\n\u001b[0;32m      2\u001b[0m \u001b[0mprint\u001b[0m\u001b[1;33m(\u001b[0m\u001b[0mnp\u001b[0m\u001b[1;33m.\u001b[0m\u001b[0mlog2\u001b[0m\u001b[1;33m(\u001b[0m\u001b[1;36m2\u001b[0m \u001b[1;33m**\u001b[0m \u001b[1;36m2\u001b[0m\u001b[1;33m)\u001b[0m\u001b[1;33m)\u001b[0m\u001b[1;33m\u001b[0m\u001b[0m\n\u001b[0;32m      3\u001b[0m \u001b[0mprint\u001b[0m\u001b[1;33m(\u001b[0m\u001b[0mnp\u001b[0m\u001b[1;33m.\u001b[0m\u001b[0mlog2\u001b[0m\u001b[1;33m(\u001b[0m\u001b[1;36m2\u001b[0m \u001b[1;33m**\u001b[0m \u001b[1;36m8\u001b[0m\u001b[1;33m)\u001b[0m\u001b[1;33m)\u001b[0m\u001b[1;33m\u001b[0m\u001b[0m\n\u001b[1;32m----> 4\u001b[1;33m \u001b[0mprint\u001b[0m\u001b[1;33m(\u001b[0m\u001b[0mnp\u001b[0m\u001b[1;33m.\u001b[0m\u001b[0mlog2\u001b[0m\u001b[1;33m(\u001b[0m\u001b[1;36m2\u001b[0m \u001b[1;33m**\u001b[0m \u001b[1;36m1000\u001b[0m\u001b[1;33m)\u001b[0m\u001b[1;33m)\u001b[0m\u001b[1;33m\u001b[0m\u001b[0m\n\u001b[0m",
      "\u001b[1;31mAttributeError\u001b[0m: 'int' object has no attribute 'log2'"
     ]
    }
   ],
   "source": [
    "print(np.log2(2))\n",
    "print(np.log2(2 ** 2))\n",
    "print(np.log2(2 ** 8))\n",
    "print(np.log2(2 ** 1000))"
   ]
  },
  {
   "cell_type": "markdown",
   "metadata": {},
   "source": [
    "функции работают с типами С, поэтому может быть переполнение"
   ]
  },
  {
   "cell_type": "code",
   "execution_count": 11,
   "metadata": {
    "ExecuteTime": {
     "end_time": "2019-09-27T00:41:02.814224Z",
     "start_time": "2019-09-27T00:41:02.810400Z"
    }
   },
   "outputs": [
    {
     "data": {
      "text/plain": [
       "(22026.465794806718, numpy.float64)"
      ]
     },
     "execution_count": 11,
     "metadata": {},
     "output_type": "execute_result"
    }
   ],
   "source": [
    "np.exp(10.), type(np.exp(10.))"
   ]
  },
  {
   "cell_type": "code",
   "execution_count": 12,
   "metadata": {
    "ExecuteTime": {
     "end_time": "2019-09-27T00:41:03.383811Z",
     "start_time": "2019-09-27T00:41:03.380021Z"
    }
   },
   "outputs": [
    {
     "data": {
      "text/plain": [
       "(2.6881171418161356e+43, numpy.float64)"
      ]
     },
     "execution_count": 12,
     "metadata": {},
     "output_type": "execute_result"
    }
   ],
   "source": [
    "np.exp(100.), type(np.exp(100.))"
   ]
  },
  {
   "cell_type": "code",
   "execution_count": 13,
   "metadata": {
    "ExecuteTime": {
     "end_time": "2019-09-27T00:41:03.758032Z",
     "start_time": "2019-09-27T00:41:03.753306Z"
    },
    "scrolled": true
   },
   "outputs": [
    {
     "name": "stderr",
     "output_type": "stream",
     "text": [
      "C:\\Program Files (x86)\\Microsoft Visual Studio\\Shared\\Anaconda3_64\\lib\\site-packages\\ipykernel_launcher.py:1: RuntimeWarning: overflow encountered in exp\n",
      "  \"\"\"Entry point for launching an IPython kernel.\n"
     ]
    },
    {
     "data": {
      "text/plain": [
       "(inf, numpy.float64)"
      ]
     },
     "execution_count": 13,
     "metadata": {},
     "output_type": "execute_result"
    }
   ],
   "source": [
    "np.exp(1000.), type(np.exp(1000.))"
   ]
  },
  {
   "cell_type": "markdown",
   "metadata": {},
   "source": [
    "Тригонометрические функции"
   ]
  },
  {
   "cell_type": "code",
   "execution_count": 141,
   "metadata": {},
   "outputs": [
    {
     "name": "stdout",
     "output_type": "stream",
     "text": [
      "sin(1): 0.8414709848078965\n",
      "tan(1): 1.5574077246549023\n",
      "arcsin(1): 1.5707963267948966\n",
      "hypotenuse(1,2): 2.23606797749979\n",
      "sinh(1): 1.1752011936438014\n"
     ]
    }
   ],
   "source": [
    "print('sin(1):',          np.sin(1))\n",
    "print('tan(1):',          np.tan(1))\n",
    "print('arcsin(1):',       np.arcsin(1))\n",
    "print('hypotenuse(1,2):', np.hypot(1,2))       # гипотенуза\n",
    "print('sinh(1):',         np.sinh(1))          # гиперболический синус"
   ]
  },
  {
   "cell_type": "markdown",
   "metadata": {},
   "source": [
    "Суммы, произведения"
   ]
  },
  {
   "cell_type": "code",
   "execution_count": 140,
   "metadata": {},
   "outputs": [
    {
     "name": "stdout",
     "output_type": "stream",
     "text": [
      "product: [3 8]\n",
      "sum: [4 6]\n",
      "cum product: [ 1  2  6 24]\n",
      "cum sum: [ 1  3  6 10]\n"
     ]
    }
   ],
   "source": [
    "arr = np.array([[1,2], [3,4]])\n",
    "print('product:',     np.product(arr, axis=0))\n",
    "print('sum:',         np.sum(arr, axis=0))\n",
    "arr = np.array([1,2,3,4])\n",
    "print('cum product:', np.cumproduct(arr))\n",
    "print('cum sum:',     np.cumsum(arr))"
   ]
  },
  {
   "cell_type": "markdown",
   "metadata": {},
   "source": [
    "Поэлементные операции"
   ]
  },
  {
   "cell_type": "code",
   "execution_count": 139,
   "metadata": {},
   "outputs": [
    {
     "name": "stdout",
     "output_type": "stream",
     "text": [
      "сумма: [4 4 4]\n",
      "разность: [-2  0  2]\n",
      "отрицательные: [-1 -2 -3]\n",
      "умножение: [3 4 3]\n",
      "деление: [1 4 3]\n",
      "максимум: [3 2 3]\n",
      "степень: [1 4 3]\n",
      "корень: [1.         1.41421356 1.73205081]\n"
     ]
    }
   ],
   "source": [
    "arr_1 = np.array([1,2,3])\n",
    "arr_2 = np.array([3,2,1])\n",
    "print('сумма:',         np.add(arr_1, arr_2))\n",
    "print('разность:',      np.subtract(arr_1, arr_2))\n",
    "print('отрицательные:', np.negative(arr_1))\n",
    "print('умножение:',     np.multiply(arr_1, arr_2))\n",
    "print('деление:',       np.power(arr_1, arr_2))\n",
    "print('максимум:',      np.maximum(arr_1, arr_2))\n",
    "print('степень:',       np.power(arr_1, arr_2))\n",
    "print('корень:',        np.sqrt(arr_1))"
   ]
  },
  {
   "cell_type": "markdown",
   "metadata": {},
   "source": [
    "Почему пользоваться numpy?"
   ]
  },
  {
   "cell_type": "code",
   "execution_count": 67,
   "metadata": {},
   "outputs": [
    {
     "name": "stdout",
     "output_type": "stream",
     "text": [
      "python add python list: 0.17200970649719238\n",
      "numpy add python lists: 0.12200713157653809\n",
      "numpy add numpy arrays: 0.0020003318786621094\n"
     ]
    }
   ],
   "source": [
    "from time import time\n",
    "arr_1 = list(range(1000000))\n",
    "arr_2 = list(range(1000000, 0, -1))\n",
    "\n",
    "before = time()\n",
    "for i in range(len(arr_1)):\n",
    "    arr_1[i] += arr_2[i]\n",
    "after = time()\n",
    "print('python add python list:', after-before)   \n",
    "\n",
    "arr_1 = list(range(1000000))\n",
    "arr_2 = list(range(1000000, 0, -1))\n",
    "before = time()\n",
    "np.add(arr_1, arr_2)\n",
    "after = time()\n",
    "print('numpy add python lists:', after-before)   \n",
    "\n",
    "arr_1 = np.arange(0, 1000000, 1)\n",
    "arr_2 = np.arange(1000000, 0, -1)\n",
    "before = time()\n",
    "np.add(arr_1, arr_2)\n",
    "after = time()\n",
    "print('numpy add numpy arrays:', after-before)   "
   ]
  },
  {
   "cell_type": "markdown",
   "metadata": {},
   "source": [
    "##### Константы"
   ]
  },
  {
   "cell_type": "markdown",
   "metadata": {},
   "source": [
    "в numpy есть математические константы "
   ]
  },
  {
   "cell_type": "code",
   "execution_count": 44,
   "metadata": {
    "ExecuteTime": {
     "end_time": "2019-09-27T09:10:11.572921Z",
     "start_time": "2019-09-27T09:10:11.569680Z"
    },
    "scrolled": true
   },
   "outputs": [
    {
     "data": {
      "text/plain": [
       "(3.141592653589793, float)"
      ]
     },
     "execution_count": 44,
     "metadata": {},
     "output_type": "execute_result"
    }
   ],
   "source": [
    "np.pi, type(np.pi)"
   ]
  },
  {
   "cell_type": "code",
   "execution_count": 45,
   "metadata": {
    "ExecuteTime": {
     "end_time": "2019-09-27T09:10:12.030735Z",
     "start_time": "2019-09-27T09:10:12.027013Z"
    }
   },
   "outputs": [
    {
     "data": {
      "text/plain": [
       "(2.718281828459045, float)"
      ]
     },
     "execution_count": 45,
     "metadata": {},
     "output_type": "execute_result"
    }
   ],
   "source": [
    "np.e, type(np.e)"
   ]
  },
  {
   "cell_type": "code",
   "execution_count": 69,
   "metadata": {},
   "outputs": [
    {
     "data": {
      "text/plain": [
       "(inf, float)"
      ]
     },
     "execution_count": 69,
     "metadata": {},
     "output_type": "execute_result"
    }
   ],
   "source": [
    "np.Infinity, type(np.Infinity)"
   ]
  },
  {
   "cell_type": "code",
   "execution_count": 70,
   "metadata": {},
   "outputs": [
    {
     "data": {
      "text/plain": [
       "(nan, float)"
      ]
     },
     "execution_count": 70,
     "metadata": {},
     "output_type": "execute_result"
    }
   ],
   "source": [
    "np.NaN, type(np.NaN)"
   ]
  },
  {
   "cell_type": "code",
   "execution_count": null,
   "metadata": {},
   "outputs": [],
   "source": []
  },
  {
   "cell_type": "markdown",
   "metadata": {},
   "source": [
    "Более подробно можно посмотреть здесь: https://docs.scipy.org/doc/numpy/reference/"
   ]
  },
  {
   "cell_type": "markdown",
   "metadata": {
    "collapsed": true
   },
   "source": [
    "### Вывод:\n",
    "В numpy реализовано огромное число математических функций\n",
    "\n",
    "**Но чем это лучше модуля math?**"
   ]
  },
  {
   "cell_type": "code",
   "execution_count": null,
   "metadata": {},
   "outputs": [],
   "source": []
  },
  {
   "cell_type": "markdown",
   "metadata": {},
   "source": [
    "### Арифметические функции хороши, но, тем не менее, основным объектом NumPy является однородный многомерный массив"
   ]
  },
  {
   "cell_type": "code",
   "execution_count": 48,
   "metadata": {
    "ExecuteTime": {
     "end_time": "2019-09-27T09:12:40.856450Z",
     "start_time": "2019-09-27T09:12:40.853132Z"
    }
   },
   "outputs": [
    {
     "data": {
      "text/plain": [
       "list"
      ]
     },
     "execution_count": 48,
     "metadata": {},
     "output_type": "execute_result"
    }
   ],
   "source": [
    "a = []\n",
    "type(a)"
   ]
  },
  {
   "cell_type": "code",
   "execution_count": 49,
   "metadata": {
    "ExecuteTime": {
     "end_time": "2019-09-27T00:42:31.659877Z",
     "start_time": "2019-09-27T00:42:31.656659Z"
    }
   },
   "outputs": [
    {
     "data": {
      "text/plain": [
       "numpy.ndarray"
      ]
     },
     "execution_count": 49,
     "metadata": {},
     "output_type": "execute_result"
    }
   ],
   "source": [
    "type(np.array([]))"
   ]
  },
  {
   "cell_type": "markdown",
   "metadata": {},
   "source": [
    "Наиболее важные атрибуты объектов ndarray:\n",
    "\n",
    "    1. ndarray.ndim - число измерений (чаще их называют \"оси\") массива.\n",
    "\n",
    "    2. ndarray.shape - размеры массива, его форма. Это кортеж натуральных чисел, показывающий длину массива по каждой оси. Для матрицы из n строк и m столбов, shape будет (n,m). Число элементов кортежа shape равно ndim.\n",
    "\n",
    "    3. ndarray.size - количество элементов массива. Очевидно, равно произведению всех элементов атрибута shape.\n",
    "\n",
    "    4. ndarray.dtype - объект, описывающий тип элементов массива. Можно определить dtype, используя стандартные типы данных Python. Можно хранить и numpy типы, например: bool, int16, int32, int64, float16, float32, float64, complex64\n",
    "\n",
    "    5. ndarray.itemsize - размер каждого элемента массива в байтах.\n",
    "\n",
    "    6. ndarray.data - буфер, содержащий фактические элементы массива. Обычно не нужно использовать этот атрибут, так как обращаться к элементам массива проще всего с помощью индексов."
   ]
  },
  {
   "cell_type": "markdown",
   "metadata": {},
   "source": [
    "##### Обычные одномерные массивы"
   ]
  },
  {
   "cell_type": "code",
   "execution_count": 144,
   "metadata": {
    "ExecuteTime": {
     "end_time": "2019-09-27T00:42:31.667201Z",
     "start_time": "2019-09-27T00:42:31.661517Z"
    }
   },
   "outputs": [
    {
     "name": "stdout",
     "output_type": "stream",
     "text": [
      "[ 1  2  4  8 16 32]\n",
      "Кол-во измерений: 1\n",
      "Форма: (6,)\n",
      "Размер: 6\n",
      "Тип данных: int8\n",
      "Размер элементов: 1\n",
      "Память: <memory at 0x00000000058564C8>\n"
     ]
    }
   ],
   "source": [
    "arr = np.array([1, 2, 4, 8, 16, 32], dtype=np.int8)\n",
    "\n",
    "print(arr)\n",
    "print('Кол-во измерений:', arr.ndim)\n",
    "print('Форма:',            arr.shape)\n",
    "print('Размер:',           arr.size)\n",
    "print('Тип данных:',       arr.dtype)\n",
    "print('Размер элементов:', arr.itemsize)\n",
    "print('Память:',           arr.data)"
   ]
  },
  {
   "cell_type": "markdown",
   "metadata": {},
   "source": [
    "##### Обычные двухмерные массивы"
   ]
  },
  {
   "cell_type": "code",
   "execution_count": 145,
   "metadata": {
    "ExecuteTime": {
     "end_time": "2019-09-27T09:14:27.421462Z",
     "start_time": "2019-09-27T09:14:27.415932Z"
    }
   },
   "outputs": [
    {
     "name": "stdout",
     "output_type": "stream",
     "text": [
      "[[ 1  2]\n",
      " [ 2  2]\n",
      " [ 4  2]\n",
      " [ 8  2]\n",
      " [16  2]\n",
      " [32  2]]\n",
      "Кол-во измерений: 2\n",
      "Форма: (6, 2)\n",
      "Размер: 12\n",
      "Тип данных: int8\n",
      "Размер элементов: 1\n",
      "Память: <memory at 0x000000000583FA68>\n"
     ]
    }
   ],
   "source": [
    "arr = np.array([[1,2], [2,2], [4,2], [8,2], [16,2], [32,2]], dtype=np.int8)\n",
    "\n",
    "print(arr)\n",
    "print('Кол-во измерений:', arr.ndim)\n",
    "print('Форма:',            arr.shape)\n",
    "print('Размер:',           arr.size)\n",
    "print('Тип данных:',       arr.dtype)\n",
    "print('Размер элементов:', arr.itemsize)\n",
    "print('Память:',           arr.data)"
   ]
  },
  {
   "cell_type": "markdown",
   "metadata": {},
   "source": [
    "##### Индексация одномерных массивов"
   ]
  },
  {
   "cell_type": "code",
   "execution_count": 60,
   "metadata": {
    "ExecuteTime": {
     "end_time": "2019-09-27T09:14:43.108683Z",
     "start_time": "2019-09-27T09:14:43.106106Z"
    }
   },
   "outputs": [],
   "source": [
    "arr = np.array([1, 2, 4, 8, 16, 32], dtype=np.int64)"
   ]
  },
  {
   "cell_type": "code",
   "execution_count": 61,
   "metadata": {
    "ExecuteTime": {
     "end_time": "2019-09-27T09:14:43.492439Z",
     "start_time": "2019-09-27T09:14:43.488584Z"
    }
   },
   "outputs": [
    {
     "data": {
      "text/plain": [
       "(1, 2, 16, 32)"
      ]
     },
     "execution_count": 61,
     "metadata": {},
     "output_type": "execute_result"
    }
   ],
   "source": [
    "arr[0], arr[1], arr[4], arr[-1]"
   ]
  },
  {
   "cell_type": "code",
   "execution_count": 62,
   "metadata": {
    "ExecuteTime": {
     "end_time": "2019-09-27T09:14:46.890814Z",
     "start_time": "2019-09-27T09:14:46.887303Z"
    }
   },
   "outputs": [
    {
     "data": {
      "text/plain": [
       "array([1, 2, 4, 8], dtype=int64)"
      ]
     },
     "execution_count": 62,
     "metadata": {},
     "output_type": "execute_result"
    }
   ],
   "source": [
    "arr[0:4]"
   ]
  },
  {
   "cell_type": "code",
   "execution_count": 63,
   "metadata": {
    "ExecuteTime": {
     "end_time": "2019-09-27T09:15:04.043501Z",
     "start_time": "2019-09-27T09:15:04.039353Z"
    }
   },
   "outputs": [
    {
     "data": {
      "text/plain": [
       "array([ 1,  8, 32], dtype=int64)"
      ]
     },
     "execution_count": 63,
     "metadata": {},
     "output_type": "execute_result"
    }
   ],
   "source": [
    "arr[[0, 3, 5]]"
   ]
  },
  {
   "cell_type": "markdown",
   "metadata": {},
   "source": [
    "##### Индексация двухмерных массивов"
   ]
  },
  {
   "cell_type": "code",
   "execution_count": 186,
   "metadata": {
    "ExecuteTime": {
     "end_time": "2019-09-27T09:15:20.325546Z",
     "start_time": "2019-09-27T09:15:20.321905Z"
    }
   },
   "outputs": [],
   "source": [
    "arr = np.array(\n",
    "    [\n",
    "        [1, 0, 4], \n",
    "        [2, 0, 4], \n",
    "        [4, 0, 4], \n",
    "        [8, 0, 4], \n",
    "        [16, 0, 4], \n",
    "        [32, 0, 4]\n",
    "    ],\n",
    "    dtype=np.int64\n",
    ")"
   ]
  },
  {
   "cell_type": "code",
   "execution_count": 188,
   "metadata": {
    "ExecuteTime": {
     "end_time": "2019-09-27T09:15:20.513858Z",
     "start_time": "2019-09-27T09:15:20.508830Z"
    }
   },
   "outputs": [
    {
     "name": "stdout",
     "output_type": "stream",
     "text": [
      "[1 0 4]\n",
      "[2 0 4]\n"
     ]
    }
   ],
   "source": [
    "print(arr[0])\n",
    "print(arr[1])"
   ]
  },
  {
   "cell_type": "code",
   "execution_count": 189,
   "metadata": {
    "ExecuteTime": {
     "end_time": "2019-09-27T09:15:20.671673Z",
     "start_time": "2019-09-27T09:15:20.667052Z"
    }
   },
   "outputs": [
    {
     "data": {
      "text/plain": [
       "(1, 2, 16, 32)"
      ]
     },
     "execution_count": 189,
     "metadata": {},
     "output_type": "execute_result"
    }
   ],
   "source": [
    "arr[0, 0], arr[1, 0], arr[4, 0], arr[-1, 0]"
   ]
  },
  {
   "cell_type": "code",
   "execution_count": 190,
   "metadata": {
    "ExecuteTime": {
     "end_time": "2019-09-27T00:43:45.797720Z",
     "start_time": "2019-09-27T00:43:45.792954Z"
    }
   },
   "outputs": [
    {
     "data": {
      "text/plain": [
       "(1, 2, 16, 32)"
      ]
     },
     "execution_count": 190,
     "metadata": {},
     "output_type": "execute_result"
    }
   ],
   "source": [
    "arr[0][0], arr[1][0], arr[4][0], arr[-1][0]"
   ]
  },
  {
   "cell_type": "markdown",
   "metadata": {},
   "source": [
    "Первый способ быстрее"
   ]
  },
  {
   "cell_type": "code",
   "execution_count": 82,
   "metadata": {
    "ExecuteTime": {
     "end_time": "2019-09-27T00:43:52.450695Z",
     "start_time": "2019-09-27T00:43:47.295646Z"
    }
   },
   "outputs": [
    {
     "name": "stdout",
     "output_type": "stream",
     "text": [
      "606 ns ± 8.41 ns per loop (mean ± std. dev. of 7 runs, 1000000 loops each)\n"
     ]
    }
   ],
   "source": [
    "%timeit arr[0, 0], arr[1, 0], arr[4, 0], arr[-1, 0]"
   ]
  },
  {
   "cell_type": "code",
   "execution_count": 83,
   "metadata": {
    "ExecuteTime": {
     "end_time": "2019-09-27T00:44:01.942042Z",
     "start_time": "2019-09-27T00:43:52.452256Z"
    }
   },
   "outputs": [
    {
     "name": "stdout",
     "output_type": "stream",
     "text": [
      "1.16 µs ± 7.98 ns per loop (mean ± std. dev. of 7 runs, 1000000 loops each)\n"
     ]
    }
   ],
   "source": [
    "%timeit arr[0][0], arr[1][0], arr[4][0], arr[-1][0]"
   ]
  },
  {
   "cell_type": "markdown",
   "metadata": {},
   "source": [
    "##### Более сложная индексация"
   ]
  },
  {
   "cell_type": "markdown",
   "metadata": {},
   "source": [
    "Можем взять строчку или столбец"
   ]
  },
  {
   "cell_type": "code",
   "execution_count": 84,
   "metadata": {
    "ExecuteTime": {
     "end_time": "2019-09-27T00:44:01.947117Z",
     "start_time": "2019-09-27T00:44:01.943707Z"
    }
   },
   "outputs": [
    {
     "data": {
      "text/plain": [
       "(array([1, 2], dtype=int8), (2,))"
      ]
     },
     "execution_count": 84,
     "metadata": {},
     "output_type": "execute_result"
    }
   ],
   "source": [
    "arr[0, :], arr[0, :].shape"
   ]
  },
  {
   "cell_type": "code",
   "execution_count": 85,
   "metadata": {
    "ExecuteTime": {
     "end_time": "2019-09-27T00:44:01.952075Z",
     "start_time": "2019-09-27T00:44:01.948530Z"
    }
   },
   "outputs": [
    {
     "data": {
      "text/plain": [
       "(array([ 1,  2,  4,  8, 16, 32], dtype=int8), (6,))"
      ]
     },
     "execution_count": 85,
     "metadata": {},
     "output_type": "execute_result"
    }
   ],
   "source": [
    "arr[:, 0], arr[:, 0].shape"
   ]
  },
  {
   "cell_type": "code",
   "execution_count": 86,
   "metadata": {
    "ExecuteTime": {
     "end_time": "2019-09-27T09:16:13.157151Z",
     "start_time": "2019-09-27T09:16:13.152514Z"
    }
   },
   "outputs": [
    {
     "data": {
      "text/plain": [
       "(array([[ 2,  2],\n",
       "        [ 8,  2],\n",
       "        [32,  2]], dtype=int8), (3, 2))"
      ]
     },
     "execution_count": 86,
     "metadata": {},
     "output_type": "execute_result"
    }
   ],
   "source": [
    "arr[[1, 3, 5], :], arr[[1, 3, 5], :].shape"
   ]
  },
  {
   "cell_type": "code",
   "execution_count": 88,
   "metadata": {
    "ExecuteTime": {
     "end_time": "2019-09-27T00:44:01.967405Z",
     "start_time": "2019-09-27T00:44:01.964196Z"
    }
   },
   "outputs": [
    {
     "data": {
      "text/plain": [
       "array([ 2,  8, 32], dtype=int8)"
      ]
     },
     "execution_count": 88,
     "metadata": {},
     "output_type": "execute_result"
    }
   ],
   "source": [
    "arr[1::2, 0]"
   ]
  },
  {
   "cell_type": "code",
   "execution_count": 75,
   "metadata": {
    "ExecuteTime": {
     "end_time": "2019-09-27T09:16:45.875097Z",
     "start_time": "2019-09-27T09:16:45.871005Z"
    }
   },
   "outputs": [
    {
     "data": {
      "text/plain": [
       "array([[ 2,  0],\n",
       "       [ 8,  0],\n",
       "       [32,  0]], dtype=int64)"
      ]
     },
     "execution_count": 75,
     "metadata": {},
     "output_type": "execute_result"
    }
   ],
   "source": [
    "arr[[1, 3, 5], :2]"
   ]
  },
  {
   "cell_type": "code",
   "execution_count": 77,
   "metadata": {
    "ExecuteTime": {
     "end_time": "2019-09-27T09:17:08.582898Z",
     "start_time": "2019-09-27T09:17:08.578965Z"
    }
   },
   "outputs": [
    {
     "data": {
      "text/plain": [
       "array([2, 0, 4], dtype=int64)"
      ]
     },
     "execution_count": 77,
     "metadata": {},
     "output_type": "execute_result"
    }
   ],
   "source": [
    "arr[[1, 3, 5], [0,1,2]]"
   ]
  },
  {
   "cell_type": "code",
   "execution_count": 78,
   "metadata": {
    "ExecuteTime": {
     "end_time": "2019-09-27T00:45:10.175781Z",
     "start_time": "2019-09-27T00:45:10.171909Z"
    }
   },
   "outputs": [
    {
     "data": {
      "text/plain": [
       "array([2, 4], dtype=int64)"
      ]
     },
     "execution_count": 78,
     "metadata": {},
     "output_type": "execute_result"
    }
   ],
   "source": [
    "arr[[1, 3], [0, 2]] # взяли элементы arr[1, 0] и arr[3, 2]"
   ]
  },
  {
   "cell_type": "markdown",
   "metadata": {},
   "source": [
    "Пересечение"
   ]
  },
  {
   "cell_type": "code",
   "execution_count": 80,
   "metadata": {
    "ExecuteTime": {
     "end_time": "2019-09-27T00:45:10.574667Z",
     "start_time": "2019-09-27T00:45:10.570502Z"
    }
   },
   "outputs": [
    {
     "data": {
      "text/plain": [
       "(array([[1],\n",
       "        [3],\n",
       "        [5]]), array([[0, 2]]))"
      ]
     },
     "execution_count": 80,
     "metadata": {},
     "output_type": "execute_result"
    }
   ],
   "source": [
    "np.ix_([1, 3, 5], [0, 2])"
   ]
  },
  {
   "cell_type": "code",
   "execution_count": 79,
   "metadata": {
    "ExecuteTime": {
     "end_time": "2019-09-27T00:45:10.388547Z",
     "start_time": "2019-09-27T00:45:10.383768Z"
    }
   },
   "outputs": [
    {
     "data": {
      "text/plain": [
       "array([[ 2,  4],\n",
       "       [ 8,  4],\n",
       "       [32,  4]], dtype=int64)"
      ]
     },
     "execution_count": 79,
     "metadata": {},
     "output_type": "execute_result"
    }
   ],
   "source": [
    "arr[np.ix_([1, 3, 5], [0, 2])]"
   ]
  },
  {
   "cell_type": "markdown",
   "metadata": {},
   "source": [
    "### Выводы"
   ]
  },
  {
   "cell_type": "markdown",
   "metadata": {},
   "source": [
    "Картинки взяты с http://www.scipy-lectures.org/intro/numpy/numpy.html"
   ]
  },
  {
   "cell_type": "markdown",
   "metadata": {},
   "source": [
    "![title](numpy_indexing.png)"
   ]
  },
  {
   "cell_type": "markdown",
   "metadata": {},
   "source": [
    "![title](numpy_fancy_indexing.png)"
   ]
  },
  {
   "cell_type": "code",
   "execution_count": null,
   "metadata": {},
   "outputs": [],
   "source": []
  },
  {
   "cell_type": "markdown",
   "metadata": {},
   "source": [
    "##### Какая индексация на самом деле нужна"
   ]
  },
  {
   "cell_type": "markdown",
   "metadata": {},
   "source": [
    "Часто отбор идет не по каким-то индексам, а по условиям"
   ]
  },
  {
   "cell_type": "code",
   "execution_count": 89,
   "metadata": {
    "ExecuteTime": {
     "end_time": "2019-09-27T09:17:53.685306Z",
     "start_time": "2019-09-27T09:17:53.679146Z"
    }
   },
   "outputs": [
    {
     "data": {
      "text/plain": [
       "array([ 8, 10, 11, 14, 18, 16, 12, 14, 18, 19,  9,  6, 14,  1, 17, 13,  8,\n",
       "       14,  0, 17,  6,  2,  5,  8,  4,  0, 11,  7,  2,  0,  6,  2, 11,  1,\n",
       "       10,  5, 12,  8,  1, 19,  8, 14, 10,  3, 17, 15, 12,  2, 19,  7,  9,\n",
       "       17, 12,  9, 16,  3,  1, 15, 10,  9,  0, 16,  3,  2,  9,  0, 19, 17,\n",
       "       16,  9, 18, 17, 18,  5,  7,  9, 13,  2, 19,  5,  7,  2,  4, 18,  1,\n",
       "        6, 17,  5, 18, 18, 15,  3, 15, 19,  6,  3,  5, 18, 12, 19])"
      ]
     },
     "execution_count": 89,
     "metadata": {},
     "output_type": "execute_result"
    }
   ],
   "source": [
    "rand_arr = np.random.randint(20, size=100)\n",
    "rand_arr"
   ]
  },
  {
   "cell_type": "code",
   "execution_count": 90,
   "metadata": {
    "ExecuteTime": {
     "end_time": "2019-09-27T09:17:58.012482Z",
     "start_time": "2019-09-27T09:17:58.008596Z"
    }
   },
   "outputs": [
    {
     "data": {
      "text/plain": [
       "array([ True,  True,  True,  True,  True,  True,  True,  True,  True,\n",
       "        True,  True,  True,  True, False,  True,  True,  True,  True,\n",
       "       False,  True,  True, False, False,  True, False, False,  True,\n",
       "        True, False, False,  True, False,  True, False,  True, False,\n",
       "        True,  True, False,  True,  True,  True,  True, False,  True,\n",
       "        True,  True, False,  True,  True,  True,  True,  True,  True,\n",
       "        True, False, False,  True,  True,  True, False,  True, False,\n",
       "       False,  True, False,  True,  True,  True,  True,  True,  True,\n",
       "        True, False,  True,  True,  True, False,  True, False,  True,\n",
       "       False, False,  True, False,  True,  True, False,  True,  True,\n",
       "        True, False,  True,  True,  True, False, False,  True,  True,\n",
       "        True])"
      ]
     },
     "execution_count": 90,
     "metadata": {},
     "output_type": "execute_result"
    }
   ],
   "source": [
    "rand_arr > 5"
   ]
  },
  {
   "cell_type": "code",
   "execution_count": 93,
   "metadata": {},
   "outputs": [
    {
     "data": {
      "text/plain": [
       "70"
      ]
     },
     "execution_count": 93,
     "metadata": {},
     "output_type": "execute_result"
    }
   ],
   "source": [
    "np.sum([rand_arr > 5])"
   ]
  },
  {
   "cell_type": "code",
   "execution_count": 94,
   "metadata": {
    "ExecuteTime": {
     "end_time": "2019-09-27T09:18:07.817019Z",
     "start_time": "2019-09-27T09:18:07.813103Z"
    }
   },
   "outputs": [
    {
     "data": {
      "text/plain": [
       "array([ 8, 10, 11, 14, 18, 16, 12, 14, 18, 19,  9,  6, 14, 17, 13,  8, 14,\n",
       "       17,  6,  8, 11,  7,  6, 11, 10, 12,  8, 19,  8, 14, 10, 17, 15, 12,\n",
       "       19,  7,  9, 17, 12,  9, 16, 15, 10,  9, 16,  9, 19, 17, 16,  9, 18,\n",
       "       17, 18,  7,  9, 13, 19,  7, 18,  6, 17, 18, 18, 15, 15, 19,  6, 18,\n",
       "       12, 19])"
      ]
     },
     "execution_count": 94,
     "metadata": {},
     "output_type": "execute_result"
    }
   ],
   "source": [
    "rand_arr[rand_arr > 5]"
   ]
  },
  {
   "cell_type": "code",
   "execution_count": 95,
   "metadata": {
    "ExecuteTime": {
     "end_time": "2019-09-27T09:18:14.685167Z",
     "start_time": "2019-09-27T09:18:14.678203Z"
    }
   },
   "outputs": [
    {
     "ename": "ValueError",
     "evalue": "The truth value of an array with more than one element is ambiguous. Use a.any() or a.all()",
     "output_type": "error",
     "traceback": [
      "\u001b[1;31m---------------------------------------------------------------------------\u001b[0m",
      "\u001b[1;31mValueError\u001b[0m                                Traceback (most recent call last)",
      "\u001b[1;32m<ipython-input-95-47f46cca5a71>\u001b[0m in \u001b[0;36m<module>\u001b[1;34m()\u001b[0m\n\u001b[1;32m----> 1\u001b[1;33m \u001b[0mrand_arr\u001b[0m\u001b[1;33m[\u001b[0m\u001b[0mrand_arr\u001b[0m \u001b[1;33m>\u001b[0m \u001b[1;36m5\u001b[0m \u001b[1;33m&\u001b[0m \u001b[0mrand_arr\u001b[0m \u001b[1;33m<\u001b[0m \u001b[1;36m10\u001b[0m\u001b[1;33m]\u001b[0m\u001b[1;33m\u001b[0m\u001b[0m\n\u001b[0m",
      "\u001b[1;31mValueError\u001b[0m: The truth value of an array with more than one element is ambiguous. Use a.any() or a.all()"
     ]
    }
   ],
   "source": [
    "rand_arr[rand_arr > 5 & rand_arr < 10]"
   ]
  },
  {
   "cell_type": "code",
   "execution_count": 146,
   "metadata": {
    "ExecuteTime": {
     "end_time": "2019-09-27T09:18:25.585036Z",
     "start_time": "2019-09-27T09:18:25.580749Z"
    }
   },
   "outputs": [
    {
     "data": {
      "text/plain": [
       "array([8, 9, 6, 8, 6, 8, 7, 6, 8, 8, 7, 9, 9, 9, 9, 9, 7, 9, 7, 6, 6])"
      ]
     },
     "execution_count": 146,
     "metadata": {},
     "output_type": "execute_result"
    }
   ],
   "source": [
    "rand_arr[(rand_arr > 5) & (rand_arr < 10)]"
   ]
  },
  {
   "cell_type": "code",
   "execution_count": null,
   "metadata": {},
   "outputs": [],
   "source": []
  },
  {
   "cell_type": "markdown",
   "metadata": {},
   "source": [
    "##### Операции с массивами"
   ]
  },
  {
   "cell_type": "markdown",
   "metadata": {},
   "source": [
    "Над массивами можно делать арифметические операции. При этом не нужно обращаться отдельно к каждому элементы, можно выполнять операции с массивами в целом."
   ]
  },
  {
   "cell_type": "code",
   "execution_count": 86,
   "metadata": {
    "ExecuteTime": {
     "end_time": "2019-09-27T09:18:45.576661Z",
     "start_time": "2019-09-27T09:18:45.573257Z"
    }
   },
   "outputs": [],
   "source": [
    "a = np.array([1, 2, 4, 8, 16])\n",
    "b = np.array([1, 3, 9, 27, 81])"
   ]
  },
  {
   "cell_type": "code",
   "execution_count": 87,
   "metadata": {
    "ExecuteTime": {
     "end_time": "2019-09-27T09:18:45.974430Z",
     "start_time": "2019-09-27T09:18:45.970838Z"
    }
   },
   "outputs": [
    {
     "data": {
      "text/plain": [
       "array([ 0,  1,  3,  7, 15])"
      ]
     },
     "execution_count": 87,
     "metadata": {},
     "output_type": "execute_result"
    }
   ],
   "source": [
    "a - 1"
   ]
  },
  {
   "cell_type": "code",
   "execution_count": 88,
   "metadata": {
    "ExecuteTime": {
     "end_time": "2019-09-27T09:18:50.650507Z",
     "start_time": "2019-09-27T09:18:50.647036Z"
    }
   },
   "outputs": [
    {
     "data": {
      "text/plain": [
       "array([ 2,  5, 13, 35, 97])"
      ]
     },
     "execution_count": 88,
     "metadata": {},
     "output_type": "execute_result"
    }
   ],
   "source": [
    "a + b"
   ]
  },
  {
   "cell_type": "code",
   "execution_count": 89,
   "metadata": {
    "ExecuteTime": {
     "end_time": "2019-09-27T09:19:01.826381Z",
     "start_time": "2019-09-27T09:19:01.822531Z"
    }
   },
   "outputs": [
    {
     "data": {
      "text/plain": [
       "array([   1,    6,   36,  216, 1296])"
      ]
     },
     "execution_count": 89,
     "metadata": {},
     "output_type": "execute_result"
    }
   ],
   "source": [
    "a * b"
   ]
  },
  {
   "cell_type": "code",
   "execution_count": 91,
   "metadata": {
    "ExecuteTime": {
     "end_time": "2019-09-27T09:19:08.752899Z",
     "start_time": "2019-09-27T09:19:08.749480Z"
    },
    "scrolled": true
   },
   "outputs": [
    {
     "data": {
      "text/plain": [
       "array([1, 1, 2, 3, 5], dtype=int32)"
      ]
     },
     "execution_count": 91,
     "metadata": {},
     "output_type": "execute_result"
    }
   ],
   "source": [
    "b // a"
   ]
  },
  {
   "cell_type": "code",
   "execution_count": 92,
   "metadata": {
    "ExecuteTime": {
     "end_time": "2019-09-27T00:47:20.260500Z",
     "start_time": "2019-09-27T00:47:20.256810Z"
    }
   },
   "outputs": [
    {
     "data": {
      "text/plain": [
       "array([0., 1., 2., 3., 4.])"
      ]
     },
     "execution_count": 92,
     "metadata": {},
     "output_type": "execute_result"
    }
   ],
   "source": [
    "np.log2(a)"
   ]
  },
  {
   "cell_type": "markdown",
   "metadata": {},
   "source": [
    "Важными являются операции над формой массива"
   ]
  },
  {
   "cell_type": "code",
   "execution_count": 191,
   "metadata": {},
   "outputs": [
    {
     "name": "stdout",
     "output_type": "stream",
     "text": [
      "reshaped arr: \n",
      " [[ 1  2]\n",
      " [ 4  8]\n",
      " [16 32]]\n"
     ]
    }
   ],
   "source": [
    "a = np.array([1, 2, 4, 8, 16, 32])\n",
    "print('reshaped arr:', '\\n', a.reshape(3,2))"
   ]
  },
  {
   "cell_type": "code",
   "execution_count": 192,
   "metadata": {},
   "outputs": [
    {
     "name": "stdout",
     "output_type": "stream",
     "text": [
      "arr shape: (2, 3)\n",
      "transpose arr: \n",
      " [[1 3]\n",
      " [2 2]\n",
      " [4 5]]\n"
     ]
    }
   ],
   "source": [
    "a = np.array([[1, 2, 4],[3,2,5]])\n",
    "print('arr shape:', a.shape)\n",
    "print('transpose arr:', '\\n', a.T)"
   ]
  },
  {
   "cell_type": "markdown",
   "metadata": {},
   "source": [
    "Стакинг(добавление) массивов"
   ]
  },
  {
   "cell_type": "code",
   "execution_count": 193,
   "metadata": {},
   "outputs": [
    {
     "name": "stdout",
     "output_type": "stream",
     "text": [
      "horizontal stack: \n",
      " [1 2 4 1 2 4]\n",
      "vertical stack: \n",
      " [[1 2 4]\n",
      " [1 2 4]]\n"
     ]
    }
   ],
   "source": [
    "a = np.array([1, 2, 4])\n",
    "b = np.array([1, 2, 4])\n",
    "print('horizontal stack:', '\\n', np.hstack((a,b)))\n",
    "print('vertical stack:', '\\n',   np.vstack((a,b)))"
   ]
  },
  {
   "cell_type": "markdown",
   "metadata": {},
   "source": [
    "Сортировки и поиск"
   ]
  },
  {
   "cell_type": "code",
   "execution_count": 194,
   "metadata": {},
   "outputs": [
    {
     "name": "stdout",
     "output_type": "stream",
     "text": [
      "sorted arr: [ 1  2  3 10 12]\n",
      "value (2) index in arr: 1\n"
     ]
    }
   ],
   "source": [
    "a = np.array([10,3,12,1,2])\n",
    "print('sorted arr:',             np.sort(a))\n",
    "print('value (2) index in arr:', np.searchsorted(np.sort(a), 2))"
   ]
  },
  {
   "cell_type": "markdown",
   "metadata": {},
   "source": [
    "Копирование, следует использовать *copy()* - создает полную копию исходного массива не изменяя его в дальнейшем"
   ]
  },
  {
   "cell_type": "code",
   "execution_count": 173,
   "metadata": {},
   "outputs": [
    {
     "name": "stdout",
     "output_type": "stream",
     "text": [
      "shape of a: (6,)\n",
      "shape of b: (3, 2)\n",
      "shape of a after b reshape: (3, 2)\n"
     ]
    }
   ],
   "source": [
    "a = np.arange(6)\n",
    "print('shape of a:', a.shape)\n",
    "b = a\n",
    "b.shape = 3,2\n",
    "print('shape of b:', b.shape)\n",
    "print('shape of a after b reshape:', a.shape)"
   ]
  },
  {
   "cell_type": "code",
   "execution_count": 174,
   "metadata": {},
   "outputs": [
    {
     "name": "stdout",
     "output_type": "stream",
     "text": [
      "shape of a: (6,)\n",
      "shape of b: (3, 2)\n",
      "shape of a after b reshape: (6,)\n"
     ]
    }
   ],
   "source": [
    "a = np.arange(6)\n",
    "print('shape of a:', a.shape)\n",
    "b = a.copy()\n",
    "b.shape = 3,2\n",
    "print('shape of b:', b.shape)\n",
    "print('shape of a after b reshape:', a.shape)"
   ]
  },
  {
   "cell_type": "markdown",
   "metadata": {},
   "source": [
    "Инициализация массивов нулями/ единицами/ рандом 0..1"
   ]
  },
  {
   "cell_type": "code",
   "execution_count": 149,
   "metadata": {},
   "outputs": [
    {
     "name": "stdout",
     "output_type": "stream",
     "text": [
      "zeros: \n",
      " [[0. 0.]\n",
      " [0. 0.]\n",
      " [0. 0.]]\n",
      "ones: \n",
      " [[1. 1.]\n",
      " [1. 1.]\n",
      " [1. 1.]]\n",
      "random: \n",
      " [[0.47817745 0.13293264]\n",
      " [0.98429588 0.5549978 ]\n",
      " [0.87514723 0.13468544]]\n"
     ]
    }
   ],
   "source": [
    "print('zeros:', '\\n',  np.zeros((3,2)))\n",
    "print('ones:', '\\n',   np.ones((3,2)))\n",
    "print('random:', '\\n', np.random.random((3,2)))"
   ]
  },
  {
   "cell_type": "markdown",
   "metadata": {},
   "source": [
    "Получить только уникальные значения из списка"
   ]
  },
  {
   "cell_type": "code",
   "execution_count": 150,
   "metadata": {},
   "outputs": [
    {
     "name": "stdout",
     "output_type": "stream",
     "text": [
      "[1 2 3]\n"
     ]
    }
   ],
   "source": [
    "print(np.unique([1,2,3,1,2,3,1,2,3]))"
   ]
  },
  {
   "cell_type": "markdown",
   "metadata": {},
   "source": [
    "Разворот массива"
   ]
  },
  {
   "cell_type": "code",
   "execution_count": 159,
   "metadata": {},
   "outputs": [
    {
     "name": "stdout",
     "output_type": "stream",
     "text": [
      "flip 1D array: [16  8  4  2  1]\n",
      "flip 2D array: \n",
      " [[32 16  8]\n",
      " [ 4  2  1]]\n",
      "flip 2D array: \n",
      " [[ 4  2  1]\n",
      " [32 16  8]]\n"
     ]
    }
   ],
   "source": [
    "print('flip 1D array:',       np.flip(np.array([1, 2, 4, 8, 16])))\n",
    "print('flip 2D array:', '\\n', np.flip(np.array([[1, 2, 4], [8, 16, 32]])))\n",
    "print('flip 2D array:', '\\n', np.flip(np.array([[1, 2, 4], [8, 16, 32]]), axis=1))"
   ]
  },
  {
   "cell_type": "markdown",
   "metadata": {},
   "source": [
    "Одномерный массив из матрицы *flatten()* - создает и обрабатывает копию, *ravel()* - обрабатывает исходный массив => эффективнее, но изменения будут влиять на исходный массив"
   ]
  },
  {
   "cell_type": "code",
   "execution_count": 170,
   "metadata": {},
   "outputs": [
    {
     "name": "stdout",
     "output_type": "stream",
     "text": [
      "original: \n",
      " [[ 1  2  4]\n",
      " [ 8 16 32]]\n",
      "==========================\n",
      "flatten: [ 1  2  4  8 16 32]\n",
      "flatten: [10  2  4  8 16 32]\n",
      "original: \n",
      " [[ 1  2  4]\n",
      " [ 8 16 32]]\n",
      "==========================\n",
      "ravel: [ 1  2  4  8 16 32]\n",
      "ravel: [10  2  4  8 16 32]\n",
      "original: \n",
      " [[10  2  4]\n",
      " [ 8 16 32]]\n"
     ]
    }
   ],
   "source": [
    "a = np.array([[1, 2, 4], [8, 16, 32]])\n",
    "print('original:', '\\n', a)\n",
    "\n",
    "print('==========================')\n",
    "b = a.flatten()\n",
    "print('flatten:',   b)\n",
    "b[0] = 10\n",
    "print('flatten:',   b)\n",
    "print('original:', '\\n', a)\n",
    "\n",
    "print('==========================')\n",
    "b = a.ravel()\n",
    "print('ravel:',   b)\n",
    "b[0] = 10\n",
    "print('ravel:',   b)\n",
    "print('original:', '\\n', a)"
   ]
  },
  {
   "cell_type": "markdown",
   "metadata": {},
   "source": [
    "np.linspace(start, stop, num) - создает список равноудаленных значений на определенном диапазоне"
   ]
  },
  {
   "cell_type": "code",
   "execution_count": 185,
   "metadata": {},
   "outputs": [
    {
     "data": {
      "image/png": "[encoded data removed]",
      "text/plain": [
       "<Figure size 432x288 with 1 Axes>"
      ]
     },
     "metadata": {},
     "output_type": "display_data"
    }
   ],
   "source": [
    "import matplotlib.pyplot as plt\n",
    "x = np.linspace(0, 15, 50)\n",
    "y = np.sin(x)\n",
    "plt.plot(x, y, 'purple') # line\n",
    "plt.plot(x, y, 'o')      # dots\n",
    "plt.show()"
   ]
  },
  {
   "cell_type": "code",
   "execution_count": null,
   "metadata": {},
   "outputs": [],
   "source": []
  },
  {
   "cell_type": "code",
   "execution_count": null,
   "metadata": {},
   "outputs": [],
   "source": []
  },
  {
   "cell_type": "code",
   "execution_count": null,
   "metadata": {},
   "outputs": [],
   "source": []
  },
  {
   "cell_type": "markdown",
   "metadata": {},
   "source": [
    "##### Преимущество по скорости"
   ]
  },
  {
   "cell_type": "code",
   "execution_count": 101,
   "metadata": {
    "ExecuteTime": {
     "end_time": "2019-09-27T00:47:21.752536Z",
     "start_time": "2019-09-27T00:47:21.749025Z"
    }
   },
   "outputs": [],
   "source": [
    "a = list(range(10000))\n",
    "b = list(range(10000))"
   ]
  },
  {
   "cell_type": "code",
   "execution_count": 102,
   "metadata": {
    "ExecuteTime": {
     "end_time": "2019-09-27T00:47:27.099920Z",
     "start_time": "2019-09-27T00:47:21.902919Z"
    }
   },
   "outputs": [
    {
     "name": "stdout",
     "output_type": "stream",
     "text": [
      "630 µs ± 8.32 µs per loop (mean ± std. dev. of 7 runs, 1000 loops each)\n"
     ]
    }
   ],
   "source": [
    "%%timeit\n",
    "c = [\n",
    "    x * y\n",
    "    for x, y in zip(a, b)\n",
    "]"
   ]
  },
  {
   "cell_type": "code",
   "execution_count": 103,
   "metadata": {
    "ExecuteTime": {
     "end_time": "2019-09-27T00:47:27.106433Z",
     "start_time": "2019-09-27T00:47:27.101677Z"
    }
   },
   "outputs": [],
   "source": [
    "a = np.array(a)\n",
    "b = np.array(b)"
   ]
  },
  {
   "cell_type": "code",
   "execution_count": 104,
   "metadata": {
    "ExecuteTime": {
     "end_time": "2019-09-27T00:47:32.981506Z",
     "start_time": "2019-09-27T00:47:27.108139Z"
    }
   },
   "outputs": [
    {
     "name": "stdout",
     "output_type": "stream",
     "text": [
      "8.73 µs ± 53.9 ns per loop (mean ± std. dev. of 7 runs, 100000 loops each)\n"
     ]
    }
   ],
   "source": [
    "%%timeit\n",
    "c = a * b"
   ]
  },
  {
   "cell_type": "code",
   "execution_count": 105,
   "metadata": {
    "ExecuteTime": {
     "end_time": "2019-09-27T00:47:35.455911Z",
     "start_time": "2019-09-27T00:47:32.983342Z"
    }
   },
   "outputs": [
    {
     "name": "stdout",
     "output_type": "stream",
     "text": [
      "2.57 ms ± 33.8 µs per loop (mean ± std. dev. of 7 runs, 100 loops each)\n"
     ]
    }
   ],
   "source": [
    "%%timeit\n",
    "c = [\n",
    "    x * y\n",
    "    for x, y in zip(a, b)\n",
    "]"
   ]
  },
  {
   "cell_type": "markdown",
   "metadata": {},
   "source": [
    "Операции с массивами в 100 раз быстрее, хотя если мы пробуем использовать обычный питоновский код поверх массивов, то получается существенно медленнее"
   ]
  },
  {
   "cell_type": "markdown",
   "metadata": {},
   "source": [
    "### Выводы:\n",
    "\n",
    "Для большей производительности лучше использовать арифметические операции над массивами"
   ]
  },
  {
   "cell_type": "code",
   "execution_count": null,
   "metadata": {},
   "outputs": [],
   "source": []
  },
  {
   "cell_type": "code",
   "execution_count": null,
   "metadata": {},
   "outputs": [],
   "source": []
  },
  {
   "cell_type": "markdown",
   "metadata": {},
   "source": [
    "##### random"
   ]
  },
  {
   "cell_type": "markdown",
   "metadata": {},
   "source": [
    "В numpy есть аналог модуля random - numpy.random. Используя типизацию из C, он как и свой аналог генерирует случайные данные."
   ]
  },
  {
   "cell_type": "code",
   "execution_count": 100,
   "metadata": {
    "ExecuteTime": {
     "end_time": "2019-09-27T00:47:35.462283Z",
     "start_time": "2019-09-27T00:47:35.457438Z"
    }
   },
   "outputs": [
    {
     "data": {
      "text/plain": [
       "array([[[0.69255245, 0.67013254, 0.4916416 , 0.74264444],\n",
       "        [0.98180276, 0.24723266, 0.40992195, 0.42554582],\n",
       "        [0.74520809, 0.0730674 , 0.41290252, 0.22806923]],\n",
       "\n",
       "       [[0.88459765, 0.64535606, 0.90614973, 0.1020952 ],\n",
       "        [0.38924571, 0.03056059, 0.29299615, 0.76949044],\n",
       "        [0.98074012, 0.02644419, 0.82836302, 0.1861475 ]]])"
      ]
     },
     "execution_count": 100,
     "metadata": {},
     "output_type": "execute_result"
    }
   ],
   "source": [
    "np.random.rand(2, 3, 4) # равномерное от 0 до 1 распределение в заданном shape"
   ]
  },
  {
   "cell_type": "code",
   "execution_count": 101,
   "metadata": {
    "ExecuteTime": {
     "end_time": "2019-09-27T00:47:35.467115Z",
     "start_time": "2019-09-27T00:47:35.463970Z"
    }
   },
   "outputs": [
    {
     "data": {
      "text/plain": [
       "(2, 3, 4)"
      ]
     },
     "execution_count": 101,
     "metadata": {},
     "output_type": "execute_result"
    }
   ],
   "source": [
    "np.random.rand(2, 3, 4).shape"
   ]
  },
  {
   "cell_type": "code",
   "execution_count": 102,
   "metadata": {
    "ExecuteTime": {
     "end_time": "2019-09-27T00:47:35.472831Z",
     "start_time": "2019-09-27T00:47:35.468700Z"
    }
   },
   "outputs": [
    {
     "data": {
      "text/plain": [
       "array([[[-0.80911812, -0.4329724 ,  1.25058777, -0.24265171],\n",
       "        [ 0.08660027, -0.29900456, -1.26918906, -0.16621164],\n",
       "        [-0.73306372, -0.9887762 , -1.45856065, -1.89164795]],\n",
       "\n",
       "       [[ 1.20947998, -0.6844489 , -0.82892565,  1.69647088],\n",
       "        [ 0.74176709,  0.85591201,  0.15803534, -1.04836427],\n",
       "        [ 1.12257908,  0.75717388,  0.45155154, -1.52756291]]])"
      ]
     },
     "execution_count": 102,
     "metadata": {},
     "output_type": "execute_result"
    }
   ],
   "source": [
    "np.random.randn(2, 3, 4) # нормальное распределение в заданном shape"
   ]
  },
  {
   "cell_type": "code",
   "execution_count": 103,
   "metadata": {
    "ExecuteTime": {
     "end_time": "2019-09-27T09:20:07.146815Z",
     "start_time": "2019-09-27T09:20:07.143049Z"
    }
   },
   "outputs": [
    {
     "data": {
      "text/plain": [
       "b'\\x0c\\xe0]\\xb1\\xc7L\\xee\\x8eT\\xb1'"
      ]
     },
     "execution_count": 103,
     "metadata": {},
     "output_type": "execute_result"
    }
   ],
   "source": [
    "np.random.bytes(10) # случайные байты"
   ]
  },
  {
   "cell_type": "markdown",
   "metadata": {},
   "source": [
    "Можно генерировать и другие распределения, подробности тут:\n",
    "\n",
    "https://docs.scipy.org/doc/numpy/reference/random/index.html"
   ]
  },
  {
   "cell_type": "markdown",
   "metadata": {},
   "source": [
    "##### saving"
   ]
  },
  {
   "cell_type": "code",
   "execution_count": 179,
   "metadata": {},
   "outputs": [],
   "source": [
    "a = np.array([1,2,3,4])\n",
    "np.savetxt('new_file.csv', a, header='', footer='')"
   ]
  },
  {
   "cell_type": "code",
   "execution_count": 180,
   "metadata": {},
   "outputs": [
    {
     "data": {
      "text/plain": [
       "array([1., 2., 3., 4.])"
      ]
     },
     "execution_count": 180,
     "metadata": {},
     "output_type": "execute_result"
    }
   ],
   "source": [
    "loaded = np.loadtxt('new_file.csv')\n",
    "loaded"
   ]
  },
  {
   "cell_type": "code",
   "execution_count": null,
   "metadata": {},
   "outputs": [],
   "source": []
  },
  {
   "cell_type": "code",
   "execution_count": null,
   "metadata": {},
   "outputs": [],
   "source": []
  },
  {
   "cell_type": "markdown",
   "metadata": {},
   "source": [
    "#### Ещё один пример эффективных вычислений"
   ]
  },
  {
   "cell_type": "markdown",
   "metadata": {},
   "source": [
    "В заключение приведём ещё один пример, где использование numpy существенно ускоряет код"
   ]
  },
  {
   "cell_type": "markdown",
   "metadata": {},
   "source": [
    "В математике определена операция перемножения матриц (двухмерных массивов)\n",
    "\n",
    "$A \\times B = C$\n",
    "\n",
    "$C_{ij} = \\sum_k A_{ik} B_{kj}$"
   ]
  },
  {
   "cell_type": "markdown",
   "metadata": {},
   "source": [
    "сгенерируем случайные матрицы"
   ]
  },
  {
   "cell_type": "code",
   "execution_count": 104,
   "metadata": {
    "ExecuteTime": {
     "end_time": "2019-09-27T09:20:25.621756Z",
     "start_time": "2019-09-27T09:20:25.617666Z"
    }
   },
   "outputs": [],
   "source": [
    "A = np.random.randint(1000, size=(200, 100))\n",
    "B = np.random.randint(1000, size=(100, 300))"
   ]
  },
  {
   "cell_type": "markdown",
   "metadata": {},
   "source": [
    "умножение на основе numpy"
   ]
  },
  {
   "cell_type": "code",
   "execution_count": 105,
   "metadata": {
    "ExecuteTime": {
     "end_time": "2019-09-27T00:47:45.171396Z",
     "start_time": "2019-09-27T00:47:45.168758Z"
    }
   },
   "outputs": [],
   "source": [
    "def np_multiply():\n",
    "    return np.dot(A, B)"
   ]
  },
  {
   "cell_type": "code",
   "execution_count": 106,
   "metadata": {
    "ExecuteTime": {
     "end_time": "2019-09-27T00:47:48.232488Z",
     "start_time": "2019-09-27T00:47:45.584478Z"
    },
    "scrolled": true
   },
   "outputs": [
    {
     "name": "stdout",
     "output_type": "stream",
     "text": [
      "3.4 ms ± 53.5 µs per loop (mean ± std. dev. of 7 runs, 100 loops each)\n"
     ]
    }
   ],
   "source": [
    "%timeit np_multiply()"
   ]
  },
  {
   "cell_type": "markdown",
   "metadata": {
    "collapsed": true
   },
   "source": [
    "если хранить матрицу не как двухмерный массив, а как список списков, то будет дольше работать"
   ]
  },
  {
   "cell_type": "code",
   "execution_count": 107,
   "metadata": {
    "ExecuteTime": {
     "end_time": "2019-09-27T00:47:48.239528Z",
     "start_time": "2019-09-27T00:47:48.234147Z"
    }
   },
   "outputs": [],
   "source": [
    "A = [list(x) for x in A]\n",
    "B = [list(x) for x in B]"
   ]
  },
  {
   "cell_type": "code",
   "execution_count": 108,
   "metadata": {
    "ExecuteTime": {
     "end_time": "2019-09-27T00:47:58.598293Z",
     "start_time": "2019-09-27T00:47:51.590995Z"
    }
   },
   "outputs": [
    {
     "name": "stdout",
     "output_type": "stream",
     "text": [
      "9.01 ms ± 27.5 µs per loop (mean ± std. dev. of 7 runs, 100 loops each)\n"
     ]
    }
   ],
   "source": [
    "%timeit np_multiply()"
   ]
  },
  {
   "cell_type": "markdown",
   "metadata": {},
   "source": [
    "а это умножение на чистом питоновском коде"
   ]
  },
  {
   "cell_type": "code",
   "execution_count": 109,
   "metadata": {
    "ExecuteTime": {
     "end_time": "2019-09-27T00:47:58.604118Z",
     "start_time": "2019-09-27T00:47:58.600121Z"
    }
   },
   "outputs": [],
   "source": [
    "def python_multiply():\n",
    "    res = []\n",
    "    for i in range(200):\n",
    "        row = []\n",
    "        for j in range(300):\n",
    "            val = 0\n",
    "            for k in range(100):\n",
    "                val += A[i][k] * B[k][j]\n",
    "            row.append(val)\n",
    "        res.append(row)\n",
    "    return res"
   ]
  },
  {
   "cell_type": "code",
   "execution_count": 110,
   "metadata": {
    "ExecuteTime": {
     "end_time": "2019-09-27T00:48:14.984462Z",
     "start_time": "2019-09-27T00:47:58.680095Z"
    }
   },
   "outputs": [
    {
     "name": "stdout",
     "output_type": "stream",
     "text": [
      "1.58 s ± 30.4 ms per loop (mean ± std. dev. of 7 runs, 1 loop each)\n"
     ]
    }
   ],
   "source": [
    "%timeit python_multiply()"
   ]
  },
  {
   "cell_type": "markdown",
   "metadata": {},
   "source": [
    "Ускорение более чем в 100 раз"
   ]
  },
  {
   "cell_type": "code",
   "execution_count": null,
   "metadata": {},
   "outputs": [],
   "source": []
  },
  {
   "cell_type": "code",
   "execution_count": null,
   "metadata": {},
   "outputs": [],
   "source": []
  }
 ],
 "metadata": {
  "kernelspec": {
   "display_name": "Python 3",
   "language": "python",
   "name": "python3"
  },
  "language_info": {
   "codemirror_mode": {
    "name": "ipython",
    "version": 3
   },
   "file_extension": ".py",
   "mimetype": "text/x-python",
   "name": "python",
   "nbconvert_exporter": "python",
   "pygments_lexer": "ipython3",
   "version": "3.6.5"
  },
  "toc": {
   "base_numbering": 1,
   "nav_menu": {},
   "number_sections": true,
   "sideBar": true,
   "skip_h1_title": false,
   "title_cell": "Table of Contents",
   "title_sidebar": "Contents",
   "toc_cell": false,
   "toc_position": {},
   "toc_section_display": true,
   "toc_window_display": true
  }
 },
 "nbformat": 4,
 "nbformat_minor": 2
}
